{
  "nbformat": 4,
  "nbformat_minor": 0,
  "metadata": {
    "colab": {
      "provenance": [],
      "include_colab_link": true
    },
    "kernelspec": {
      "name": "python3",
      "display_name": "Python 3"
    },
    "language_info": {
      "name": "python"
    }
  },
  "cells": [
    {
      "cell_type": "markdown",
      "metadata": {
        "id": "view-in-github",
        "colab_type": "text"
      },
      "source": [
        "<a href=\"https://colab.research.google.com/github/pksheaad/pytorch/blob/main/ExtraCalicular_Pytorch.ipynb\" target=\"_parent\"><img src=\"https://colab.research.google.com/assets/colab-badge.svg\" alt=\"Open In Colab\"/></a>"
      ]
    },
    {
      "cell_type": "markdown",
      "source": [
        "\n",
        "\n",
        "```\n",
        "# Saving and Loading Models\n",
        "```\n",
        "When it comes to saving and loading models, there are three core functions to be familiar with:\n",
        "\n",
        "torch.save: Saves a serialized object to disk. This function uses Python’s pickle utility for serialization. Models, tensors, and dictionaries of all kinds of objects can be saved using this function.\n",
        "\n",
        "torch.load: Uses pickle’s unpickling facilities to deserialize pickled object files to memory. This function also facilitates the device to load the data into (see Saving & Loading Model Across Devices).\n",
        "\n",
        "torch.nn.Module.load_state_dict: Loads a model’s parameter dictionary using a deserialized state_dict. For more information on state_dict, see What is a state_dict?.\n",
        "\n"
      ],
      "metadata": {
        "id": "pIeS313zH8R3"
      }
    },
    {
      "cell_type": "code",
      "source": [
        "import torch\n",
        "from torch import nn\n",
        "class TheModelClass(nn.Module):\n",
        "  def __init__(self) -> None:\n",
        "    super().__init__()\n",
        "    self.conv1 = nn.Conv1d(in_channels=3,out_channels=6,kernel_size=5)\n",
        "    self.pool = nn.MaxPool2d(kernel_size=2, stride=2)\n",
        "    self.conv2 = nn.Conv2d(in_channels=6, out_channels=16,kernel_size=5)\n",
        "    self.fc1 = nn.Linear(in_features=15*5*5,out_features=120)\n",
        "    self.fc2 = nn.Linear(in_features=120,out_features=84)\n",
        "    self.fc2 = nn.Linear(in_features= 84, out_features=10)\n",
        "\n",
        "\n",
        "  # Implement the forward Menthod\n",
        "  def forward(self, x:torch.Tensor)->torch.Tensor:\n",
        "      x = self.pool(F.relu(self.conv1(x)))\n",
        "      x = self.pool(F.relu(self.conv2(x)))\n",
        "      x = x.view(-1, 16 * 5 * 5)\n",
        "      x = F.relu(self.fc1(x))\n",
        "      x = F.relu(self.fc2(x))\n",
        "      x = self.fc3(x)\n",
        "      return x\n",
        "\n",
        "# Initialze the Class\n",
        "model = TheModelClass()\n",
        "\n",
        "# Initialize the parameters\n",
        "optimizer = torch.optim.SGD(params=model.parameters(), lr =0.001, momentum=0.9)\n",
        "\n",
        "# Get the all parameter\n",
        "#print(model.state_dict)\n",
        "\n",
        "# Print model state dict:\n",
        "for param_tensor in model.state_dict():\n",
        "  print(f\"{param_tensor}  size = {model.state_dict()[param_tensor].size()}\")\n",
        "\n",
        "# Print Optimizer state dict\n",
        "for var_name in optimizer.state_dict():\n",
        "  print(var_name, \"\\t\", optimizer.state_dict()[var_name] )\n",
        "\n",
        "# save the state_dict\n",
        "torch.save(model.state_dict(), \"model_state_dict\")\n",
        "torch.save(optimizer.state_dict(), \"optimizer_state_dict\")\n",
        "\n",
        "# load the state_dict\n",
        "model.load_state_dict(torch.load(\"model_state_dict\" ,weights_only=True),)\n",
        "model.load_state_dict(torch.load(\"optimizer_state_dict\", weights_only=True))\n",
        "model.eval()\n"
      ],
      "metadata": {
        "id": "9WHBg9jBIRi2",
        "outputId": "1ab8eadb-81fb-4591-c485-c876185892c2",
        "colab": {
          "base_uri": "https://localhost:8080/"
        }
      },
      "execution_count": 2,
      "outputs": [
        {
          "output_type": "stream",
          "name": "stdout",
          "text": [
            "conv1.weight  size = torch.Size([6, 3, 5])\n",
            "conv1.bias  size = torch.Size([6])\n",
            "conv2.weight  size = torch.Size([16, 6, 5, 5])\n",
            "conv2.bias  size = torch.Size([16])\n",
            "fc1.weight  size = torch.Size([120, 375])\n",
            "fc1.bias  size = torch.Size([120])\n",
            "fc2.weight  size = torch.Size([10, 84])\n",
            "fc2.bias  size = torch.Size([10])\n",
            "state \t {}\n",
            "param_groups \t [{'lr': 0.001, 'momentum': 0.9, 'dampening': 0, 'weight_decay': 0, 'nesterov': False, 'maximize': False, 'foreach': None, 'differentiable': False, 'fused': None, 'params': [0, 1, 2, 3, 4, 5, 6, 7]}]\n"
          ]
        }
      ]
    },
    {
      "cell_type": "code",
      "source": [],
      "metadata": {
        "id": "TVeYMXI5OFEQ"
      },
      "execution_count": null,
      "outputs": []
    },
    {
      "cell_type": "code",
      "source": [],
      "metadata": {
        "id": "faLrF3L4IAJw"
      },
      "execution_count": null,
      "outputs": []
    },
    {
      "cell_type": "code",
      "execution_count": null,
      "metadata": {
        "id": "z6Rg2rtwHra2"
      },
      "outputs": [],
      "source": []
    }
  ]
}