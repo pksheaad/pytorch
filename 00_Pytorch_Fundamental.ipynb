{
  "nbformat": 4,
  "nbformat_minor": 0,
  "metadata": {
    "colab": {
      "provenance": [],
      "authorship_tag": "ABX9TyNma3D9zC2XrAKeNW73zg/V",
      "include_colab_link": true
    },
    "kernelspec": {
      "name": "python3",
      "display_name": "Python 3"
    },
    "language_info": {
      "name": "python"
    }
  },
  "cells": [
    {
      "cell_type": "markdown",
      "metadata": {
        "id": "view-in-github",
        "colab_type": "text"
      },
      "source": [
        "<a href=\"https://colab.research.google.com/github/pksheaad/pytorch/blob/main/00_Pytorch_Fundamental.ipynb\" target=\"_parent\"><img src=\"https://colab.research.google.com/assets/colab-badge.svg\" alt=\"Open In Colab\"/></a>"
      ]
    },
    {
      "cell_type": "markdown",
      "source": [
        "## PYTORCH Basic Fundamental"
      ],
      "metadata": {
        "id": "6_sbbmk2eVzh"
      }
    },
    {
      "cell_type": "code",
      "source": [
        "import torch\n",
        "from torch import nn #// nn contains all building block of neural network\n",
        "from matplotlib.pyplot import plot\n",
        "import numpy as np\n",
        "\n",
        "\n",
        "torch.__version__"
      ],
      "metadata": {
        "colab": {
          "base_uri": "https://localhost:8080/",
          "height": 35
        },
        "id": "88jUbyRgeeFl",
        "outputId": "18454df2-6110-4dca-90c7-41004160db12"
      },
      "execution_count": 1,
      "outputs": [
        {
          "output_type": "execute_result",
          "data": {
            "text/plain": [
              "'2.8.0+cu126'"
            ],
            "application/vnd.google.colaboratory.intrinsic+json": {
              "type": "string"
            }
          },
          "metadata": {},
          "execution_count": 1
        }
      ]
    },
    {
      "cell_type": "markdown",
      "source": [
        "### Initializing and basic operations\n",
        "\n",
        "A tensor can be constructed from a Python list or sequence using the torch.tensor() constructor:"
      ],
      "metadata": {
        "id": "DKRXbmB0ik1Z"
      }
    },
    {
      "cell_type": "code",
      "source": [
        "vector = torch.tensor([[1.,-1.],[1.,-1.]])\n",
        "vector"
      ],
      "metadata": {
        "colab": {
          "base_uri": "https://localhost:8080/"
        },
        "id": "QiCoiZiwivKz",
        "outputId": "d410251d-5a00-4862-8785-72bed4a061f7"
      },
      "execution_count": 2,
      "outputs": [
        {
          "output_type": "execute_result",
          "data": {
            "text/plain": [
              "tensor([[ 1., -1.],\n",
              "        [ 1., -1.]])"
            ]
          },
          "metadata": {},
          "execution_count": 2
        }
      ]
    },
    {
      "cell_type": "code",
      "source": [
        "torch.tensor(np.array(vector))"
      ],
      "metadata": {
        "colab": {
          "base_uri": "https://localhost:8080/"
        },
        "id": "MmcrUEclj6fo",
        "outputId": "ce4164b3-0dbc-4806-f177-744c44939853"
      },
      "execution_count": 3,
      "outputs": [
        {
          "output_type": "execute_result",
          "data": {
            "text/plain": [
              "tensor([[ 1., -1.],\n",
              "        [ 1., -1.]])"
            ]
          },
          "metadata": {},
          "execution_count": 3
        }
      ]
    },
    {
      "cell_type": "markdown",
      "source": [
        "A tensor of specific data type can be constructed by passing a torch.dtype and/or a torch.device to a constructor or tensor creation op:"
      ],
      "metadata": {
        "id": "43eHgQIek0tl"
      }
    },
    {
      "cell_type": "code",
      "source": [
        "torch.zeros([2,4], dtype=torch.int32, device=\"cpu\")"
      ],
      "metadata": {
        "colab": {
          "base_uri": "https://localhost:8080/"
        },
        "id": "rq113PNbj0aL",
        "outputId": "4086e72f-629b-47b1-9859-e50a8d3d495f"
      },
      "execution_count": 4,
      "outputs": [
        {
          "output_type": "execute_result",
          "data": {
            "text/plain": [
              "tensor([[0, 0, 0, 0],\n",
              "        [0, 0, 0, 0]], dtype=torch.int32)"
            ]
          },
          "metadata": {},
          "execution_count": 4
        }
      ]
    },
    {
      "cell_type": "code",
      "source": [
        "#cuda0 = torch.device('cuda:0')\n",
        "torch.ones([3,5], dtype=torch.float64, device=\"cpu\")"
      ],
      "metadata": {
        "colab": {
          "base_uri": "https://localhost:8080/"
        },
        "id": "srYkiiBJlR3y",
        "outputId": "a55e4d24-db8e-4ae5-8346-cb7da7a76e03"
      },
      "execution_count": 5,
      "outputs": [
        {
          "output_type": "execute_result",
          "data": {
            "text/plain": [
              "tensor([[1., 1., 1., 1., 1.],\n",
              "        [1., 1., 1., 1., 1.],\n",
              "        [1., 1., 1., 1., 1.]], dtype=torch.float64)"
            ]
          },
          "metadata": {},
          "execution_count": 5
        }
      ]
    },
    {
      "cell_type": "markdown",
      "source": [
        "The contents of a tensor can be accessed and modified using Python’s indexing and slicing notation:"
      ],
      "metadata": {
        "id": "Y_8sgV1hmOy3"
      }
    },
    {
      "cell_type": "code",
      "source": [
        "x = torch.tensor([[1,5,8],[3,7,9],[4,5,6]])\n",
        "x\n",
        "print(x[0])\n",
        "print(x[1][2])\n",
        "x[2,2] = 10\n",
        "x"
      ],
      "metadata": {
        "colab": {
          "base_uri": "https://localhost:8080/"
        },
        "id": "tBEkpAaZmQG8",
        "outputId": "6565ccd3-05d5-4ce8-bf31-f2e556600852"
      },
      "execution_count": 6,
      "outputs": [
        {
          "output_type": "stream",
          "name": "stdout",
          "text": [
            "tensor([1, 5, 8])\n",
            "tensor(9)\n"
          ]
        },
        {
          "output_type": "execute_result",
          "data": {
            "text/plain": [
              "tensor([[ 1,  5,  8],\n",
              "        [ 3,  7,  9],\n",
              "        [ 4,  5, 10]])"
            ]
          },
          "metadata": {},
          "execution_count": 6
        }
      ]
    },
    {
      "cell_type": "markdown",
      "source": [
        "Use torch.Tensor.item() to get a Python number from a tensor containing a single value:"
      ],
      "metadata": {
        "id": "OVKIG1SIm-aC"
      }
    },
    {
      "cell_type": "code",
      "source": [
        "x = torch.tensor(10.00)\n",
        "print(x)\n",
        "print(x.item())"
      ],
      "metadata": {
        "colab": {
          "base_uri": "https://localhost:8080/"
        },
        "id": "OoBTKY7enIz2",
        "outputId": "0a6c927a-b89f-4da3-83c1-f416fd4642fa"
      },
      "execution_count": 7,
      "outputs": [
        {
          "output_type": "stream",
          "name": "stdout",
          "text": [
            "tensor(10.)\n",
            "10.0\n"
          ]
        }
      ]
    },
    {
      "cell_type": "code",
      "source": [
        "x = torch.tensor(5)\n",
        "x\n",
        "print(x.item())"
      ],
      "metadata": {
        "colab": {
          "base_uri": "https://localhost:8080/"
        },
        "id": "zVZoZs8qmoY3",
        "outputId": "d7f1a476-3f1a-48ee-8e67-b5295be55fac"
      },
      "execution_count": 8,
      "outputs": [
        {
          "output_type": "stream",
          "name": "stdout",
          "text": [
            "5\n"
          ]
        }
      ]
    },
    {
      "cell_type": "code",
      "source": [
        "scaler = torch.tensor(7)\n",
        "scaler"
      ],
      "metadata": {
        "colab": {
          "base_uri": "https://localhost:8080/"
        },
        "id": "-YSKIwLenTg1",
        "outputId": "fe38d580-ac8f-47e7-f241-d6f7f4bace19"
      },
      "execution_count": 9,
      "outputs": [
        {
          "output_type": "execute_result",
          "data": {
            "text/plain": [
              "tensor(7)"
            ]
          },
          "metadata": {},
          "execution_count": 9
        }
      ]
    },
    {
      "cell_type": "markdown",
      "source": [
        "We can check the dimensions of a tensor using the ndim attribute."
      ],
      "metadata": {
        "id": "Anh8ouvYn1LS"
      }
    },
    {
      "cell_type": "code",
      "source": [
        "scaler.ndim"
      ],
      "metadata": {
        "colab": {
          "base_uri": "https://localhost:8080/"
        },
        "id": "xm70XMnLldsO",
        "outputId": "b64bad66-27c2-46e6-e3c6-b06501a79d83"
      },
      "execution_count": 10,
      "outputs": [
        {
          "output_type": "execute_result",
          "data": {
            "text/plain": [
              "0"
            ]
          },
          "metadata": {},
          "execution_count": 10
        }
      ]
    },
    {
      "cell_type": "markdown",
      "source": [
        "torch.Tensor to a Python integer can we done by item() method"
      ],
      "metadata": {
        "id": "UxxyNqA9oIUH"
      }
    },
    {
      "cell_type": "code",
      "source": [
        "scaler.item()"
      ],
      "metadata": {
        "colab": {
          "base_uri": "https://localhost:8080/"
        },
        "id": "edvxWMaioPq7",
        "outputId": "c19992e7-8b92-4138-c802-259a2de18024"
      },
      "execution_count": 11,
      "outputs": [
        {
          "output_type": "execute_result",
          "data": {
            "text/plain": [
              "7"
            ]
          },
          "metadata": {},
          "execution_count": 11
        }
      ]
    },
    {
      "cell_type": "code",
      "source": [
        "vector = torch.tensor([7.,7])\n",
        "# dimension of vector\n",
        "print(vector.ndim)\n",
        "# shape of vector, Shapes tells us how the elemnt in the vector are arranged\n",
        "print(vector.shape)"
      ],
      "metadata": {
        "colab": {
          "base_uri": "https://localhost:8080/"
        },
        "id": "UzpVdt-doSzl",
        "outputId": "bf3609d4-2912-4a7d-b90c-542ad99b42ea"
      },
      "execution_count": 12,
      "outputs": [
        {
          "output_type": "stream",
          "name": "stdout",
          "text": [
            "1\n",
            "torch.Size([2])\n"
          ]
        }
      ]
    },
    {
      "cell_type": "code",
      "source": [
        "print(vector[0].tolist())"
      ],
      "metadata": {
        "colab": {
          "base_uri": "https://localhost:8080/"
        },
        "id": "P-Q00wTFS4PK",
        "outputId": "36dddb13-280e-4975-9f21-2ee23d7c50c8"
      },
      "execution_count": 13,
      "outputs": [
        {
          "output_type": "stream",
          "name": "stdout",
          "text": [
            "7.0\n"
          ]
        }
      ]
    },
    {
      "cell_type": "code",
      "source": [
        "#MATRIX\n",
        "MATRIX = torch.tensor([[1,2,3],\n",
        "                       [4,5,6],\n",
        "                       [7,8,9]])\n",
        "# Dimension of MATRIX\n",
        "print(MATRIX.ndim)\n",
        "\n",
        "# Shape of MATRIX\n",
        "print(MATRIX.shape)\n",
        "\n",
        "# Accessing element of MATRIX\n",
        "print(MATRIX[0])\n",
        "print(MATRIX[1,1])\n",
        "print(MATRIX[0].tolist())"
      ],
      "metadata": {
        "colab": {
          "base_uri": "https://localhost:8080/"
        },
        "id": "fHzzEUvFpHDb",
        "outputId": "318aef27-c2cc-4b62-b666-f7dda1037098"
      },
      "execution_count": 14,
      "outputs": [
        {
          "output_type": "stream",
          "name": "stdout",
          "text": [
            "2\n",
            "torch.Size([3, 3])\n",
            "tensor([1, 2, 3])\n",
            "tensor(5)\n",
            "[1, 2, 3]\n"
          ]
        }
      ]
    },
    {
      "cell_type": "code",
      "source": [
        "TENSOR = torch.tensor([[[10,20,30],\n",
        "                        [40,50,60],\n",
        "                        [70,80,90]]])"
      ],
      "metadata": {
        "id": "gR-6sueNpz9V"
      },
      "execution_count": 15,
      "outputs": []
    },
    {
      "cell_type": "code",
      "source": [
        "TENSOR\n",
        "print(TENSOR.ndim)\n",
        "print(TENSOR.shape)\n",
        "print(TENSOR[0])\n",
        "print(TENSOR[0][1][2]) # Ans must be 60"
      ],
      "metadata": {
        "colab": {
          "base_uri": "https://localhost:8080/"
        },
        "id": "XVcCf5MwqXYV",
        "outputId": "c8bb55cc-5455-4ab0-847d-5f47ff09ce8b"
      },
      "execution_count": 16,
      "outputs": [
        {
          "output_type": "stream",
          "name": "stdout",
          "text": [
            "3\n",
            "torch.Size([1, 3, 3])\n",
            "tensor([[10, 20, 30],\n",
            "        [40, 50, 60],\n",
            "        [70, 80, 90]])\n",
            "tensor(60)\n"
          ]
        }
      ]
    },
    {
      "cell_type": "code",
      "source": [],
      "metadata": {
        "id": "RWJpulK7qq40"
      },
      "execution_count": 16,
      "outputs": []
    },
    {
      "cell_type": "markdown",
      "source": [
        "#Random tensors\n",
        "\n",
        "A machine learning model often starts out with large random tensors of numbers and adjusts these random numbers as it works through data to better represent it.\n",
        "\n",
        "In essence:\n",
        "\n",
        "Start with random numbers -> look at data -> update random numbers -> look at data -> update random numbers..."
      ],
      "metadata": {
        "id": "OBpsAQ4-u8Mw"
      }
    },
    {
      "cell_type": "code",
      "source": [
        "# Creating a random tensor with scaler data\n",
        "random_tensor = torch.rand(size=(2,))\n",
        "random_tensor\n",
        "\n",
        "# Dimension of random_tensor\n",
        "print(random_tensor.ndim)\n",
        "\n",
        "# Shape of randmon_tensor\n",
        "\n",
        "print(random_tensor.shape)\n"
      ],
      "metadata": {
        "id": "CAQZQOfevL-u",
        "outputId": "58cb4945-a9d6-4551-c8a7-86b5034cb8bc",
        "colab": {
          "base_uri": "https://localhost:8080/"
        }
      },
      "execution_count": 17,
      "outputs": [
        {
          "output_type": "stream",
          "name": "stdout",
          "text": [
            "1\n",
            "torch.Size([2])\n"
          ]
        }
      ]
    },
    {
      "cell_type": "code",
      "source": [
        "# Creating a random tensor with vector data (3,4)\n",
        "random_tensor_vector = torch.rand(size=(3,4))\n",
        "print(random_tensor_vector)\n",
        "# Dimension of random_tensor_vector\n",
        "print(random_tensor_vector.ndim)\n",
        "# Shape of a random_tensor_vector\n",
        "print(random_tensor_vector.shape)"
      ],
      "metadata": {
        "id": "0yPLck3Yv5-N",
        "outputId": "ad7693fd-94ca-4dd1-a2bd-ce0e1c271b27",
        "colab": {
          "base_uri": "https://localhost:8080/"
        }
      },
      "execution_count": 18,
      "outputs": [
        {
          "output_type": "stream",
          "name": "stdout",
          "text": [
            "tensor([[0.9180, 0.4066, 0.2408, 0.6633],\n",
            "        [0.9395, 0.9465, 0.4996, 0.0324],\n",
            "        [0.3928, 0.5970, 0.6242, 0.6217]])\n",
            "2\n",
            "torch.Size([3, 4])\n"
          ]
        }
      ]
    },
    {
      "cell_type": "code",
      "source": [
        "# How to generate an random image size tensor an Image with 3 different color (R,G,B),width=300 and height=300\n",
        "random_image_size_tensor = torch.rand(3,300,300)\n",
        "random_image_size_tensor"
      ],
      "metadata": {
        "id": "ct30lP5cwhdI",
        "outputId": "b894fc57-0437-448d-8e6e-2a2d433b5ee4",
        "colab": {
          "base_uri": "https://localhost:8080/"
        }
      },
      "execution_count": 19,
      "outputs": [
        {
          "output_type": "execute_result",
          "data": {
            "text/plain": [
              "tensor([[[0.1091, 0.9942, 0.1366,  ..., 0.2482, 0.3646, 0.8710],\n",
              "         [0.7331, 0.9235, 0.2843,  ..., 0.5452, 0.0185, 0.6954],\n",
              "         [0.3750, 0.2898, 0.3242,  ..., 0.1920, 0.2639, 0.4064],\n",
              "         ...,\n",
              "         [0.8619, 0.1633, 0.6251,  ..., 0.5682, 0.4615, 0.7317],\n",
              "         [0.3374, 0.3430, 0.2607,  ..., 0.1041, 0.7591, 0.4549],\n",
              "         [0.8645, 0.5865, 0.4580,  ..., 0.8156, 0.9504, 0.1631]],\n",
              "\n",
              "        [[0.5364, 0.4930, 0.0428,  ..., 0.7946, 0.9348, 0.3982],\n",
              "         [0.5390, 0.1927, 0.7399,  ..., 0.8206, 0.7890, 0.5334],\n",
              "         [0.8365, 0.0863, 0.1509,  ..., 0.6719, 0.5352, 0.6991],\n",
              "         ...,\n",
              "         [0.5286, 0.4413, 0.3566,  ..., 0.8580, 0.2189, 0.1482],\n",
              "         [0.1833, 0.6786, 0.1195,  ..., 0.0028, 0.4174, 0.6559],\n",
              "         [0.5621, 0.5916, 0.4387,  ..., 0.4063, 0.8556, 0.3271]],\n",
              "\n",
              "        [[0.2845, 0.2753, 0.8168,  ..., 0.8968, 0.1251, 0.3431],\n",
              "         [0.4244, 0.7550, 0.7142,  ..., 0.3447, 0.2234, 0.5399],\n",
              "         [0.4260, 0.1466, 0.9293,  ..., 0.6118, 0.0614, 0.1335],\n",
              "         ...,\n",
              "         [0.4623, 0.2819, 0.7094,  ..., 0.0320, 0.6548, 0.0753],\n",
              "         [0.7296, 0.6986, 0.6393,  ..., 0.1857, 0.6063, 0.8361],\n",
              "         [0.6460, 0.8879, 0.4747,  ..., 0.1276, 0.8256, 0.0574]]])"
            ]
          },
          "metadata": {},
          "execution_count": 19
        }
      ]
    },
    {
      "cell_type": "markdown",
      "source": [
        "# Zeros and ones¶\n",
        "\n",
        "torch.zeros(size=)\n",
        "\n",
        "torch.ones(size=)"
      ],
      "metadata": {
        "id": "-7LRvggkx85U"
      }
    },
    {
      "cell_type": "code",
      "source": [
        "zeros = torch.zeros(size=(3,4))\n",
        "zeros"
      ],
      "metadata": {
        "id": "NTESBs9IyK1y",
        "outputId": "124ef837-43c9-49c0-e591-d5d4f39bfc1c",
        "colab": {
          "base_uri": "https://localhost:8080/"
        }
      },
      "execution_count": 20,
      "outputs": [
        {
          "output_type": "execute_result",
          "data": {
            "text/plain": [
              "tensor([[0., 0., 0., 0.],\n",
              "        [0., 0., 0., 0.],\n",
              "        [0., 0., 0., 0.]])"
            ]
          },
          "metadata": {},
          "execution_count": 20
        }
      ]
    },
    {
      "cell_type": "code",
      "source": [
        "zeros.dtype"
      ],
      "metadata": {
        "id": "UdFiidqryTFT",
        "outputId": "bbfeb5a0-001c-4d37-c2b0-22b185a536ba",
        "colab": {
          "base_uri": "https://localhost:8080/"
        }
      },
      "execution_count": 21,
      "outputs": [
        {
          "output_type": "execute_result",
          "data": {
            "text/plain": [
              "torch.float32"
            ]
          },
          "metadata": {},
          "execution_count": 21
        }
      ]
    },
    {
      "cell_type": "code",
      "source": [
        "ones = torch.ones(size=(3,4))\n",
        "ones"
      ],
      "metadata": {
        "id": "nVvnQ8styYs4",
        "outputId": "db6447a6-e7e9-4bb7-8ae3-c77cbd809714",
        "colab": {
          "base_uri": "https://localhost:8080/"
        }
      },
      "execution_count": 22,
      "outputs": [
        {
          "output_type": "execute_result",
          "data": {
            "text/plain": [
              "tensor([[1., 1., 1., 1.],\n",
              "        [1., 1., 1., 1.],\n",
              "        [1., 1., 1., 1.]])"
            ]
          },
          "metadata": {},
          "execution_count": 22
        }
      ]
    },
    {
      "cell_type": "code",
      "source": [
        "ones.dtype"
      ],
      "metadata": {
        "id": "v-mhe8JpygUa",
        "outputId": "f26e296d-56b7-4bc4-9c8a-765341b091b3",
        "colab": {
          "base_uri": "https://localhost:8080/"
        }
      },
      "execution_count": 23,
      "outputs": [
        {
          "output_type": "execute_result",
          "data": {
            "text/plain": [
              "torch.float32"
            ]
          },
          "metadata": {},
          "execution_count": 23
        }
      ]
    },
    {
      "cell_type": "markdown",
      "source": [
        "# Creating Range and Like Tensor"
      ],
      "metadata": {
        "id": "w1MKEzvve2Gq"
      }
    },
    {
      "cell_type": "code",
      "source": [
        "# arange method will be used arange(start=, end=, step=)\n",
        "one_to_thousands = torch.arange(start = 0, end=1001, step=100)\n",
        "one_to_thousands"
      ],
      "metadata": {
        "id": "WTvYZmpjyjwE",
        "outputId": "a22615fc-8ce8-4c83-8c1a-4cb380ddffb0",
        "colab": {
          "base_uri": "https://localhost:8080/"
        }
      },
      "execution_count": 24,
      "outputs": [
        {
          "output_type": "execute_result",
          "data": {
            "text/plain": [
              "tensor([   0,  100,  200,  300,  400,  500,  600,  700,  800,  900, 1000])"
            ]
          },
          "metadata": {},
          "execution_count": 24
        }
      ]
    },
    {
      "cell_type": "code",
      "source": [
        "# Creatng Like tensor use like(input) method\n",
        "tens_zeros = torch.zeros_like(one_to_thousands)\n",
        "tens_zeros"
      ],
      "metadata": {
        "id": "5HaY7kK8fSZw",
        "outputId": "3d24b796-eade-4697-e6ab-cf8b8f5dba25",
        "colab": {
          "base_uri": "https://localhost:8080/"
        }
      },
      "execution_count": 25,
      "outputs": [
        {
          "output_type": "execute_result",
          "data": {
            "text/plain": [
              "tensor([0, 0, 0, 0, 0, 0, 0, 0, 0, 0, 0])"
            ]
          },
          "metadata": {},
          "execution_count": 25
        }
      ]
    },
    {
      "cell_type": "code",
      "source": [
        "one_to_ten = torch.arange(0,10,1)\n",
        "one_to_ten"
      ],
      "metadata": {
        "id": "uwhCyFuVfxpN",
        "outputId": "1fabab64-763a-4b41-b4f5-fc043dbf2084",
        "colab": {
          "base_uri": "https://localhost:8080/"
        }
      },
      "execution_count": 26,
      "outputs": [
        {
          "output_type": "execute_result",
          "data": {
            "text/plain": [
              "tensor([0, 1, 2, 3, 4, 5, 6, 7, 8, 9])"
            ]
          },
          "metadata": {},
          "execution_count": 26
        }
      ]
    },
    {
      "cell_type": "code",
      "source": [
        "ten_ones = torch.ones_like(one_to_ten)\n",
        "ten_ones"
      ],
      "metadata": {
        "id": "UI2LVeYTf6Zi",
        "outputId": "e33c5ee4-8dce-4368-dced-7fd7561a2f03",
        "colab": {
          "base_uri": "https://localhost:8080/"
        }
      },
      "execution_count": 27,
      "outputs": [
        {
          "output_type": "execute_result",
          "data": {
            "text/plain": [
              "tensor([1, 1, 1, 1, 1, 1, 1, 1, 1, 1])"
            ]
          },
          "metadata": {},
          "execution_count": 27
        }
      ]
    },
    {
      "cell_type": "markdown",
      "source": [
        "# Data Type in Tensor\n",
        "\n",
        "### Deafult datatype is float32,\n",
        "\n",
        "####Basically three issue we faced while computing in Torch in Deep Learning\n",
        "1. Operation is not same data type Tensor\n",
        "2. Operation on two different shape Tensor\n",
        "3. Operation on two different Tensor running on different devices."
      ],
      "metadata": {
        "id": "1X9TFR2DitNL"
      }
    },
    {
      "cell_type": "code",
      "source": [
        "float_32 = torch.tensor([3.0,6.0,9.0], dtype=None,  # default float32, explicitly define tensor datatype\n",
        "                        device=None, # default cpu explicitly define device type\n",
        "                        requires_grad=False) # If True operation performed on Tensor recorded\n",
        "float_32"
      ],
      "metadata": {
        "id": "qE61n5UWjLYp",
        "outputId": "8a94f002-ea26-4933-aba9-ca132d00ac7a",
        "colab": {
          "base_uri": "https://localhost:8080/"
        }
      },
      "execution_count": 28,
      "outputs": [
        {
          "output_type": "execute_result",
          "data": {
            "text/plain": [
              "tensor([3., 6., 9.])"
            ]
          },
          "metadata": {},
          "execution_count": 28
        }
      ]
    },
    {
      "cell_type": "code",
      "source": [
        "float_32.dtype"
      ],
      "metadata": {
        "id": "uYRUpAe6lrM8",
        "outputId": "a8881ec7-cd30-4a89-bc64-f4fcf93f29d5",
        "colab": {
          "base_uri": "https://localhost:8080/"
        }
      },
      "execution_count": 29,
      "outputs": [
        {
          "output_type": "execute_result",
          "data": {
            "text/plain": [
              "torch.float32"
            ]
          },
          "metadata": {},
          "execution_count": 29
        }
      ]
    },
    {
      "cell_type": "code",
      "source": [
        "float_16_tensor = float_32.type(torch.float16)"
      ],
      "metadata": {
        "id": "F76V2Fm1lt_W"
      },
      "execution_count": 30,
      "outputs": []
    },
    {
      "cell_type": "code",
      "source": [
        "float_16_tensor"
      ],
      "metadata": {
        "id": "xt8JWYAbnVJG",
        "outputId": "145c5f28-5ffc-4533-e43a-7f302efd52b2",
        "colab": {
          "base_uri": "https://localhost:8080/"
        }
      },
      "execution_count": 31,
      "outputs": [
        {
          "output_type": "execute_result",
          "data": {
            "text/plain": [
              "tensor([3., 6., 9.], dtype=torch.float16)"
            ]
          },
          "metadata": {},
          "execution_count": 31
        }
      ]
    },
    {
      "cell_type": "code",
      "source": [
        "int_8_tensor = torch.tensor([1,2,3],dtype=torch.int8)\n",
        "int_8_tensor"
      ],
      "metadata": {
        "id": "BzJIBLcknEJ5",
        "outputId": "6744cd77-6806-400d-a880-19f30a293fe8",
        "colab": {
          "base_uri": "https://localhost:8080/"
        }
      },
      "execution_count": 32,
      "outputs": [
        {
          "output_type": "execute_result",
          "data": {
            "text/plain": [
              "tensor([1, 2, 3], dtype=torch.int8)"
            ]
          },
          "metadata": {},
          "execution_count": 32
        }
      ]
    },
    {
      "cell_type": "markdown",
      "source": [
        "# Getting Attribute of Tensor\n",
        "\n",
        "1. Getting Datatype of Tensor use tensor.dtype\n",
        "2. Getting Shape of Tensor use tensor.shape\n",
        "3. Getting device of Tensor use tensor.device"
      ],
      "metadata": {
        "id": "wcWSsUfMqkP2"
      }
    },
    {
      "cell_type": "code",
      "source": [
        "some_rand_tensor = torch.rand(size = (3,4), dtype=torch.float64)\n",
        "print(some_rand_tensor)\n",
        "print(\"Data type of Tensor is {}\".format(some_rand_tensor.dtype))\n",
        "print(\"Shape of Tensor is {}\".format(some_rand_tensor.shape))\n",
        "print(\"Device is used for Tensor {}\".format(some_rand_tensor.device))"
      ],
      "metadata": {
        "id": "HWUtxO70q_D6",
        "outputId": "c8c4ddad-446e-4a22-c539-0dd94b9b01cb",
        "colab": {
          "base_uri": "https://localhost:8080/"
        }
      },
      "execution_count": 33,
      "outputs": [
        {
          "output_type": "stream",
          "name": "stdout",
          "text": [
            "tensor([[0.0251, 0.1414, 0.2647, 0.2250],\n",
            "        [0.4043, 0.2871, 0.6148, 0.1952],\n",
            "        [0.8515, 0.8287, 0.9121, 0.4421]], dtype=torch.float64)\n",
            "Data type of Tensor is torch.float64\n",
            "Shape of Tensor is torch.Size([3, 4])\n",
            "Device is used for Tensor cpu\n"
          ]
        }
      ]
    },
    {
      "cell_type": "markdown",
      "source": [
        "# Manipulation Tensor (Operation on Tensor)\n",
        "1. Addition\n",
        "2. Substraction\n",
        "3. Multiplication\n",
        "4. Division\n",
        "5. Matrix Multiplication"
      ],
      "metadata": {
        "id": "JrlzHskEtdgQ"
      }
    },
    {
      "cell_type": "code",
      "source": [
        "tensor = torch.rand(size = (2,2), dtype=torch.float16)\n",
        "tensor"
      ],
      "metadata": {
        "id": "ph43VCwotrR_",
        "outputId": "e89eb7f4-bc96-4926-ab0a-c8c333e8a010",
        "colab": {
          "base_uri": "https://localhost:8080/"
        }
      },
      "execution_count": 34,
      "outputs": [
        {
          "output_type": "execute_result",
          "data": {
            "text/plain": [
              "tensor([[0.8970, 0.9355],\n",
              "        [0.5454, 0.3306]], dtype=torch.float16)"
            ]
          },
          "metadata": {},
          "execution_count": 34
        }
      ]
    },
    {
      "cell_type": "code",
      "source": [
        "# Addition of 10 in tensor\n",
        "print(\"Addition of 10 {}\".format(tensor+10))\n",
        "# Substartion of 10\n",
        "print(\"Subtraction of 10 {}\".format(tensor-10))\n",
        "# Multiplication of 10\n",
        "print(\"Multiplication of 10 {}\".format(tensor*10))\n",
        "# Division of 10\n",
        "print(\"Division of 10 {}\".format(tensor/10))"
      ],
      "metadata": {
        "id": "70sbE5UOt5nZ",
        "outputId": "7362dfa1-c16d-400c-9c87-5b66c3eb0648",
        "colab": {
          "base_uri": "https://localhost:8080/"
        }
      },
      "execution_count": 35,
      "outputs": [
        {
          "output_type": "stream",
          "name": "stdout",
          "text": [
            "Addition of 10 tensor([[10.8984, 10.9375],\n",
            "        [10.5469, 10.3281]], dtype=torch.float16)\n",
            "Subtraction of 10 tensor([[-9.1016, -9.0625],\n",
            "        [-9.4531, -9.6719]], dtype=torch.float16)\n",
            "Multiplication of 10 tensor([[8.9688, 9.3594],\n",
            "        [5.4531, 3.3047]], dtype=torch.float16)\n",
            "Division of 10 tensor([[0.0897, 0.0936],\n",
            "        [0.0545, 0.0331]], dtype=torch.float16)\n"
          ]
        }
      ]
    },
    {
      "cell_type": "markdown",
      "source": [
        "# Matrix Multiplcation\n",
        "\n",
        "Q = [1,2,3]\n",
        "1. Element-wise multiplication\t[1 * 1, 2 * 2, 3 * 3] = [1, 4, 9]\ttensor * tensor\n",
        "2. Matrix multiplication\t[1 * 1 + 2 * 2 + 3 * 3] = [14]\ttensor.matmul(tensor)"
      ],
      "metadata": {
        "id": "OINVxerFximL"
      }
    },
    {
      "cell_type": "code",
      "source": [
        "tensor = torch.tensor([1,2,3])\n",
        "tensor.shape"
      ],
      "metadata": {
        "id": "S2a8ZjEqx3sc",
        "outputId": "bacc74f8-b518-4508-a195-646c19733405",
        "colab": {
          "base_uri": "https://localhost:8080/"
        }
      },
      "execution_count": 36,
      "outputs": [
        {
          "output_type": "execute_result",
          "data": {
            "text/plain": [
              "torch.Size([3])"
            ]
          },
          "metadata": {},
          "execution_count": 36
        }
      ]
    },
    {
      "cell_type": "code",
      "source": [
        "# ELement wise multiplication\n",
        "\n",
        "print (\" tensor * tensor = {}\".format(tensor*tensor))"
      ],
      "metadata": {
        "id": "QWLgKcetx_y1",
        "outputId": "4f9d31d5-eb1a-441a-8a9b-4bda6344bbf1",
        "colab": {
          "base_uri": "https://localhost:8080/"
        }
      },
      "execution_count": 37,
      "outputs": [
        {
          "output_type": "stream",
          "name": "stdout",
          "text": [
            " tensor * tensor = tensor([1, 4, 9])\n"
          ]
        }
      ]
    },
    {
      "cell_type": "code",
      "source": [
        "# dot multiplaction\n",
        "print(\"Dot Multiplication = {}\".format(tensor.matmul(tensor)) )"
      ],
      "metadata": {
        "id": "ZBQQtLpDyR_z",
        "outputId": "a8c15586-8f17-4fb0-f867-847fbd14d2f6",
        "colab": {
          "base_uri": "https://localhost:8080/"
        }
      },
      "execution_count": 38,
      "outputs": [
        {
          "output_type": "stream",
          "name": "stdout",
          "text": [
            "Dot Multiplication = 14\n"
          ]
        }
      ]
    },
    {
      "cell_type": "code",
      "source": [
        "MATRIX_1 = torch.tensor([[1,2,3],\n",
        "                         [4,5,6]])\n",
        "MATRIX_1.shape"
      ],
      "metadata": {
        "id": "7ZSTT4P1yuxV",
        "outputId": "b4d920b3-45bf-4e65-c28b-ac2aee5de147",
        "colab": {
          "base_uri": "https://localhost:8080/"
        }
      },
      "execution_count": 39,
      "outputs": [
        {
          "output_type": "execute_result",
          "data": {
            "text/plain": [
              "torch.Size([2, 3])"
            ]
          },
          "metadata": {},
          "execution_count": 39
        }
      ]
    },
    {
      "cell_type": "code",
      "source": [
        "MATRIX_2 = torch.tensor([[7,8],\n",
        "                         [9,10],\n",
        "                         [11,12]])\n",
        "MATRIX_2.shape"
      ],
      "metadata": {
        "id": "DfAloQxKyO4j",
        "outputId": "ec5ec5ed-64d7-4123-915f-9652bb22eb3c",
        "colab": {
          "base_uri": "https://localhost:8080/"
        }
      },
      "execution_count": 40,
      "outputs": [
        {
          "output_type": "execute_result",
          "data": {
            "text/plain": [
              "torch.Size([3, 2])"
            ]
          },
          "metadata": {},
          "execution_count": 40
        }
      ]
    },
    {
      "cell_type": "code",
      "source": [
        "# Matrix Multiplcation\n",
        "MAT_PRODUCT = MATRIX_1.matmul(MATRIX_2)\n",
        "MAT_PRODUCT"
      ],
      "metadata": {
        "id": "upFjlzXhz_qh",
        "outputId": "442379d9-78c5-42dd-b874-ace2043f9b04",
        "colab": {
          "base_uri": "https://localhost:8080/"
        }
      },
      "execution_count": 41,
      "outputs": [
        {
          "output_type": "execute_result",
          "data": {
            "text/plain": [
              "tensor([[ 58,  64],\n",
              "        [139, 154]])"
            ]
          },
          "metadata": {},
          "execution_count": 41
        }
      ]
    },
    {
      "cell_type": "code",
      "source": [
        "tensor_A = torch.tensor([[1,2],\n",
        "                        [3,4],\n",
        "                        [5,6]])"
      ],
      "metadata": {
        "id": "8MEKvJNd0VmH"
      },
      "execution_count": 42,
      "outputs": []
    },
    {
      "cell_type": "code",
      "source": [
        "tensor_A.shape"
      ],
      "metadata": {
        "id": "cQUpMb-39TBI",
        "outputId": "0e37c26a-35c1-40f3-ca16-fd30cc70672b",
        "colab": {
          "base_uri": "https://localhost:8080/"
        }
      },
      "execution_count": 43,
      "outputs": [
        {
          "output_type": "execute_result",
          "data": {
            "text/plain": [
              "torch.Size([3, 2])"
            ]
          },
          "metadata": {},
          "execution_count": 43
        }
      ]
    },
    {
      "cell_type": "code",
      "source": [
        "tensor_B = torch.tensor([[7,10],\n",
        "                         [8,11],\n",
        "                         [9,12]])\n"
      ],
      "metadata": {
        "id": "xXH7CoOh9Xn7"
      },
      "execution_count": 44,
      "outputs": []
    },
    {
      "cell_type": "code",
      "source": [
        "tensor_B.shape"
      ],
      "metadata": {
        "id": "ZTviJ6299hpW",
        "outputId": "404da2e0-d3a6-44b6-ba26-1dde0f53dac5",
        "colab": {
          "base_uri": "https://localhost:8080/"
        }
      },
      "execution_count": 45,
      "outputs": [
        {
          "output_type": "execute_result",
          "data": {
            "text/plain": [
              "torch.Size([3, 2])"
            ]
          },
          "metadata": {},
          "execution_count": 45
        }
      ]
    },
    {
      "cell_type": "code",
      "source": [
        "# Transpsoing the Tensor_B\n",
        "output = torch.matmul(tensor_A,tensor_B.T)\n",
        "print(output)"
      ],
      "metadata": {
        "id": "PKlWYwfF9kxG",
        "outputId": "d9c585b4-0f31-4992-9415-63556371993f",
        "colab": {
          "base_uri": "https://localhost:8080/"
        }
      },
      "execution_count": 46,
      "outputs": [
        {
          "output_type": "stream",
          "name": "stdout",
          "text": [
            "tensor([[ 27,  30,  33],\n",
            "        [ 61,  68,  75],\n",
            "        [ 95, 106, 117]])\n"
          ]
        }
      ]
    },
    {
      "cell_type": "code",
      "source": [
        "print(f\"Orginal Shape: Tensor_A->{tensor_A.shape}, Tensor_B->{tensor_B.shape}\\n\")\n",
        "print(f\"New Shape: Tensor_A(Same as above)->{tensor_A.shape}, Tensor_B-> {tensor_B.T}\\n\")\n",
        "print(f\"Mulatiplying {tensor_A.shape} @ {tensor_B.T}, Inner dimensions match \\n\")\n",
        "output = torch.mm(tensor_A,tensor_B.T)\n",
        "print(f\"Output \\n\")\n",
        "print(output)\n",
        "print(f\"Shape of output->{output.shape}\")"
      ],
      "metadata": {
        "id": "UL8XmdVq92sP",
        "colab": {
          "base_uri": "https://localhost:8080/"
        },
        "outputId": "e4fe9542-6ee9-44b0-f384-99bc22ff8350"
      },
      "execution_count": 47,
      "outputs": [
        {
          "output_type": "stream",
          "name": "stdout",
          "text": [
            "Orginal Shape: Tensor_A->torch.Size([3, 2]), Tensor_B->torch.Size([3, 2])\n",
            "\n",
            "New Shape: Tensor_A(Same as above)->torch.Size([3, 2]), Tensor_B-> tensor([[ 7,  8,  9],\n",
            "        [10, 11, 12]])\n",
            "\n",
            "Mulatiplying torch.Size([3, 2]) @ tensor([[ 7,  8,  9],\n",
            "        [10, 11, 12]]), Inner dimensions match \n",
            "\n",
            "Output \n",
            "\n",
            "tensor([[ 27,  30,  33],\n",
            "        [ 61,  68,  75],\n",
            "        [ 95, 106, 117]])\n",
            "Shape of output->torch.Size([3, 3])\n"
          ]
        }
      ]
    },
    {
      "cell_type": "markdown",
      "source": [
        "# Linear\n",
        "torch.nn.Linear(in_features, out_features, bias=True, device=None, dtype=None)\n",
        "Applies a linear transformation to the incoming data:\n",
        "$$ y = x\\cdot{A^T} + b $$\n",
        "\n"
      ],
      "metadata": {
        "id": "xTtMKhBvYpza"
      }
    },
    {
      "cell_type": "code",
      "source": [
        "# Since the linear layer starts with a random weights matrix, let's make it reproducible\n",
        "torch.manual_seed(42)\n",
        "#Linear\n",
        "torch_random_linear = torch.nn.Linear(in_features=10, #in_feature = Define inner dimension of input\n",
        "                                      out_features=6) # describe outer value\n",
        "# Creating Matrix 2X3\n",
        "tensor_A = torch.randn(2,10)\n",
        "print(\"Size of tensor_A {}\".format(tensor_A.shape))\n",
        "output = torch_random_linear(tensor_A)\n",
        "print(\" Output \\n {}\".format(output))\n",
        "print(\"Output shape {}\".format(output.shape))\n"
      ],
      "metadata": {
        "id": "qUR2MXiHz9kB",
        "colab": {
          "base_uri": "https://localhost:8080/"
        },
        "outputId": "0d5e9f17-9e25-4b21-82ef-42e5d8e31fbb"
      },
      "execution_count": 48,
      "outputs": [
        {
          "output_type": "stream",
          "name": "stdout",
          "text": [
            "Size of tensor_A torch.Size([2, 10])\n",
            " Output \n",
            " tensor([[-0.1000,  0.9796, -0.8712,  0.0889,  0.2433, -1.1368],\n",
            "        [ 0.5277, -0.0021,  0.2297,  1.2705,  1.1197,  0.7797]],\n",
            "       grad_fn=<AddmmBackward0>)\n",
            "Output shape torch.Size([2, 6])\n"
          ]
        }
      ]
    },
    {
      "cell_type": "markdown",
      "source": [
        "# Finding the min, max, mean, sum, etc (aggregation)"
      ],
      "metadata": {
        "id": "5oFHwV6SeDlw"
      }
    },
    {
      "cell_type": "code",
      "source": [
        "# create a tensor\n",
        "\n",
        "x= torch.arange(start=10, end=1001, step=20)\n",
        "print(x)\n",
        "print(\"Minimum value: = {}\".format(x.min()))\n",
        "print(\"Maximum value: = {}\".format(x.max()))\n",
        "print(\"Meanvalue: = {}\".format(x.type(dtype=torch.float32).mean())) # Data Type conversion required as mean has float value\n",
        "print(\"Sum: {}\".format(x.sum()))\n",
        "\n"
      ],
      "metadata": {
        "id": "f7_aoeUgeF1W",
        "outputId": "e07a9545-78db-4af9-e9c7-49422c7c0b5f",
        "colab": {
          "base_uri": "https://localhost:8080/"
        }
      },
      "execution_count": 49,
      "outputs": [
        {
          "output_type": "stream",
          "name": "stdout",
          "text": [
            "tensor([ 10,  30,  50,  70,  90, 110, 130, 150, 170, 190, 210, 230, 250, 270,\n",
            "        290, 310, 330, 350, 370, 390, 410, 430, 450, 470, 490, 510, 530, 550,\n",
            "        570, 590, 610, 630, 650, 670, 690, 710, 730, 750, 770, 790, 810, 830,\n",
            "        850, 870, 890, 910, 930, 950, 970, 990])\n",
            "Minimum value: = 10\n",
            "Maximum value: = 990\n",
            "Meanvalue: = 500.0\n",
            "Sum: 25000\n"
          ]
        }
      ]
    },
    {
      "cell_type": "markdown",
      "source": [
        "#### We can do the above code with the below method also\n",
        "torch.max(x), torch.min(x), torch.mean(x.type(torch.float32)), torch.sum(x)"
      ],
      "metadata": {
        "id": "G0Hf7vwsf6cJ"
      }
    },
    {
      "cell_type": "code",
      "source": [
        "x = torch.arange(0,100,5)\n",
        "print(\"x:= {}\".format(x))\n",
        "print(\"Min value is: = {}\".format(torch.min(x)))\n",
        "print(\"Max value is: = {}\".format(torch.max(x)))\n",
        "print(\"Mean value is: = {}\".format(torch.mean(x.type(dtype=torch.float32))))\n",
        "print(\"Sum is: = {}\".format(torch.sum(x)))"
      ],
      "metadata": {
        "id": "aj_2l-37gB5m",
        "outputId": "be071457-1e13-4870-965e-a0405cf3ff8b",
        "colab": {
          "base_uri": "https://localhost:8080/"
        }
      },
      "execution_count": 50,
      "outputs": [
        {
          "output_type": "stream",
          "name": "stdout",
          "text": [
            "x:= tensor([ 0,  5, 10, 15, 20, 25, 30, 35, 40, 45, 50, 55, 60, 65, 70, 75, 80, 85,\n",
            "        90, 95])\n",
            "Min value is: = 0\n",
            "Max value is: = 95\n",
            "Mean value is: = 47.5\n",
            "Sum is: = 950\n"
          ]
        }
      ]
    },
    {
      "cell_type": "markdown",
      "source": [
        "# Getting the positional min and max\n",
        "You can also find the index of a tensor where the max or minimum occurs with torch.argmax() and torch.argmin() respectively."
      ],
      "metadata": {
        "id": "rqcLqU93gyYv"
      }
    },
    {
      "cell_type": "code",
      "source": [
        "# creation a tensor\n",
        "random_tensor = torch.arange(2,79,6)\n",
        "# printing the tensor\n",
        "print(random_tensor)\n",
        "# Getting the max value and position of max value\n",
        "print(\"max value: = {} and position of max value: = {}\".\n",
        "      format(torch.max(random_tensor),torch.argmax(random_tensor)))\n",
        "# Getting the min value and position of min value\n",
        "print(\"min value: = {} and position of min value: = {}\".\n",
        "      format(torch.min(random_tensor),torch.argmin(random_tensor)))"
      ],
      "metadata": {
        "id": "7CTwcnr2g5i8",
        "outputId": "7920c876-c933-41e9-bb44-ae65cd30fcc7",
        "colab": {
          "base_uri": "https://localhost:8080/"
        }
      },
      "execution_count": 51,
      "outputs": [
        {
          "output_type": "stream",
          "name": "stdout",
          "text": [
            "tensor([ 2,  8, 14, 20, 26, 32, 38, 44, 50, 56, 62, 68, 74])\n",
            "max value: = 74 and position of max value: = 12\n",
            "min value: = 2 and position of min value: = 0\n"
          ]
        }
      ]
    },
    {
      "cell_type": "markdown",
      "source": [
        "# Change tensor datatype\n",
        "\n",
        "We can change tensor data type by using method torch.tensor.type(dtype=None)"
      ],
      "metadata": {
        "id": "x8FI0eX7kNIu"
      }
    },
    {
      "cell_type": "code",
      "source": [
        "# create a tensor\n",
        "x = torch.tensor([10.0,20.0,30.0,40.0,50.0])\n",
        "x.dtype"
      ],
      "metadata": {
        "id": "lzxXH0iJkgUc",
        "outputId": "5f3b7f04-800b-4929-ecaf-5bbde0393515",
        "colab": {
          "base_uri": "https://localhost:8080/"
        }
      },
      "execution_count": 52,
      "outputs": [
        {
          "output_type": "execute_result",
          "data": {
            "text/plain": [
              "torch.float32"
            ]
          },
          "metadata": {},
          "execution_count": 52
        }
      ]
    },
    {
      "cell_type": "code",
      "source": [
        "# Converting above tensor in float_16\n",
        "x_float16 = x.type(dtype=torch.float16)"
      ],
      "metadata": {
        "id": "iOfNTRrDkuCv"
      },
      "execution_count": 53,
      "outputs": []
    },
    {
      "cell_type": "code",
      "source": [
        "x_float16"
      ],
      "metadata": {
        "id": "xIPfMD_SlEvi",
        "outputId": "db9c7b40-82fa-48ef-f08b-b7ba48e3cf4e",
        "colab": {
          "base_uri": "https://localhost:8080/"
        }
      },
      "execution_count": 54,
      "outputs": [
        {
          "output_type": "execute_result",
          "data": {
            "text/plain": [
              "tensor([10., 20., 30., 40., 50.], dtype=torch.float16)"
            ]
          },
          "metadata": {},
          "execution_count": 54
        }
      ]
    },
    {
      "cell_type": "code",
      "source": [
        "# Converting x tensor to int\n",
        "x_int8= x.type(torch.int8)\n",
        "x_int8"
      ],
      "metadata": {
        "id": "_5axRbHXlGYx",
        "outputId": "74bd4b0b-141b-4408-bfbf-9a98440e2ab4",
        "colab": {
          "base_uri": "https://localhost:8080/"
        }
      },
      "execution_count": 55,
      "outputs": [
        {
          "output_type": "execute_result",
          "data": {
            "text/plain": [
              "tensor([10, 20, 30, 40, 50], dtype=torch.int8)"
            ]
          },
          "metadata": {},
          "execution_count": 55
        }
      ]
    },
    {
      "cell_type": "markdown",
      "source": [
        "# Reshaping, stacking\n",
        "#### torch.reshape(input, shape)====> Reshape the input into shape if compatible, can also use as torch.Tensor.reshape()\n",
        "#### tensor.view() ===> Return the view of original tensor in different view, but share the same data as original tensor\n",
        "#### torch.stack(tensors, dim=0)===> Concatenate a sequience of Tensor along with dimesion, all tensor must have same size"
      ],
      "metadata": {
        "id": "VhTLbVhb8SU1"
      }
    },
    {
      "cell_type": "code",
      "source": [
        "# create a random tensor\n",
        "a = torch.arange(4.)\n",
        "print(\"Original tensor \\n {}\".format(a))\n",
        "print(\"Chnaged shaped \\n{}\".format(torch.reshape(a,(2,2))))\n",
        "b = torch.tensor([[10,20],\n",
        " [30,40]])\n",
        "print(b)\n",
        "print(\"Changed shape \\n {}\".format(torch.reshape(b,(-1,))))\n",
        "c = torch.rand(5,8)\n",
        "print(c)\n",
        "print(\"Changed shaped in 4 X 10 \\n {}\".format(torch.reshape(c,(4,10))))\n",
        "print(\"Changed chape in 2X20 \\n {}\".format(torch.reshape(c,(2,20))))\n",
        "\n",
        "\n"
      ],
      "metadata": {
        "id": "5C8DIU6K9kAI",
        "outputId": "262abcd4-7627-4d60-b3c9-a6aa63fc34e5",
        "colab": {
          "base_uri": "https://localhost:8080/"
        }
      },
      "execution_count": 56,
      "outputs": [
        {
          "output_type": "stream",
          "name": "stdout",
          "text": [
            "Original tensor \n",
            " tensor([0., 1., 2., 3.])\n",
            "Chnaged shaped \n",
            "tensor([[0., 1.],\n",
            "        [2., 3.]])\n",
            "tensor([[10, 20],\n",
            "        [30, 40]])\n",
            "Changed shape \n",
            " tensor([10, 20, 30, 40])\n",
            "tensor([[0.4340, 0.1371, 0.5117, 0.1585, 0.0758, 0.2247, 0.0624, 0.1816],\n",
            "        [0.9998, 0.5944, 0.6541, 0.0337, 0.1716, 0.3336, 0.5782, 0.0600],\n",
            "        [0.2846, 0.2007, 0.5014, 0.3139, 0.4654, 0.1612, 0.1568, 0.2083],\n",
            "        [0.3289, 0.1054, 0.9192, 0.4008, 0.9302, 0.6558, 0.0766, 0.8460],\n",
            "        [0.3624, 0.3083, 0.0850, 0.0029, 0.6431, 0.3908, 0.6947, 0.0897]])\n",
            "Changed shaped in 4 X 10 \n",
            " tensor([[0.4340, 0.1371, 0.5117, 0.1585, 0.0758, 0.2247, 0.0624, 0.1816, 0.9998,\n",
            "         0.5944],\n",
            "        [0.6541, 0.0337, 0.1716, 0.3336, 0.5782, 0.0600, 0.2846, 0.2007, 0.5014,\n",
            "         0.3139],\n",
            "        [0.4654, 0.1612, 0.1568, 0.2083, 0.3289, 0.1054, 0.9192, 0.4008, 0.9302,\n",
            "         0.6558],\n",
            "        [0.0766, 0.8460, 0.3624, 0.3083, 0.0850, 0.0029, 0.6431, 0.3908, 0.6947,\n",
            "         0.0897]])\n",
            "Changed chape in 2X20 \n",
            " tensor([[0.4340, 0.1371, 0.5117, 0.1585, 0.0758, 0.2247, 0.0624, 0.1816, 0.9998,\n",
            "         0.5944, 0.6541, 0.0337, 0.1716, 0.3336, 0.5782, 0.0600, 0.2846, 0.2007,\n",
            "         0.5014, 0.3139],\n",
            "        [0.4654, 0.1612, 0.1568, 0.2083, 0.3289, 0.1054, 0.9192, 0.4008, 0.9302,\n",
            "         0.6558, 0.0766, 0.8460, 0.3624, 0.3083, 0.0850, 0.0029, 0.6431, 0.3908,\n",
            "         0.6947, 0.0897]])\n"
          ]
        }
      ]
    },
    {
      "cell_type": "code",
      "source": [
        "x = torch.arange(1.,7.)\n",
        "print(\"Shape of the tensor {}\".format(x.shape))\n",
        "print(\"Reshape the tensor in 2X3 is \\n {}\".format(torch.reshape(x,(2,3))))"
      ],
      "metadata": {
        "id": "CIJ-8dQPAp5h",
        "outputId": "f03b2c64-2955-4fe9-f066-9d1a62b74cad",
        "colab": {
          "base_uri": "https://localhost:8080/"
        }
      },
      "execution_count": 57,
      "outputs": [
        {
          "output_type": "stream",
          "name": "stdout",
          "text": [
            "Shape of the tensor torch.Size([6])\n",
            "Reshape the tensor in 2X3 is \n",
            " tensor([[1., 2., 3.],\n",
            "        [4., 5., 6.]])\n"
          ]
        }
      ]
    },
    {
      "cell_type": "code",
      "source": [
        "# Understading view\n",
        "\n",
        "x= torch.randn(4,4)\n",
        "print(\"Size of Tensor {} \\n\".format(x.size()))\n",
        "y = x.view(16)\n",
        "print (\"Reshape Tensor y is \\n {}\".format(y))\n",
        "print(\"Size of Tensor y is {} \\n\".format(y.shape))\n",
        "z = x.view(-1,8) # the size -1 is inferred from other dimensions\n",
        "print (\"Reshape Tensor z is \\n {}\".format(z))\n",
        "print(\"Shape of Tesnor z is {} \\n\".format(z.shape))\n"
      ],
      "metadata": {
        "id": "6fARl7wiBwiC",
        "outputId": "4a921f1c-95e8-4b93-e3e9-03e396dbf7b0",
        "colab": {
          "base_uri": "https://localhost:8080/"
        }
      },
      "execution_count": 58,
      "outputs": [
        {
          "output_type": "stream",
          "name": "stdout",
          "text": [
            "Size of Tensor torch.Size([4, 4]) \n",
            "\n",
            "Reshape Tensor y is \n",
            " tensor([-1.4241, -0.1163, -0.9727,  0.9585,  1.6192,  1.4506,  0.2695, -0.2104,\n",
            "        -1.4391,  0.5214,  0.3488,  0.9676, -0.4657,  1.6048, -2.4801, -0.4175])\n",
            "Size of Tensor y is torch.Size([16]) \n",
            "\n",
            "Reshape Tensor z is \n",
            " tensor([[-1.4241, -0.1163, -0.9727,  0.9585,  1.6192,  1.4506,  0.2695, -0.2104],\n",
            "        [-1.4391,  0.5214,  0.3488,  0.9676, -0.4657,  1.6048, -2.4801, -0.4175]])\n",
            "Shape of Tesnor z is torch.Size([2, 8]) \n",
            "\n"
          ]
        }
      ]
    },
    {
      "cell_type": "code",
      "source": [
        "a = torch.randn(1,2,3,4)\n",
        "print(\"Tensor a is \\n {}\".format(a))\n",
        "print(\"Size of Tensor a is {} \\n\".format(a.size()))\n",
        "# swape the 2 and 3 elements\n",
        "b = a.transpose(2,3)\n",
        "print(\"Afther swapping Tensor b is \\n {}\".format(b))\n",
        "print(\"Size of Tensor b is {} \\n\".format(b.size()))\n",
        "print(\"Check the Tensor a and b are equal or not {} \\n\".format(torch.equal(a,b)))\n",
        "c = a.view(1,3,2,4)\n",
        "print(\"Afther swapping Tensor c is \\n {}\".format(c))\n",
        "print(\"Size of Tensor c is {} \\n\".format(c.size()))\n",
        "print(\"Check whether Tensor b and c are equals or not {}\\n\".format(torch.equal(c,b)))\n",
        "print(\"Check whether Tensor a and c are equals or not {}\\n\".format(torch.equal(c,a)))"
      ],
      "metadata": {
        "id": "HmsUp6FqFo15",
        "outputId": "e5380113-ec66-4360-dff7-9abf119418fb",
        "colab": {
          "base_uri": "https://localhost:8080/"
        }
      },
      "execution_count": 59,
      "outputs": [
        {
          "output_type": "stream",
          "name": "stdout",
          "text": [
            "Tensor a is \n",
            " tensor([[[[-0.1933,  0.6526, -1.9006,  0.2286],\n",
            "          [ 0.0249, -0.3460,  0.2868, -0.7308],\n",
            "          [-1.1360, -0.5226,  0.7165,  1.5335]],\n",
            "\n",
            "         [[-1.4510, -0.7861, -0.9563, -1.2476],\n",
            "          [ 0.7043,  0.7099, -1.5326, -0.7251],\n",
            "          [ 0.4664,  0.6667, -0.0439,  0.2368]]]])\n",
            "Size of Tensor a is torch.Size([1, 2, 3, 4]) \n",
            "\n",
            "Afther swapping Tensor b is \n",
            " tensor([[[[-0.1933,  0.0249, -1.1360],\n",
            "          [ 0.6526, -0.3460, -0.5226],\n",
            "          [-1.9006,  0.2868,  0.7165],\n",
            "          [ 0.2286, -0.7308,  1.5335]],\n",
            "\n",
            "         [[-1.4510,  0.7043,  0.4664],\n",
            "          [-0.7861,  0.7099,  0.6667],\n",
            "          [-0.9563, -1.5326, -0.0439],\n",
            "          [-1.2476, -0.7251,  0.2368]]]])\n",
            "Size of Tensor b is torch.Size([1, 2, 4, 3]) \n",
            "\n",
            "Check the Tensor a and b are equal or not False \n",
            "\n",
            "Afther swapping Tensor c is \n",
            " tensor([[[[-0.1933,  0.6526, -1.9006,  0.2286],\n",
            "          [ 0.0249, -0.3460,  0.2868, -0.7308]],\n",
            "\n",
            "         [[-1.1360, -0.5226,  0.7165,  1.5335],\n",
            "          [-1.4510, -0.7861, -0.9563, -1.2476]],\n",
            "\n",
            "         [[ 0.7043,  0.7099, -1.5326, -0.7251],\n",
            "          [ 0.4664,  0.6667, -0.0439,  0.2368]]]])\n",
            "Size of Tensor c is torch.Size([1, 3, 2, 4]) \n",
            "\n",
            "Check whether Tensor b and c are equals or not False\n",
            "\n",
            "Check whether Tensor a and c are equals or not False\n",
            "\n"
          ]
        }
      ]
    },
    {
      "cell_type": "markdown",
      "source": [
        "# Stack Squeex, Unsqueez and Permute\n",
        "\n",
        "torch.stack(tensors, dim=0)\tConcatenates a sequence of tensors along a new dimension (dim), all tensors must be same size.\n",
        "\n",
        "torch.squeeze(input)\tSqueezes input to remove all the dimenions with value 1.\n",
        "\n",
        "torch.unsqueeze(input, dim)\tReturns input with a dimension value of 1 added at dim.\n",
        "\n",
        "torch.permute(input, dims)\tReturns a view of the original input with its dimensions permuted (rearranged) to dims."
      ],
      "metadata": {
        "id": "tC9ftJrq-BnI"
      }
    },
    {
      "cell_type": "code",
      "source": [
        "# Cretae a tensor\n",
        "x = torch.arange(1.0,8)"
      ],
      "metadata": {
        "id": "dKCJRA_D-IRC"
      },
      "execution_count": 60,
      "outputs": []
    },
    {
      "cell_type": "code",
      "source": [
        "print (f\"Tensor x is {x}\")\n",
        "print(\"Shape of tensor s is {} \".format(x.shape))"
      ],
      "metadata": {
        "id": "x6xgi9ss-36a",
        "outputId": "f3c0e573-4129-48e9-fde2-b784d8c53f7f",
        "colab": {
          "base_uri": "https://localhost:8080/"
        }
      },
      "execution_count": 61,
      "outputs": [
        {
          "output_type": "stream",
          "name": "stdout",
          "text": [
            "Tensor x is tensor([1., 2., 3., 4., 5., 6., 7.])\n",
            "Shape of tensor s is torch.Size([7]) \n"
          ]
        }
      ]
    },
    {
      "cell_type": "code",
      "source": [
        "x_stacked = torch.stack([x,x,x,x], dim=0)"
      ],
      "metadata": {
        "id": "O5XDzkCa_G_L"
      },
      "execution_count": 62,
      "outputs": []
    },
    {
      "cell_type": "code",
      "source": [
        "print(x_stacked)\n",
        "print(x_stacked.shape)"
      ],
      "metadata": {
        "id": "93wQo-eJ_f95",
        "outputId": "62c01084-b069-419b-9d23-aa7bd9b6a528",
        "colab": {
          "base_uri": "https://localhost:8080/"
        }
      },
      "execution_count": 63,
      "outputs": [
        {
          "output_type": "stream",
          "name": "stdout",
          "text": [
            "tensor([[1., 2., 3., 4., 5., 6., 7.],\n",
            "        [1., 2., 3., 4., 5., 6., 7.],\n",
            "        [1., 2., 3., 4., 5., 6., 7.],\n",
            "        [1., 2., 3., 4., 5., 6., 7.]])\n",
            "torch.Size([4, 7])\n"
          ]
        }
      ]
    },
    {
      "cell_type": "code",
      "source": [
        "x_stacked = torch.stack([x,x,x,x],dim = 1)\n",
        "x_stacked, x_stacked.shape"
      ],
      "metadata": {
        "id": "9WYZMG7X_o_J",
        "outputId": "29eca362-4854-4685-c0f4-a84d1d06a6bd",
        "colab": {
          "base_uri": "https://localhost:8080/"
        }
      },
      "execution_count": 64,
      "outputs": [
        {
          "output_type": "execute_result",
          "data": {
            "text/plain": [
              "(tensor([[1., 1., 1., 1.],\n",
              "         [2., 2., 2., 2.],\n",
              "         [3., 3., 3., 3.],\n",
              "         [4., 4., 4., 4.],\n",
              "         [5., 5., 5., 5.],\n",
              "         [6., 6., 6., 6.],\n",
              "         [7., 7., 7., 7.]]),\n",
              " torch.Size([7, 4]))"
            ]
          },
          "metadata": {},
          "execution_count": 64
        }
      ]
    },
    {
      "cell_type": "code",
      "source": [
        "# torch.squeez(tensor, dim =)\n",
        "x = torch.zeros(2,1,2,1,2)\n",
        "print(\"Orginal tensor x is \\n {}\".format(x))\n",
        "print(\"Shape of tensor x is {} \\n \".format(x.shape))"
      ],
      "metadata": {
        "id": "CRGbPXqY_2Qn",
        "outputId": "1b34470b-b69e-4c2d-d9c5-1e4d4b571748",
        "colab": {
          "base_uri": "https://localhost:8080/"
        }
      },
      "execution_count": 65,
      "outputs": [
        {
          "output_type": "stream",
          "name": "stdout",
          "text": [
            "Orginal tensor x is \n",
            " tensor([[[[[0., 0.]],\n",
            "\n",
            "          [[0., 0.]]]],\n",
            "\n",
            "\n",
            "\n",
            "        [[[[0., 0.]],\n",
            "\n",
            "          [[0., 0.]]]]])\n",
            "Shape of tensor x is torch.Size([2, 1, 2, 1, 2]) \n",
            " \n"
          ]
        }
      ]
    },
    {
      "cell_type": "code",
      "source": [
        "y = torch.squeeze(x)\n",
        "print(\"Squeez tensor y is \\n {}\".format(y))\n",
        "print(\"Shape of Squeez tensor is {}\\n\".format(y.shape))"
      ],
      "metadata": {
        "id": "qfVJENx-AwOH",
        "outputId": "8916cf1d-32eb-49ea-a8c4-8707b5cbc2d8",
        "colab": {
          "base_uri": "https://localhost:8080/"
        }
      },
      "execution_count": 66,
      "outputs": [
        {
          "output_type": "stream",
          "name": "stdout",
          "text": [
            "Squeez tensor y is \n",
            " tensor([[[0., 0.],\n",
            "         [0., 0.]],\n",
            "\n",
            "        [[0., 0.],\n",
            "         [0., 0.]]])\n",
            "Shape of Squeez tensor is torch.Size([2, 2, 2])\n",
            "\n"
          ]
        }
      ]
    },
    {
      "cell_type": "code",
      "source": [
        "z = torch.squeeze(x,dim=1)\n",
        "z, z.shape"
      ],
      "metadata": {
        "id": "C3bgtPq7BPVQ",
        "outputId": "4512953d-9387-42ba-a2b8-a0c1e3b04a84",
        "colab": {
          "base_uri": "https://localhost:8080/"
        }
      },
      "execution_count": 67,
      "outputs": [
        {
          "output_type": "execute_result",
          "data": {
            "text/plain": [
              "(tensor([[[[0., 0.]],\n",
              " \n",
              "          [[0., 0.]]],\n",
              " \n",
              " \n",
              "         [[[0., 0.]],\n",
              " \n",
              "          [[0., 0.]]]]),\n",
              " torch.Size([2, 2, 1, 2]))"
            ]
          },
          "metadata": {},
          "execution_count": 67
        }
      ]
    },
    {
      "cell_type": "code",
      "source": [
        "print(x.shape)\n",
        "w = torch.squeeze(x, (1,3))\n",
        "w, w.shape"
      ],
      "metadata": {
        "id": "xbEeCRV_CP9X",
        "outputId": "2aedbb80-c128-4ef5-def5-89e1c2d49e8a",
        "colab": {
          "base_uri": "https://localhost:8080/"
        }
      },
      "execution_count": 68,
      "outputs": [
        {
          "output_type": "stream",
          "name": "stdout",
          "text": [
            "torch.Size([2, 1, 2, 1, 2])\n"
          ]
        },
        {
          "output_type": "execute_result",
          "data": {
            "text/plain": [
              "(tensor([[[0., 0.],\n",
              "          [0., 0.]],\n",
              " \n",
              "         [[0., 0.],\n",
              "          [0., 0.]]]),\n",
              " torch.Size([2, 2, 2]))"
            ]
          },
          "metadata": {},
          "execution_count": 68
        }
      ]
    },
    {
      "cell_type": "code",
      "source": [
        "## Unsqueezed\n",
        "x = torch.randn([1,2,3,4])\n",
        "x"
      ],
      "metadata": {
        "id": "ubbblOUdDBcm",
        "outputId": "3022ff39-9c6f-492b-daec-94dca3f56357",
        "colab": {
          "base_uri": "https://localhost:8080/"
        }
      },
      "execution_count": 69,
      "outputs": [
        {
          "output_type": "execute_result",
          "data": {
            "text/plain": [
              "tensor([[[[ 0.4788,  1.3537, -0.1593, -0.4249],\n",
              "          [ 0.9442, -0.1849,  1.0608,  0.2083],\n",
              "          [ 0.6630,  0.7047, -0.0045,  1.6668]],\n",
              "\n",
              "         [[ 0.1539, -1.0603, -0.5727,  0.0836],\n",
              "          [ 0.4440, -0.7240, -0.0720, -0.9061],\n",
              "          [-2.0487, -1.0811,  0.0176,  0.0782]]]])"
            ]
          },
          "metadata": {},
          "execution_count": 69
        }
      ]
    },
    {
      "cell_type": "code",
      "source": [
        "y = torch.unsqueeze(x,dim=0)\n",
        "y"
      ],
      "metadata": {
        "id": "nsTNMDImDxuU",
        "outputId": "e952a345-d866-4ae3-9409-54e7df57341a",
        "colab": {
          "base_uri": "https://localhost:8080/"
        }
      },
      "execution_count": 70,
      "outputs": [
        {
          "output_type": "execute_result",
          "data": {
            "text/plain": [
              "tensor([[[[[ 0.4788,  1.3537, -0.1593, -0.4249],\n",
              "           [ 0.9442, -0.1849,  1.0608,  0.2083],\n",
              "           [ 0.6630,  0.7047, -0.0045,  1.6668]],\n",
              "\n",
              "          [[ 0.1539, -1.0603, -0.5727,  0.0836],\n",
              "           [ 0.4440, -0.7240, -0.0720, -0.9061],\n",
              "           [-2.0487, -1.0811,  0.0176,  0.0782]]]]])"
            ]
          },
          "metadata": {},
          "execution_count": 70
        }
      ]
    },
    {
      "cell_type": "code",
      "source": [
        "y = torch.unsqueeze(x, dim=-1)\n",
        "y, y.shape"
      ],
      "metadata": {
        "id": "43h1GLRnEKMd",
        "outputId": "dca013f4-eea2-4dbf-88dc-194c77ea70d7",
        "colab": {
          "base_uri": "https://localhost:8080/"
        }
      },
      "execution_count": 71,
      "outputs": [
        {
          "output_type": "execute_result",
          "data": {
            "text/plain": [
              "(tensor([[[[[ 0.4788],\n",
              "            [ 1.3537],\n",
              "            [-0.1593],\n",
              "            [-0.4249]],\n",
              " \n",
              "           [[ 0.9442],\n",
              "            [-0.1849],\n",
              "            [ 1.0608],\n",
              "            [ 0.2083]],\n",
              " \n",
              "           [[ 0.6630],\n",
              "            [ 0.7047],\n",
              "            [-0.0045],\n",
              "            [ 1.6668]]],\n",
              " \n",
              " \n",
              "          [[[ 0.1539],\n",
              "            [-1.0603],\n",
              "            [-0.5727],\n",
              "            [ 0.0836]],\n",
              " \n",
              "           [[ 0.4440],\n",
              "            [-0.7240],\n",
              "            [-0.0720],\n",
              "            [-0.9061]],\n",
              " \n",
              "           [[-2.0487],\n",
              "            [-1.0811],\n",
              "            [ 0.0176],\n",
              "            [ 0.0782]]]]]),\n",
              " torch.Size([1, 2, 3, 4, 1]))"
            ]
          },
          "metadata": {},
          "execution_count": 71
        }
      ]
    },
    {
      "cell_type": "code",
      "source": [
        "x = torch.arange(1.0,8)\n",
        "x, x.shape"
      ],
      "metadata": {
        "id": "-FFZI2qPEU7F",
        "outputId": "c3ea6081-55dd-40f2-82d3-cf6c12dcdd06",
        "colab": {
          "base_uri": "https://localhost:8080/"
        }
      },
      "execution_count": 72,
      "outputs": [
        {
          "output_type": "execute_result",
          "data": {
            "text/plain": [
              "(tensor([1., 2., 3., 4., 5., 6., 7.]), torch.Size([7]))"
            ]
          },
          "metadata": {},
          "execution_count": 72
        }
      ]
    },
    {
      "cell_type": "code",
      "source": [
        "x_reshaped = x.reshape(1,7)\n",
        "x_reshaped"
      ],
      "metadata": {
        "id": "zpm3jejKEx3k",
        "outputId": "5a14e939-d215-4a75-82de-6f29a6cfb705",
        "colab": {
          "base_uri": "https://localhost:8080/"
        }
      },
      "execution_count": 73,
      "outputs": [
        {
          "output_type": "execute_result",
          "data": {
            "text/plain": [
              "tensor([[1., 2., 3., 4., 5., 6., 7.]])"
            ]
          },
          "metadata": {},
          "execution_count": 73
        }
      ]
    },
    {
      "cell_type": "code",
      "source": [
        "print(f\"Previous tensor {x_reshaped} \\n\")\n",
        "print(f\"Previous tensor shape {x_reshaped.shape} \\n\")\n",
        "x_squeezed = torch.squeeze(x_reshaped)\n",
        "print(f\"New tensor is {x_squeezed} \\n\")\n",
        "print(f\"New tensor shape is {x_squeezed.shape}\")"
      ],
      "metadata": {
        "id": "KB9_9AvSE-eE",
        "outputId": "04e4b49b-c6df-40b5-e5b1-74e8c1e0224f",
        "colab": {
          "base_uri": "https://localhost:8080/"
        }
      },
      "execution_count": 74,
      "outputs": [
        {
          "output_type": "stream",
          "name": "stdout",
          "text": [
            "Previous tensor tensor([[1., 2., 3., 4., 5., 6., 7.]]) \n",
            "\n",
            "Previous tensor shape torch.Size([1, 7]) \n",
            "\n",
            "New tensor is tensor([1., 2., 3., 4., 5., 6., 7.]) \n",
            "\n",
            "New tensor shape is torch.Size([7])\n"
          ]
        }
      ]
    },
    {
      "cell_type": "code",
      "source": [
        "# We can also rearrange the order of axes values with torch.permute(input, dims), where the input gets turned into a view with new dims.\n",
        "\n",
        "# Create a tensor with specific shape\n",
        "x_original = torch.rand(size=[224,224,3])\n",
        "print(\"Before Permute shape is {} \\n\".format(x_original.shape))\n",
        "x_permuted = torch.permute(x_original,(2,0,1))\n",
        "print(\"After permure shape is {} \\n\".format(x_permuted.shape))"
      ],
      "metadata": {
        "id": "Ief9eeacErV1",
        "outputId": "429044cb-7cdf-498f-8d76-8f4fe24575bc",
        "colab": {
          "base_uri": "https://localhost:8080/"
        }
      },
      "execution_count": 75,
      "outputs": [
        {
          "output_type": "stream",
          "name": "stdout",
          "text": [
            "Before Permute shape is torch.Size([224, 224, 3]) \n",
            "\n",
            "After permure shape is torch.Size([3, 224, 224]) \n",
            "\n"
          ]
        }
      ]
    },
    {
      "cell_type": "code",
      "source": [
        "x = torch.randn(size=[2,3,5])\n",
        "print(\"Before permute tensor shape is {} \\n\".format(x.shape))\n",
        "print(\"After permute tensor share is {} \\n\".format(torch.permute(x,dims=(1,0,2)).shape))"
      ],
      "metadata": {
        "id": "zK275B17ER2c",
        "outputId": "12dea4ca-ea75-4add-acc7-f296d9bb9981",
        "colab": {
          "base_uri": "https://localhost:8080/"
        }
      },
      "execution_count": 76,
      "outputs": [
        {
          "output_type": "stream",
          "name": "stdout",
          "text": [
            "Before permute tensor shape is torch.Size([2, 3, 5]) \n",
            "\n",
            "After permute tensor share is torch.Size([3, 2, 5]) \n",
            "\n"
          ]
        }
      ]
    },
    {
      "cell_type": "markdown",
      "source": [
        "# Indexing (selecting data from tensors)"
      ],
      "metadata": {
        "id": "E1G2DZMXXcr7"
      }
    },
    {
      "cell_type": "code",
      "source": [
        "# Create a tensor\n",
        "\n",
        "x = torch.arange(1,10).reshape([1,3,3])\n",
        "x"
      ],
      "metadata": {
        "id": "W1GVmtIrXd4p",
        "outputId": "5a65bc03-7893-4bc0-bb67-52953f1fb464",
        "colab": {
          "base_uri": "https://localhost:8080/"
        }
      },
      "execution_count": 77,
      "outputs": [
        {
          "output_type": "execute_result",
          "data": {
            "text/plain": [
              "tensor([[[1, 2, 3],\n",
              "         [4, 5, 6],\n",
              "         [7, 8, 9]]])"
            ]
          },
          "metadata": {},
          "execution_count": 77
        }
      ]
    },
    {
      "cell_type": "code",
      "source": [
        "print (\"x[0] {} \\n\".format(x[0]))"
      ],
      "metadata": {
        "id": "cXNY2nCsXxl_",
        "outputId": "974f4261-bc7c-4cf2-e316-fea09bb6be4b",
        "colab": {
          "base_uri": "https://localhost:8080/"
        }
      },
      "execution_count": 78,
      "outputs": [
        {
          "output_type": "stream",
          "name": "stdout",
          "text": [
            "x[0] tensor([[1, 2, 3],\n",
            "        [4, 5, 6],\n",
            "        [7, 8, 9]]) \n",
            "\n"
          ]
        }
      ]
    },
    {
      "cell_type": "code",
      "source": [
        "print(\"x[0][0] {} \\n\".format(x[0][0]))"
      ],
      "metadata": {
        "id": "HfYSvGF5X8t-",
        "outputId": "6fb86602-87ff-43f8-bd05-7a4311478f2a",
        "colab": {
          "base_uri": "https://localhost:8080/"
        }
      },
      "execution_count": 79,
      "outputs": [
        {
          "output_type": "stream",
          "name": "stdout",
          "text": [
            "x[0][0] tensor([1, 2, 3]) \n",
            "\n"
          ]
        }
      ]
    },
    {
      "cell_type": "code",
      "source": [
        "print(\"x[0][1] {} \\n\".format(x[0][1]))"
      ],
      "metadata": {
        "id": "srypvorjYKM4",
        "outputId": "c8f38f6f-2bed-49e9-9753-36e276508678",
        "colab": {
          "base_uri": "https://localhost:8080/"
        }
      },
      "execution_count": 80,
      "outputs": [
        {
          "output_type": "stream",
          "name": "stdout",
          "text": [
            "x[0][1] tensor([4, 5, 6]) \n",
            "\n"
          ]
        }
      ]
    },
    {
      "cell_type": "code",
      "source": [
        "print(f\"x[0][1][2] {x[0][1][2]} \\n\")"
      ],
      "metadata": {
        "id": "FfHWasjAYQYp",
        "outputId": "5ca24412-5a0c-42c0-b2e9-bd2a6fff21e5",
        "colab": {
          "base_uri": "https://localhost:8080/"
        }
      },
      "execution_count": 81,
      "outputs": [
        {
          "output_type": "stream",
          "name": "stdout",
          "text": [
            "x[0][1][2] 6 \n",
            "\n"
          ]
        }
      ]
    },
    {
      "cell_type": "markdown",
      "source": [
        "#### We can also use : to specify \"all values in this dimension\" and then use a comma (,) to add another dimension."
      ],
      "metadata": {
        "id": "klbxvBmwYnM6"
      }
    },
    {
      "cell_type": "code",
      "source": [
        "# Get all value of 0th dimension and 0th index of 1st dimension\n",
        "print(x[:,0])"
      ],
      "metadata": {
        "id": "Osq4NuUwYph1",
        "outputId": "13f98abf-702e-4991-f795-4d4f2b4ee7b8",
        "colab": {
          "base_uri": "https://localhost:8080/"
        }
      },
      "execution_count": 82,
      "outputs": [
        {
          "output_type": "stream",
          "name": "stdout",
          "text": [
            "tensor([[1, 2, 3]])\n"
          ]
        }
      ]
    },
    {
      "cell_type": "code",
      "source": [
        "# Get all 2nd value of 0th dimension and 1st dimension but 0th index of 1st dimension\n",
        "print(x[:,0,1])"
      ],
      "metadata": {
        "id": "gnwRfy1tZEZ_",
        "outputId": "9a233893-103a-4e10-8738-5311835d28c0",
        "colab": {
          "base_uri": "https://localhost:8080/"
        }
      },
      "execution_count": 83,
      "outputs": [
        {
          "output_type": "stream",
          "name": "stdout",
          "text": [
            "tensor([2])\n"
          ]
        }
      ]
    },
    {
      "cell_type": "code",
      "source": [
        "# Get the all values of 0th and 1st dimesnion but only index 1 of 1st and 2nd dimesnion\n",
        "print(x[:,:,1])"
      ],
      "metadata": {
        "id": "IVOH6reYYb44",
        "outputId": "3b5424bf-aebd-4903-e397-d678b6ea291d",
        "colab": {
          "base_uri": "https://localhost:8080/"
        }
      },
      "execution_count": 84,
      "outputs": [
        {
          "output_type": "stream",
          "name": "stdout",
          "text": [
            "tensor([[2, 5, 8]])\n"
          ]
        }
      ]
    },
    {
      "cell_type": "code",
      "source": [],
      "metadata": {
        "id": "MIDAoDK_a4WG"
      },
      "execution_count": 84,
      "outputs": []
    },
    {
      "cell_type": "code",
      "source": [
        "# Get the all values 0the dimension but index 1 of 1st and 2nd dimension\n",
        "print(x[:,1,1])"
      ],
      "metadata": {
        "id": "72t7J1lUEQjE",
        "outputId": "1a9a9349-6b02-4323-e3ba-db703cb843b0",
        "colab": {
          "base_uri": "https://localhost:8080/"
        }
      },
      "execution_count": 85,
      "outputs": [
        {
          "output_type": "stream",
          "name": "stdout",
          "text": [
            "tensor([5])\n"
          ]
        }
      ]
    },
    {
      "cell_type": "code",
      "source": [
        "# Get index 0 of 0th and 1st dimension and all values of 2nd dimension\n",
        "x[0, 0, :] # same as x[0][0]"
      ],
      "metadata": {
        "id": "3dRxMaMbaldf",
        "outputId": "50e5478c-caaa-41e3-ea6e-2f995b3fc5f7",
        "colab": {
          "base_uri": "https://localhost:8080/"
        }
      },
      "execution_count": 86,
      "outputs": [
        {
          "output_type": "execute_result",
          "data": {
            "text/plain": [
              "tensor([1, 2, 3])"
            ]
          },
          "metadata": {},
          "execution_count": 86
        }
      ]
    },
    {
      "cell_type": "code",
      "source": [
        "x"
      ],
      "metadata": {
        "id": "nJpryXuoDvnV",
        "outputId": "b7066a67-7091-4b67-a8b5-7f29c2ab9019",
        "colab": {
          "base_uri": "https://localhost:8080/"
        }
      },
      "execution_count": 87,
      "outputs": [
        {
          "output_type": "execute_result",
          "data": {
            "text/plain": [
              "tensor([[[1, 2, 3],\n",
              "         [4, 5, 6],\n",
              "         [7, 8, 9]]])"
            ]
          },
          "metadata": {},
          "execution_count": 87
        }
      ]
    },
    {
      "cell_type": "markdown",
      "source": [
        "# PyTorch tensors & NumPy\n",
        "#### numpy--->pytorch torch.from_numpy(ndarray)---->will return float64 data type as numpy default dtype is float64\n",
        "#### tensor-->numpy torch.tensor.numpy()----> will return float32 data type as tensor default dtype is float32\n"
      ],
      "metadata": {
        "id": "GJuENZkSn1XZ"
      }
    },
    {
      "cell_type": "code",
      "source": [
        "import torch\n",
        "import numpy as np\n",
        "\n",
        "# Creating a range of array\n",
        "array = np.arange(1.0,8.0)\n",
        "print(\"Numpy array is {}\".format(array))\n",
        "print(\"Numpy array data type is {}\".format(array.dtype))\n",
        "tensor = torch.from_numpy(array)\n",
        "print(\"tensor is {}\".format(tensor))\n",
        "print(\"tensor data type created by numpy is {}\".format(tensor.dtype))\n",
        "print(\"Multiplying by 2 in array\")\n",
        "array = array * 2\n",
        "print(\"Numpy array after multiplocation of 2 is {}\".format(array))\n",
        "print(\"Impact on tensor after multiplying 2 to numpy is {}\".format(tensor))\n",
        "print(\"Coverting data type of tensor \\n\")\n",
        "tensor = tensor.type(torch.float32)\n",
        "print(\"After converting the data tensor is {} and data type is {}\".format(tensor,tensor.dtype))"
      ],
      "metadata": {
        "id": "VdKfDwtwobKf",
        "outputId": "5902aed5-8eb5-4d44-86b6-37302bbdba91",
        "colab": {
          "base_uri": "https://localhost:8080/"
        }
      },
      "execution_count": 91,
      "outputs": [
        {
          "output_type": "stream",
          "name": "stdout",
          "text": [
            "Numpy array is [1. 2. 3. 4. 5. 6. 7.]\n",
            "Numpy array data type is float64\n",
            "tensor is tensor([1., 2., 3., 4., 5., 6., 7.], dtype=torch.float64)\n",
            "tensor data type created by numpy is torch.float64\n",
            "Multiplying by 2 in array\n",
            "Numpy array after multiplocation of 2 is [ 2.  4.  6.  8. 10. 12. 14.]\n",
            "Impact on tensor after multiplying 2 to numpy is tensor([1., 2., 3., 4., 5., 6., 7.], dtype=torch.float64)\n",
            "Coverting data type of tensor \n",
            "\n",
            "After converting the data tensor is tensor([1., 2., 3., 4., 5., 6., 7.]) and data type is torch.float32\n"
          ]
        }
      ]
    },
    {
      "cell_type": "code",
      "source": [
        "tensor = torch.ones(size=(7,))\n",
        "print(f\"Tensor is {tensor} and data type is {tensor.dtype}\")\n",
        "# converting tensor to numpy is call tensor.numpy() method\n",
        "array = tensor.numpy()\n",
        "print(f\"Numpy array is {array} and dataype {array.dtype}\")\n",
        "# Multiplying the tensor by 5\n",
        "tensor = tensor * 5\n",
        "print(f\"After multiplication of 5 tesnor is {tensor}\")\n",
        "print(f\"Impact on numpy array after multiplication of 5 on tensor is {array}\")\n"
      ],
      "metadata": {
        "id": "ov0eEIHmC8iH",
        "outputId": "b5b449ae-0d9a-4aad-e522-93cff48691ef",
        "colab": {
          "base_uri": "https://localhost:8080/"
        }
      },
      "execution_count": 96,
      "outputs": [
        {
          "output_type": "stream",
          "name": "stdout",
          "text": [
            "Tensor is tensor([1., 1., 1., 1., 1., 1., 1.]) and data type is torch.float32\n",
            "Numpy array is [1. 1. 1. 1. 1. 1. 1.] and dataype float32\n",
            "After multiplication of 5 tesnor is tensor([5., 5., 5., 5., 5., 5., 5.])\n",
            "Impact on numpy array after multiplication of 5 on tensor is [1. 1. 1. 1. 1. 1. 1.]\n"
          ]
        }
      ]
    },
    {
      "cell_type": "markdown",
      "source": [],
      "metadata": {
        "id": "fcwiodoHt1_J"
      }
    },
    {
      "cell_type": "code",
      "source": [],
      "metadata": {
        "id": "AvGOk1PgrHnr"
      },
      "execution_count": null,
      "outputs": []
    },
    {
      "cell_type": "code",
      "source": [],
      "metadata": {
        "id": "qeokHWvqqNVs"
      },
      "execution_count": null,
      "outputs": []
    },
    {
      "cell_type": "code",
      "source": [],
      "metadata": {
        "id": "xN2KcrZ6CdUR"
      },
      "execution_count": 87,
      "outputs": []
    },
    {
      "cell_type": "code",
      "source": [],
      "metadata": {
        "id": "55nLbWyyCbYY"
      },
      "execution_count": 87,
      "outputs": []
    },
    {
      "cell_type": "code",
      "source": [],
      "metadata": {
        "id": "p1GO2Zb6_ihB"
      },
      "execution_count": 87,
      "outputs": []
    },
    {
      "cell_type": "code",
      "source": [],
      "metadata": {
        "id": "Uv9vkE54-80z"
      },
      "execution_count": 87,
      "outputs": []
    },
    {
      "cell_type": "code",
      "source": [],
      "metadata": {
        "id": "cCevBdFa-CVL"
      },
      "execution_count": 87,
      "outputs": []
    },
    {
      "cell_type": "code",
      "source": [
        "\n"
      ],
      "metadata": {
        "id": "vdhrzCjmDzIs"
      },
      "execution_count": 87,
      "outputs": []
    },
    {
      "cell_type": "code",
      "source": [],
      "metadata": {
        "id": "Op9h93iW9_dG"
      },
      "execution_count": 87,
      "outputs": []
    },
    {
      "cell_type": "code",
      "source": [],
      "metadata": {
        "id": "ab4rJJQ2DNIq"
      },
      "execution_count": 87,
      "outputs": []
    },
    {
      "cell_type": "code",
      "source": [],
      "metadata": {
        "id": "_5PvIWtIBcaM"
      },
      "execution_count": 87,
      "outputs": []
    },
    {
      "cell_type": "code",
      "source": [],
      "metadata": {
        "id": "Dj59uyupBXka"
      },
      "execution_count": 87,
      "outputs": []
    },
    {
      "cell_type": "code",
      "source": [],
      "metadata": {
        "id": "8Sm3ykZSBQnb"
      },
      "execution_count": 87,
      "outputs": []
    },
    {
      "cell_type": "code",
      "source": [],
      "metadata": {
        "id": "8-yo6_rJAMXM"
      },
      "execution_count": 87,
      "outputs": []
    },
    {
      "cell_type": "code",
      "source": [],
      "metadata": {
        "id": "pL1a2T1j_Bjt"
      },
      "execution_count": 87,
      "outputs": []
    },
    {
      "cell_type": "code",
      "source": [],
      "metadata": {
        "id": "eLuRNiqI-zPf"
      },
      "execution_count": 87,
      "outputs": []
    },
    {
      "cell_type": "code",
      "source": [],
      "metadata": {
        "id": "q2tHRN-h-Vku"
      },
      "execution_count": 87,
      "outputs": []
    },
    {
      "cell_type": "code",
      "source": [],
      "metadata": {
        "id": "BUM_e64wlVyQ"
      },
      "execution_count": 87,
      "outputs": []
    },
    {
      "cell_type": "code",
      "source": [],
      "metadata": {
        "id": "uwTCEAJ3kbBR"
      },
      "execution_count": 87,
      "outputs": []
    },
    {
      "cell_type": "code",
      "source": [],
      "metadata": {
        "id": "AGBSSSHyiUZk"
      },
      "execution_count": 87,
      "outputs": []
    },
    {
      "cell_type": "code",
      "source": [
        "\n"
      ],
      "metadata": {
        "id": "KXtPUDngfk_-"
      },
      "execution_count": 87,
      "outputs": []
    },
    {
      "cell_type": "code",
      "source": [],
      "metadata": {
        "id": "Yhq6L-IebCQK"
      },
      "execution_count": 87,
      "outputs": []
    },
    {
      "cell_type": "code",
      "source": [],
      "metadata": {
        "id": "tRsAKO9Txv5k"
      },
      "execution_count": 87,
      "outputs": []
    },
    {
      "cell_type": "code",
      "source": [],
      "metadata": {
        "id": "9T_OkGwZumig"
      },
      "execution_count": 87,
      "outputs": []
    },
    {
      "cell_type": "code",
      "source": [],
      "metadata": {
        "id": "F9JhWvAjrsPj"
      },
      "execution_count": 87,
      "outputs": []
    },
    {
      "cell_type": "code",
      "source": [],
      "metadata": {
        "id": "kM3VL2jOqiEU"
      },
      "execution_count": 87,
      "outputs": []
    },
    {
      "cell_type": "code",
      "source": [],
      "metadata": {
        "id": "0hVcGsVlgG7M"
      },
      "execution_count": 87,
      "outputs": []
    },
    {
      "cell_type": "code",
      "source": [],
      "metadata": {
        "id": "bXq79qE0xAtb"
      },
      "execution_count": 87,
      "outputs": []
    },
    {
      "cell_type": "code",
      "source": [
        "#"
      ],
      "metadata": {
        "id": "j8l_95rlveq3"
      },
      "execution_count": 88,
      "outputs": []
    },
    {
      "cell_type": "code",
      "source": [],
      "metadata": {
        "id": "5AHLptrAqZBz"
      },
      "execution_count": 88,
      "outputs": []
    }
  ]
}