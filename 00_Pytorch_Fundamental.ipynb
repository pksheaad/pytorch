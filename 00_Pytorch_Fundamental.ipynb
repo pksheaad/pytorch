{
  "nbformat": 4,
  "nbformat_minor": 0,
  "metadata": {
    "colab": {
      "provenance": [],
      "authorship_tag": "ABX9TyM3RWfPnK+6u7kzf8VG2jXq",
      "include_colab_link": true
    },
    "kernelspec": {
      "name": "python3",
      "display_name": "Python 3"
    },
    "language_info": {
      "name": "python"
    }
  },
  "cells": [
    {
      "cell_type": "markdown",
      "metadata": {
        "id": "view-in-github",
        "colab_type": "text"
      },
      "source": [
        "<a href=\"https://colab.research.google.com/github/pksheaad/pytorch/blob/main/00_Pytorch_Fundamental.ipynb\" target=\"_parent\"><img src=\"https://colab.research.google.com/assets/colab-badge.svg\" alt=\"Open In Colab\"/></a>"
      ]
    },
    {
      "cell_type": "markdown",
      "source": [
        "## PYTORCH Basic Fundamental"
      ],
      "metadata": {
        "id": "6_sbbmk2eVzh"
      }
    },
    {
      "cell_type": "code",
      "source": [
        "import torch\n",
        "from torch import nn #// nn contains all building block of neural network\n",
        "from matplotlib.pyplot import plot\n",
        "import numpy as np\n",
        "\n",
        "\n",
        "torch.__version__"
      ],
      "metadata": {
        "colab": {
          "base_uri": "https://localhost:8080/",
          "height": 35
        },
        "id": "88jUbyRgeeFl",
        "outputId": "a9f0dc51-3094-4baf-920a-4718dc8420aa"
      },
      "execution_count": null,
      "outputs": [
        {
          "output_type": "execute_result",
          "data": {
            "text/plain": [
              "'2.8.0+cu126'"
            ],
            "application/vnd.google.colaboratory.intrinsic+json": {
              "type": "string"
            }
          },
          "metadata": {},
          "execution_count": 1
        }
      ]
    },
    {
      "cell_type": "markdown",
      "source": [
        "### Initializing and basic operations\n",
        "\n",
        "A tensor can be constructed from a Python list or sequence using the torch.tensor() constructor:"
      ],
      "metadata": {
        "id": "DKRXbmB0ik1Z"
      }
    },
    {
      "cell_type": "code",
      "source": [
        "vector = torch.tensor([[1.,-1.],[1.,-1.]])\n",
        "vector"
      ],
      "metadata": {
        "colab": {
          "base_uri": "https://localhost:8080/"
        },
        "id": "QiCoiZiwivKz",
        "outputId": "06b5dd04-b3d0-4eb7-d0db-f5b7f7cc56ee"
      },
      "execution_count": null,
      "outputs": [
        {
          "output_type": "execute_result",
          "data": {
            "text/plain": [
              "tensor([[ 1., -1.],\n",
              "        [ 1., -1.]])"
            ]
          },
          "metadata": {},
          "execution_count": 2
        }
      ]
    },
    {
      "cell_type": "code",
      "source": [
        "torch.tensor(np.array(vector))"
      ],
      "metadata": {
        "colab": {
          "base_uri": "https://localhost:8080/"
        },
        "id": "MmcrUEclj6fo",
        "outputId": "6f84dadd-6c66-4ff3-99e2-13a79fedc42d"
      },
      "execution_count": null,
      "outputs": [
        {
          "output_type": "execute_result",
          "data": {
            "text/plain": [
              "tensor([[ 1., -1.],\n",
              "        [ 1., -1.]])"
            ]
          },
          "metadata": {},
          "execution_count": 3
        }
      ]
    },
    {
      "cell_type": "markdown",
      "source": [
        "A tensor of specific data type can be constructed by passing a torch.dtype and/or a torch.device to a constructor or tensor creation op:"
      ],
      "metadata": {
        "id": "43eHgQIek0tl"
      }
    },
    {
      "cell_type": "code",
      "source": [
        "torch.zeros([2,4], dtype=torch.int32, device=\"cpu\")"
      ],
      "metadata": {
        "colab": {
          "base_uri": "https://localhost:8080/"
        },
        "id": "rq113PNbj0aL",
        "outputId": "883274ec-2a20-4c45-9a8d-f12e4df72cf3"
      },
      "execution_count": null,
      "outputs": [
        {
          "output_type": "execute_result",
          "data": {
            "text/plain": [
              "tensor([[0, 0, 0, 0],\n",
              "        [0, 0, 0, 0]], dtype=torch.int32)"
            ]
          },
          "metadata": {},
          "execution_count": 4
        }
      ]
    },
    {
      "cell_type": "code",
      "source": [
        "#cuda0 = torch.device('cuda:0')\n",
        "torch.ones([3,5], dtype=torch.float64, device=\"cpu\")"
      ],
      "metadata": {
        "colab": {
          "base_uri": "https://localhost:8080/"
        },
        "id": "srYkiiBJlR3y",
        "outputId": "5b9ebf98-0032-4fd8-cad1-73bc75945ac1"
      },
      "execution_count": null,
      "outputs": [
        {
          "output_type": "execute_result",
          "data": {
            "text/plain": [
              "tensor([[1., 1., 1., 1., 1.],\n",
              "        [1., 1., 1., 1., 1.],\n",
              "        [1., 1., 1., 1., 1.]], dtype=torch.float64)"
            ]
          },
          "metadata": {},
          "execution_count": 5
        }
      ]
    },
    {
      "cell_type": "markdown",
      "source": [
        "The contents of a tensor can be accessed and modified using Python’s indexing and slicing notation:"
      ],
      "metadata": {
        "id": "Y_8sgV1hmOy3"
      }
    },
    {
      "cell_type": "code",
      "source": [
        "x = torch.tensor([[1,5,8],[3,7,9],[4,5,6]])\n",
        "x\n",
        "print(x[0])\n",
        "print(x[1][2])\n",
        "x[2,2] = 10\n",
        "x"
      ],
      "metadata": {
        "colab": {
          "base_uri": "https://localhost:8080/"
        },
        "id": "tBEkpAaZmQG8",
        "outputId": "cc6c49c0-f57d-44c7-dc79-59593b93895a"
      },
      "execution_count": null,
      "outputs": [
        {
          "output_type": "stream",
          "name": "stdout",
          "text": [
            "tensor([1, 5, 8])\n",
            "tensor(9)\n"
          ]
        },
        {
          "output_type": "execute_result",
          "data": {
            "text/plain": [
              "tensor([[ 1,  5,  8],\n",
              "        [ 3,  7,  9],\n",
              "        [ 4,  5, 10]])"
            ]
          },
          "metadata": {},
          "execution_count": 6
        }
      ]
    },
    {
      "cell_type": "markdown",
      "source": [
        "Use torch.Tensor.item() to get a Python number from a tensor containing a single value:"
      ],
      "metadata": {
        "id": "OVKIG1SIm-aC"
      }
    },
    {
      "cell_type": "code",
      "source": [
        "x = torch.tensor(10.00)\n",
        "print(x)\n",
        "print(x.item())"
      ],
      "metadata": {
        "colab": {
          "base_uri": "https://localhost:8080/"
        },
        "id": "OoBTKY7enIz2",
        "outputId": "7132e756-a092-496b-d2a6-9f6ed5b9186b"
      },
      "execution_count": null,
      "outputs": [
        {
          "output_type": "stream",
          "name": "stdout",
          "text": [
            "tensor(10.)\n",
            "10.0\n"
          ]
        }
      ]
    },
    {
      "cell_type": "code",
      "source": [
        "x = torch.tensor(5)\n",
        "x\n",
        "print(x.item())"
      ],
      "metadata": {
        "colab": {
          "base_uri": "https://localhost:8080/"
        },
        "id": "zVZoZs8qmoY3",
        "outputId": "60edb469-e700-4180-e60e-6d6e0b84fc07"
      },
      "execution_count": null,
      "outputs": [
        {
          "output_type": "stream",
          "name": "stdout",
          "text": [
            "5\n"
          ]
        }
      ]
    },
    {
      "cell_type": "code",
      "source": [
        "scaler = torch.tensor(7)\n",
        "scaler"
      ],
      "metadata": {
        "colab": {
          "base_uri": "https://localhost:8080/"
        },
        "id": "-YSKIwLenTg1",
        "outputId": "7aee4c0d-fcc3-4339-8f4a-769611558772"
      },
      "execution_count": null,
      "outputs": [
        {
          "output_type": "execute_result",
          "data": {
            "text/plain": [
              "tensor(7)"
            ]
          },
          "metadata": {},
          "execution_count": 9
        }
      ]
    },
    {
      "cell_type": "markdown",
      "source": [
        "We can check the dimensions of a tensor using the ndim attribute."
      ],
      "metadata": {
        "id": "Anh8ouvYn1LS"
      }
    },
    {
      "cell_type": "code",
      "source": [
        "scaler.ndim"
      ],
      "metadata": {
        "colab": {
          "base_uri": "https://localhost:8080/"
        },
        "id": "xm70XMnLldsO",
        "outputId": "61f50f03-91e9-4e3f-88b6-dedb012889c1"
      },
      "execution_count": null,
      "outputs": [
        {
          "output_type": "execute_result",
          "data": {
            "text/plain": [
              "0"
            ]
          },
          "metadata": {},
          "execution_count": 10
        }
      ]
    },
    {
      "cell_type": "markdown",
      "source": [
        "torch.Tensor to a Python integer can we done by item() method"
      ],
      "metadata": {
        "id": "UxxyNqA9oIUH"
      }
    },
    {
      "cell_type": "code",
      "source": [
        "scaler.item()"
      ],
      "metadata": {
        "colab": {
          "base_uri": "https://localhost:8080/"
        },
        "id": "edvxWMaioPq7",
        "outputId": "910cca94-bce5-41ca-8424-aed6e23a8f64"
      },
      "execution_count": null,
      "outputs": [
        {
          "output_type": "execute_result",
          "data": {
            "text/plain": [
              "7"
            ]
          },
          "metadata": {},
          "execution_count": 11
        }
      ]
    },
    {
      "cell_type": "code",
      "source": [
        "vector = torch.tensor([7.,7])\n",
        "# dimension of vector\n",
        "print(vector.ndim)\n",
        "# shape of vector, Shapes tells us how the elemnt in the vector are arranged\n",
        "print(vector.shape)"
      ],
      "metadata": {
        "colab": {
          "base_uri": "https://localhost:8080/"
        },
        "id": "UzpVdt-doSzl",
        "outputId": "331a6846-0d0c-4f83-ab2a-b9239d816683"
      },
      "execution_count": null,
      "outputs": [
        {
          "output_type": "stream",
          "name": "stdout",
          "text": [
            "1\n",
            "torch.Size([2])\n"
          ]
        }
      ]
    },
    {
      "cell_type": "code",
      "source": [
        "print(vector[0].tolist())"
      ],
      "metadata": {
        "colab": {
          "base_uri": "https://localhost:8080/"
        },
        "id": "P-Q00wTFS4PK",
        "outputId": "e18ce5cc-1ea0-4062-ecfe-6aa13aef590c"
      },
      "execution_count": null,
      "outputs": [
        {
          "output_type": "stream",
          "name": "stdout",
          "text": [
            "7.0\n"
          ]
        }
      ]
    },
    {
      "cell_type": "code",
      "source": [
        "#MATRIX\n",
        "MATRIX = torch.tensor([[1,2,3],\n",
        "                       [4,5,6],\n",
        "                       [7,8,9]])\n",
        "# Dimension of MATRIX\n",
        "print(MATRIX.ndim)\n",
        "\n",
        "# Shape of MATRIX\n",
        "print(MATRIX.shape)\n",
        "\n",
        "# Accessing element of MATRIX\n",
        "print(MATRIX[0])\n",
        "print(MATRIX[1,1])\n",
        "print(MATRIX[0].tolist())"
      ],
      "metadata": {
        "colab": {
          "base_uri": "https://localhost:8080/"
        },
        "id": "fHzzEUvFpHDb",
        "outputId": "7505a88e-f8a5-449f-c0c6-57edee7df861"
      },
      "execution_count": null,
      "outputs": [
        {
          "output_type": "stream",
          "name": "stdout",
          "text": [
            "2\n",
            "torch.Size([3, 3])\n",
            "tensor([1, 2, 3])\n",
            "tensor(5)\n",
            "[1, 2, 3]\n"
          ]
        }
      ]
    },
    {
      "cell_type": "code",
      "source": [
        "TENSOR = torch.tensor([[[10,20,30],\n",
        "                        [40,50,60],\n",
        "                        [70,80,90]]])"
      ],
      "metadata": {
        "id": "gR-6sueNpz9V"
      },
      "execution_count": null,
      "outputs": []
    },
    {
      "cell_type": "code",
      "source": [
        "TENSOR\n",
        "print(TENSOR.ndim)\n",
        "print(TENSOR.shape)\n",
        "print(TENSOR[0])\n",
        "print(TENSOR[0][1][2]) # Ans must be 60"
      ],
      "metadata": {
        "colab": {
          "base_uri": "https://localhost:8080/"
        },
        "id": "XVcCf5MwqXYV",
        "outputId": "ac3a8a05-9766-40d1-b620-c37d61619c14"
      },
      "execution_count": null,
      "outputs": [
        {
          "output_type": "stream",
          "name": "stdout",
          "text": [
            "3\n",
            "torch.Size([1, 3, 3])\n",
            "tensor([[10, 20, 30],\n",
            "        [40, 50, 60],\n",
            "        [70, 80, 90]])\n",
            "tensor(60)\n"
          ]
        }
      ]
    },
    {
      "cell_type": "code",
      "source": [],
      "metadata": {
        "id": "RWJpulK7qq40"
      },
      "execution_count": null,
      "outputs": []
    },
    {
      "cell_type": "markdown",
      "source": [
        "#Random tensors\n",
        "\n",
        "A machine learning model often starts out with large random tensors of numbers and adjusts these random numbers as it works through data to better represent it.\n",
        "\n",
        "In essence:\n",
        "\n",
        "Start with random numbers -> look at data -> update random numbers -> look at data -> update random numbers..."
      ],
      "metadata": {
        "id": "OBpsAQ4-u8Mw"
      }
    },
    {
      "cell_type": "code",
      "source": [
        "# Creating a random tensor with scaler data\n",
        "random_tensor = torch.rand(size=(2,))\n",
        "random_tensor\n",
        "\n",
        "# Dimension of random_tensor\n",
        "print(random_tensor.ndim)\n",
        "\n",
        "# Shape of randmon_tensor\n",
        "\n",
        "print(random_tensor.shape)\n"
      ],
      "metadata": {
        "id": "CAQZQOfevL-u",
        "outputId": "9087be57-e938-4438-92fe-2f5b2c2864dd",
        "colab": {
          "base_uri": "https://localhost:8080/"
        }
      },
      "execution_count": null,
      "outputs": [
        {
          "output_type": "stream",
          "name": "stdout",
          "text": [
            "1\n",
            "torch.Size([2])\n"
          ]
        }
      ]
    },
    {
      "cell_type": "code",
      "source": [
        "# Creating a random tensor with vector data (3,4)\n",
        "random_tensor_vector = torch.rand(size=(3,4))\n",
        "print(random_tensor_vector)\n",
        "# Dimension of random_tensor_vector\n",
        "print(random_tensor_vector.ndim)\n",
        "# Shape of a random_tensor_vector\n",
        "print(random_tensor_vector.shape)"
      ],
      "metadata": {
        "id": "0yPLck3Yv5-N",
        "outputId": "83cbf1d9-330c-4791-ace1-34708d61519b",
        "colab": {
          "base_uri": "https://localhost:8080/"
        }
      },
      "execution_count": null,
      "outputs": [
        {
          "output_type": "stream",
          "name": "stdout",
          "text": [
            "tensor([[0.8532, 0.7766, 0.4091, 0.3515],\n",
            "        [0.3158, 0.1101, 0.8278, 0.1608],\n",
            "        [0.6361, 0.3724, 0.3625, 0.8084]])\n",
            "2\n",
            "torch.Size([3, 4])\n"
          ]
        }
      ]
    },
    {
      "cell_type": "code",
      "source": [
        "# How to generate an random image size tensor an Image with 3 different color (R,G,B),width=300 and height=300\n",
        "random_image_size_tensor = torch.rand(3,300,300)\n",
        "random_image_size_tensor"
      ],
      "metadata": {
        "id": "ct30lP5cwhdI",
        "outputId": "80579813-d299-498b-e827-6cd2f4249038",
        "colab": {
          "base_uri": "https://localhost:8080/"
        }
      },
      "execution_count": null,
      "outputs": [
        {
          "output_type": "execute_result",
          "data": {
            "text/plain": [
              "tensor([[[0.4411, 0.8005, 0.2848,  ..., 0.8066, 0.9327, 0.8552],\n",
              "         [0.9762, 0.0804, 0.3541,  ..., 0.8657, 0.2090, 0.9843],\n",
              "         [0.1580, 0.8095, 0.7243,  ..., 0.8347, 0.9687, 0.8193],\n",
              "         ...,\n",
              "         [0.3309, 0.5260, 0.3603,  ..., 0.0566, 0.2969, 0.1558],\n",
              "         [0.6024, 0.2167, 0.2843,  ..., 0.1361, 0.8244, 0.4764],\n",
              "         [0.5388, 0.9363, 0.0288,  ..., 0.1326, 0.9325, 0.9308]],\n",
              "\n",
              "        [[0.1120, 0.9589, 0.0037,  ..., 0.2575, 0.9300, 0.3633],\n",
              "         [0.9988, 0.6440, 0.2392,  ..., 0.7232, 0.5998, 0.2166],\n",
              "         [0.4114, 0.3388, 0.6764,  ..., 0.3194, 0.8752, 0.4458],\n",
              "         ...,\n",
              "         [0.7873, 0.3542, 0.4490,  ..., 0.7023, 0.7174, 0.4871],\n",
              "         [0.3623, 0.8776, 0.8056,  ..., 0.6355, 0.6796, 0.0982],\n",
              "         [0.6360, 0.0891, 0.7260,  ..., 0.1884, 0.4641, 0.9414]],\n",
              "\n",
              "        [[0.8574, 0.9777, 0.4811,  ..., 0.8948, 0.1230, 0.2973],\n",
              "         [0.9012, 0.8123, 0.2730,  ..., 0.8131, 0.0214, 0.0846],\n",
              "         [0.2389, 0.0378, 0.0936,  ..., 0.1732, 0.8144, 0.3537],\n",
              "         ...,\n",
              "         [0.4924, 0.7688, 0.5551,  ..., 0.4367, 0.4378, 0.9819],\n",
              "         [0.5041, 0.9308, 0.1417,  ..., 0.2133, 0.3222, 0.8937],\n",
              "         [0.8996, 0.6081, 0.7181,  ..., 0.5111, 0.5909, 0.5832]]])"
            ]
          },
          "metadata": {},
          "execution_count": 19
        }
      ]
    },
    {
      "cell_type": "markdown",
      "source": [
        "# Zeros and ones¶\n",
        "\n",
        "torch.zeros(size=)\n",
        "\n",
        "torch.ones(size=)"
      ],
      "metadata": {
        "id": "-7LRvggkx85U"
      }
    },
    {
      "cell_type": "code",
      "source": [
        "zeros = torch.zeros(size=(3,4))\n",
        "zeros"
      ],
      "metadata": {
        "id": "NTESBs9IyK1y",
        "outputId": "f4682772-f2b9-4c04-b24b-205655780490",
        "colab": {
          "base_uri": "https://localhost:8080/"
        }
      },
      "execution_count": null,
      "outputs": [
        {
          "output_type": "execute_result",
          "data": {
            "text/plain": [
              "tensor([[0., 0., 0., 0.],\n",
              "        [0., 0., 0., 0.],\n",
              "        [0., 0., 0., 0.]])"
            ]
          },
          "metadata": {},
          "execution_count": 20
        }
      ]
    },
    {
      "cell_type": "code",
      "source": [
        "zeros.dtype"
      ],
      "metadata": {
        "id": "UdFiidqryTFT",
        "outputId": "ed4278bb-9fd2-4f23-985e-b954d7422a2b",
        "colab": {
          "base_uri": "https://localhost:8080/"
        }
      },
      "execution_count": null,
      "outputs": [
        {
          "output_type": "execute_result",
          "data": {
            "text/plain": [
              "torch.float32"
            ]
          },
          "metadata": {},
          "execution_count": 21
        }
      ]
    },
    {
      "cell_type": "code",
      "source": [
        "ones = torch.ones(size=(3,4))\n",
        "ones"
      ],
      "metadata": {
        "id": "nVvnQ8styYs4",
        "outputId": "9a4b4bff-cc5f-4f2f-9bf2-13557a39ebac",
        "colab": {
          "base_uri": "https://localhost:8080/"
        }
      },
      "execution_count": null,
      "outputs": [
        {
          "output_type": "execute_result",
          "data": {
            "text/plain": [
              "tensor([[1., 1., 1., 1.],\n",
              "        [1., 1., 1., 1.],\n",
              "        [1., 1., 1., 1.]])"
            ]
          },
          "metadata": {},
          "execution_count": 22
        }
      ]
    },
    {
      "cell_type": "code",
      "source": [
        "ones.dtype"
      ],
      "metadata": {
        "id": "v-mhe8JpygUa",
        "outputId": "1b9bc57d-d6b2-42d2-df30-ec13a4f7515a",
        "colab": {
          "base_uri": "https://localhost:8080/"
        }
      },
      "execution_count": null,
      "outputs": [
        {
          "output_type": "execute_result",
          "data": {
            "text/plain": [
              "torch.float32"
            ]
          },
          "metadata": {},
          "execution_count": 23
        }
      ]
    },
    {
      "cell_type": "markdown",
      "source": [
        "# Creating Range and Like Tensor"
      ],
      "metadata": {
        "id": "w1MKEzvve2Gq"
      }
    },
    {
      "cell_type": "code",
      "source": [
        "# arange method will be used arange(start=, end=, step=)\n",
        "one_to_thousands = torch.arange(start = 0, end=1001, step=100)\n",
        "one_to_thousands"
      ],
      "metadata": {
        "id": "WTvYZmpjyjwE",
        "outputId": "f218d763-85c1-4300-9272-02ff2b7b096b",
        "colab": {
          "base_uri": "https://localhost:8080/"
        }
      },
      "execution_count": null,
      "outputs": [
        {
          "output_type": "execute_result",
          "data": {
            "text/plain": [
              "tensor([   0,  100,  200,  300,  400,  500,  600,  700,  800,  900, 1000])"
            ]
          },
          "metadata": {},
          "execution_count": 24
        }
      ]
    },
    {
      "cell_type": "code",
      "source": [
        "# Creatng Like tensor use like(input) method\n",
        "tens_zeros = torch.zeros_like(one_to_thousands)\n",
        "tens_zeros"
      ],
      "metadata": {
        "id": "5HaY7kK8fSZw",
        "outputId": "5b32df26-dfa7-4cc0-810a-f2343925b486",
        "colab": {
          "base_uri": "https://localhost:8080/"
        }
      },
      "execution_count": null,
      "outputs": [
        {
          "output_type": "execute_result",
          "data": {
            "text/plain": [
              "tensor([0, 0, 0, 0, 0, 0, 0, 0, 0, 0, 0])"
            ]
          },
          "metadata": {},
          "execution_count": 25
        }
      ]
    },
    {
      "cell_type": "code",
      "source": [
        "one_to_ten = torch.arange(0,10,1)\n",
        "one_to_ten"
      ],
      "metadata": {
        "id": "uwhCyFuVfxpN",
        "outputId": "67cc54d6-9762-45a4-cc3d-b9563ea5c004",
        "colab": {
          "base_uri": "https://localhost:8080/"
        }
      },
      "execution_count": null,
      "outputs": [
        {
          "output_type": "execute_result",
          "data": {
            "text/plain": [
              "tensor([0, 1, 2, 3, 4, 5, 6, 7, 8, 9])"
            ]
          },
          "metadata": {},
          "execution_count": 26
        }
      ]
    },
    {
      "cell_type": "code",
      "source": [
        "ten_ones = torch.ones_like(one_to_ten)\n",
        "ten_ones"
      ],
      "metadata": {
        "id": "UI2LVeYTf6Zi",
        "outputId": "bca25ef4-66af-47f1-bd95-a51e8d7d352d",
        "colab": {
          "base_uri": "https://localhost:8080/"
        }
      },
      "execution_count": null,
      "outputs": [
        {
          "output_type": "execute_result",
          "data": {
            "text/plain": [
              "tensor([1, 1, 1, 1, 1, 1, 1, 1, 1, 1])"
            ]
          },
          "metadata": {},
          "execution_count": 27
        }
      ]
    },
    {
      "cell_type": "markdown",
      "source": [
        "# Data Type in Tensor\n",
        "\n",
        "### Deafult datatype is float32,\n",
        "\n",
        "####Basically three issue we faced while computing in Torch in Deep Learning\n",
        "1. Operation is not same data type Tensor\n",
        "2. Operation on two different shape Tensor\n",
        "3. Operation on two different Tensor running on different devices."
      ],
      "metadata": {
        "id": "1X9TFR2DitNL"
      }
    },
    {
      "cell_type": "code",
      "source": [
        "float_32 = torch.tensor([3.0,6.0,9.0], dtype=None,  # default float32, explicitly define tensor datatype\n",
        "                        device=None, # default cpu explicitly define device type\n",
        "                        requires_grad=False) # If True operation performed on Tensor recorded\n",
        "float_32"
      ],
      "metadata": {
        "id": "qE61n5UWjLYp",
        "outputId": "2ef9f5d0-279f-4f24-e61d-0249ae67b0d1",
        "colab": {
          "base_uri": "https://localhost:8080/"
        }
      },
      "execution_count": null,
      "outputs": [
        {
          "output_type": "execute_result",
          "data": {
            "text/plain": [
              "tensor([3., 6., 9.])"
            ]
          },
          "metadata": {},
          "execution_count": 28
        }
      ]
    },
    {
      "cell_type": "code",
      "source": [
        "float_32.dtype"
      ],
      "metadata": {
        "id": "uYRUpAe6lrM8",
        "outputId": "b4fa058d-f3d8-45c4-d905-c276e3130497",
        "colab": {
          "base_uri": "https://localhost:8080/"
        }
      },
      "execution_count": null,
      "outputs": [
        {
          "output_type": "execute_result",
          "data": {
            "text/plain": [
              "torch.float32"
            ]
          },
          "metadata": {},
          "execution_count": 29
        }
      ]
    },
    {
      "cell_type": "code",
      "source": [
        "float_16_tensor = float_32.type(torch.float16)"
      ],
      "metadata": {
        "id": "F76V2Fm1lt_W"
      },
      "execution_count": null,
      "outputs": []
    },
    {
      "cell_type": "code",
      "source": [
        "float_16_tensor"
      ],
      "metadata": {
        "id": "xt8JWYAbnVJG",
        "outputId": "9dab5b5b-bb5d-421b-a884-bf7e5197322d",
        "colab": {
          "base_uri": "https://localhost:8080/"
        }
      },
      "execution_count": null,
      "outputs": [
        {
          "output_type": "execute_result",
          "data": {
            "text/plain": [
              "tensor([3., 6., 9.], dtype=torch.float16)"
            ]
          },
          "metadata": {},
          "execution_count": 31
        }
      ]
    },
    {
      "cell_type": "code",
      "source": [
        "int_8_tensor = torch.tensor([1,2,3],dtype=torch.int8)\n",
        "int_8_tensor"
      ],
      "metadata": {
        "id": "BzJIBLcknEJ5",
        "outputId": "0114e9ac-3c98-4394-d193-de349fc7c0f8",
        "colab": {
          "base_uri": "https://localhost:8080/"
        }
      },
      "execution_count": null,
      "outputs": [
        {
          "output_type": "execute_result",
          "data": {
            "text/plain": [
              "tensor([1, 2, 3], dtype=torch.int8)"
            ]
          },
          "metadata": {},
          "execution_count": 32
        }
      ]
    },
    {
      "cell_type": "markdown",
      "source": [
        "# Getting Attribute of Tensor\n",
        "\n",
        "1. Getting Datatype of Tensor use tensor.dtype\n",
        "2. Getting Shape of Tensor use tensor.shape\n",
        "3. Getting device of Tensor use tensor.device"
      ],
      "metadata": {
        "id": "wcWSsUfMqkP2"
      }
    },
    {
      "cell_type": "code",
      "source": [
        "some_rand_tensor = torch.rand(size = (3,4), dtype=torch.float64)\n",
        "print(some_rand_tensor)\n",
        "print(\"Data type of Tensor is {}\".format(some_rand_tensor.dtype))\n",
        "print(\"Shape of Tensor is {}\".format(some_rand_tensor.shape))\n",
        "print(\"Device is used for Tensor {}\".format(some_rand_tensor.device))"
      ],
      "metadata": {
        "id": "HWUtxO70q_D6",
        "outputId": "9c6c1f27-7892-4485-d3f2-81e2ac155d7e",
        "colab": {
          "base_uri": "https://localhost:8080/"
        }
      },
      "execution_count": null,
      "outputs": [
        {
          "output_type": "stream",
          "name": "stdout",
          "text": [
            "tensor([[0.1673, 0.5690, 0.7608, 0.0195],\n",
            "        [0.6799, 0.9738, 0.5338, 0.8904],\n",
            "        [0.8190, 0.5011, 0.1793, 0.5260]], dtype=torch.float64)\n",
            "Data type of Tensor is torch.float64\n",
            "Shape of Tensor is torch.Size([3, 4])\n",
            "Device is used for Tensor cpu\n"
          ]
        }
      ]
    },
    {
      "cell_type": "markdown",
      "source": [
        "# Manipulation Tensor (Operation on Tensor)\n",
        "1. Addition\n",
        "2. Substraction\n",
        "3. Multiplication\n",
        "4. Division\n",
        "5. Matrix Multiplication"
      ],
      "metadata": {
        "id": "JrlzHskEtdgQ"
      }
    },
    {
      "cell_type": "code",
      "source": [
        "tensor = torch.rand(size = (2,2), dtype=torch.float16)\n",
        "tensor"
      ],
      "metadata": {
        "id": "ph43VCwotrR_",
        "outputId": "e245b9d6-984a-45c1-9f74-6a7e70e0d736",
        "colab": {
          "base_uri": "https://localhost:8080/"
        }
      },
      "execution_count": null,
      "outputs": [
        {
          "output_type": "execute_result",
          "data": {
            "text/plain": [
              "tensor([[0.8936, 0.6797],\n",
              "        [0.4175, 0.7026]], dtype=torch.float16)"
            ]
          },
          "metadata": {},
          "execution_count": 34
        }
      ]
    },
    {
      "cell_type": "code",
      "source": [
        "# Addition of 10 in tensor\n",
        "print(\"Addition of 10 {}\".format(tensor+10))\n",
        "# Substartion of 10\n",
        "print(\"Subtraction of 10 {}\".format(tensor-10))\n",
        "# Multiplication of 10\n",
        "print(\"Multiplication of 10 {}\".format(tensor*10))\n",
        "# Division of 10\n",
        "print(\"Division of 10 {}\".format(tensor/10))"
      ],
      "metadata": {
        "id": "70sbE5UOt5nZ",
        "outputId": "a60875fd-9709-4cb5-ae6a-fa0e3e463ae7",
        "colab": {
          "base_uri": "https://localhost:8080/"
        }
      },
      "execution_count": null,
      "outputs": [
        {
          "output_type": "stream",
          "name": "stdout",
          "text": [
            "Addition of 10 tensor([[10.8906, 10.6797],\n",
            "        [10.4141, 10.7031]], dtype=torch.float16)\n",
            "Subtraction of 10 tensor([[-9.1094, -9.3203],\n",
            "        [-9.5859, -9.2969]], dtype=torch.float16)\n",
            "Multiplication of 10 tensor([[8.9375, 6.7969],\n",
            "        [4.1758, 7.0273]], dtype=torch.float16)\n",
            "Division of 10 tensor([[0.0894, 0.0680],\n",
            "        [0.0417, 0.0703]], dtype=torch.float16)\n"
          ]
        }
      ]
    },
    {
      "cell_type": "markdown",
      "source": [
        "# Matrix Multiplcation\n",
        "\n",
        "Q = [1,2,3]\n",
        "1. Element-wise multiplication\t[1 * 1, 2 * 2, 3 * 3] = [1, 4, 9]\ttensor * tensor\n",
        "2. Matrix multiplication\t[1 * 1 + 2 * 2 + 3 * 3] = [14]\ttensor.matmul(tensor)"
      ],
      "metadata": {
        "id": "OINVxerFximL"
      }
    },
    {
      "cell_type": "code",
      "source": [
        "tensor = torch.tensor([1,2,3])\n",
        "tensor.shape"
      ],
      "metadata": {
        "id": "S2a8ZjEqx3sc",
        "outputId": "66e5e176-b788-49ad-d9bf-aa3125b6e697",
        "colab": {
          "base_uri": "https://localhost:8080/"
        }
      },
      "execution_count": null,
      "outputs": [
        {
          "output_type": "execute_result",
          "data": {
            "text/plain": [
              "torch.Size([3])"
            ]
          },
          "metadata": {},
          "execution_count": 36
        }
      ]
    },
    {
      "cell_type": "code",
      "source": [
        "# ELement wise multiplication\n",
        "\n",
        "print (\" tensor * tensor = {}\".format(tensor*tensor))"
      ],
      "metadata": {
        "id": "QWLgKcetx_y1",
        "outputId": "8426dca9-5da8-409b-8bf2-b8bdbe2ebc64",
        "colab": {
          "base_uri": "https://localhost:8080/"
        }
      },
      "execution_count": null,
      "outputs": [
        {
          "output_type": "stream",
          "name": "stdout",
          "text": [
            " tensor * tensor = tensor([1, 4, 9])\n"
          ]
        }
      ]
    },
    {
      "cell_type": "code",
      "source": [
        "# dot multiplaction\n",
        "print(\"Dot Multiplication = {}\".format(tensor.matmul(tensor)) )"
      ],
      "metadata": {
        "id": "ZBQQtLpDyR_z",
        "outputId": "213004f2-ace4-4440-dd95-b0010e6705b6",
        "colab": {
          "base_uri": "https://localhost:8080/"
        }
      },
      "execution_count": null,
      "outputs": [
        {
          "output_type": "stream",
          "name": "stdout",
          "text": [
            "Dot Multiplication = 14\n"
          ]
        }
      ]
    },
    {
      "cell_type": "code",
      "source": [
        "MATRIX_1 = torch.tensor([[1,2,3],\n",
        "                         [4,5,6]])\n",
        "MATRIX_1.shape"
      ],
      "metadata": {
        "id": "7ZSTT4P1yuxV",
        "outputId": "986ca97e-09ca-4f64-b603-70df50e1f768",
        "colab": {
          "base_uri": "https://localhost:8080/"
        }
      },
      "execution_count": null,
      "outputs": [
        {
          "output_type": "execute_result",
          "data": {
            "text/plain": [
              "torch.Size([2, 3])"
            ]
          },
          "metadata": {},
          "execution_count": 39
        }
      ]
    },
    {
      "cell_type": "code",
      "source": [
        "MATRIX_2 = torch.tensor([[7,8],\n",
        "                         [9,10],\n",
        "                         [11,12]])\n",
        "MATRIX_2.shape"
      ],
      "metadata": {
        "id": "DfAloQxKyO4j",
        "outputId": "16c3c2de-a8fa-42a6-e845-a451a13af381",
        "colab": {
          "base_uri": "https://localhost:8080/"
        }
      },
      "execution_count": null,
      "outputs": [
        {
          "output_type": "execute_result",
          "data": {
            "text/plain": [
              "torch.Size([3, 2])"
            ]
          },
          "metadata": {},
          "execution_count": 40
        }
      ]
    },
    {
      "cell_type": "code",
      "source": [
        "# Matrix Multiplcation\n",
        "MAT_PRODUCT = MATRIX_1.matmul(MATRIX_2)\n",
        "MAT_PRODUCT"
      ],
      "metadata": {
        "id": "upFjlzXhz_qh",
        "outputId": "c099266c-0b66-499a-a8a6-c259a1ec3357",
        "colab": {
          "base_uri": "https://localhost:8080/"
        }
      },
      "execution_count": null,
      "outputs": [
        {
          "output_type": "execute_result",
          "data": {
            "text/plain": [
              "tensor([[ 58,  64],\n",
              "        [139, 154]])"
            ]
          },
          "metadata": {},
          "execution_count": 41
        }
      ]
    },
    {
      "cell_type": "code",
      "source": [
        "tensor_A = torch.tensor([[1,2],\n",
        "                        [3,4],\n",
        "                        [5,6]])"
      ],
      "metadata": {
        "id": "8MEKvJNd0VmH"
      },
      "execution_count": null,
      "outputs": []
    },
    {
      "cell_type": "code",
      "source": [
        "tensor_A.shape"
      ],
      "metadata": {
        "id": "cQUpMb-39TBI",
        "outputId": "0f2ad25a-ad3c-44ce-d1a9-f0ea00218489",
        "colab": {
          "base_uri": "https://localhost:8080/"
        }
      },
      "execution_count": null,
      "outputs": [
        {
          "output_type": "execute_result",
          "data": {
            "text/plain": [
              "torch.Size([3, 2])"
            ]
          },
          "metadata": {},
          "execution_count": 43
        }
      ]
    },
    {
      "cell_type": "code",
      "source": [
        "tensor_B = torch.tensor([[7,10],\n",
        "                         [8,11],\n",
        "                         [9,12]])\n"
      ],
      "metadata": {
        "id": "xXH7CoOh9Xn7"
      },
      "execution_count": null,
      "outputs": []
    },
    {
      "cell_type": "code",
      "source": [
        "tensor_B.shape"
      ],
      "metadata": {
        "id": "ZTviJ6299hpW",
        "outputId": "4def30a7-be82-4fe0-f561-1991cf7add27",
        "colab": {
          "base_uri": "https://localhost:8080/"
        }
      },
      "execution_count": null,
      "outputs": [
        {
          "output_type": "execute_result",
          "data": {
            "text/plain": [
              "torch.Size([3, 2])"
            ]
          },
          "metadata": {},
          "execution_count": 45
        }
      ]
    },
    {
      "cell_type": "code",
      "source": [
        "# Transpsoing the Tensor_B\n",
        "output = torch.matmul(tensor_A,tensor_B.T)\n",
        "print(output)"
      ],
      "metadata": {
        "id": "PKlWYwfF9kxG",
        "outputId": "c887e627-6513-450e-b39a-130b1ae9823f",
        "colab": {
          "base_uri": "https://localhost:8080/"
        }
      },
      "execution_count": null,
      "outputs": [
        {
          "output_type": "stream",
          "name": "stdout",
          "text": [
            "tensor([[ 27,  30,  33],\n",
            "        [ 61,  68,  75],\n",
            "        [ 95, 106, 117]])\n"
          ]
        }
      ]
    },
    {
      "cell_type": "code",
      "source": [
        "print(f\"Orginal Shape: Tensor_A->{tensor_A.shape}, Tensor_B->{tensor_B.shape}\\n\")\n",
        "print(f\"New Shape: Tensor_A(Same as above)->{tensor_A.shape}, Tensor_B-> {tensor_B.T}\\n\")\n",
        "print(f\"Mulatiplying {tensor_A.shape} @ {tensor_B.T}, Inner dimensions match \\n\")\n",
        "output = torch.mm(tensor_A,tensor_B.T)\n",
        "print(f\"Output \\n\")\n",
        "print(output)\n",
        "print(f\"Shape of output->{output.shape}\")"
      ],
      "metadata": {
        "id": "UL8XmdVq92sP",
        "colab": {
          "base_uri": "https://localhost:8080/"
        },
        "outputId": "75a20e61-b618-4862-c36c-00030e15a702"
      },
      "execution_count": null,
      "outputs": [
        {
          "output_type": "stream",
          "name": "stdout",
          "text": [
            "Orginal Shape: Tensor_A->torch.Size([3, 2]), Tensor_B->torch.Size([3, 2])\n",
            "\n",
            "New Shape: Tensor_A(Same as above)->torch.Size([3, 2]), Tensor_B-> tensor([[ 7,  8,  9],\n",
            "        [10, 11, 12]])\n",
            "\n",
            "Mulatiplying torch.Size([3, 2]) @ tensor([[ 7,  8,  9],\n",
            "        [10, 11, 12]]), Inner dimensions match \n",
            "\n",
            "Output \n",
            "\n",
            "tensor([[ 27,  30,  33],\n",
            "        [ 61,  68,  75],\n",
            "        [ 95, 106, 117]])\n",
            "Shape of output->torch.Size([3, 3])\n"
          ]
        }
      ]
    },
    {
      "cell_type": "markdown",
      "source": [
        "# Linear\n",
        "torch.nn.Linear(in_features, out_features, bias=True, device=None, dtype=None)\n",
        "Applies a linear transformation to the incoming data:\n",
        "$$ y = x\\cdot{A^T} + b $$\n",
        "\n"
      ],
      "metadata": {
        "id": "xTtMKhBvYpza"
      }
    },
    {
      "cell_type": "code",
      "source": [
        "# Since the linear layer starts with a random weights matrix, let's make it reproducible\n",
        "torch.manual_seed(42)\n",
        "#Linear\n",
        "torch_random_linear = torch.nn.Linear(in_features=10, #in_feature = Define inner dimension of input\n",
        "                                      out_features=6) # describe outer value\n",
        "# Creating Matrix 2X3\n",
        "tensor_A = torch.randn(2,10)\n",
        "print(\"Size of tensor_A {}\".format(tensor_A.shape))\n",
        "output = torch_random_linear(tensor_A)\n",
        "print(\" Output \\n {}\".format(output))\n",
        "print(\"Output shape {}\".format(output.shape))\n"
      ],
      "metadata": {
        "id": "qUR2MXiHz9kB",
        "colab": {
          "base_uri": "https://localhost:8080/"
        },
        "outputId": "1c9d0e21-cf5b-41ac-b2ee-bfde989611b8"
      },
      "execution_count": null,
      "outputs": [
        {
          "output_type": "stream",
          "name": "stdout",
          "text": [
            "Size of tensor_A torch.Size([2, 10])\n",
            " Output \n",
            " tensor([[-0.1000,  0.9796, -0.8712,  0.0889,  0.2433, -1.1368],\n",
            "        [ 0.5277, -0.0021,  0.2297,  1.2705,  1.1197,  0.7797]],\n",
            "       grad_fn=<AddmmBackward0>)\n",
            "Output shape torch.Size([2, 6])\n"
          ]
        }
      ]
    },
    {
      "cell_type": "markdown",
      "source": [
        "# Finding the min, max, mean, sum, etc (aggregation)"
      ],
      "metadata": {
        "id": "5oFHwV6SeDlw"
      }
    },
    {
      "cell_type": "code",
      "source": [
        "# create a tensor\n",
        "\n",
        "x= torch.arange(start=10, end=1001, step=20)\n",
        "print(x)\n",
        "print(\"Minimum value: = {}\".format(x.min()))\n",
        "print(\"Maximum value: = {}\".format(x.max()))\n",
        "print(\"Meanvalue: = {}\".format(x.type(dtype=torch.float32).mean())) # Data Type conversion required as mean has float value\n",
        "print(\"Sum: {}\".format(x.sum()))\n",
        "\n"
      ],
      "metadata": {
        "id": "f7_aoeUgeF1W",
        "outputId": "42f2c977-bacf-4c55-af6b-2533635e7fd0",
        "colab": {
          "base_uri": "https://localhost:8080/"
        }
      },
      "execution_count": null,
      "outputs": [
        {
          "output_type": "stream",
          "name": "stdout",
          "text": [
            "tensor([ 10,  30,  50,  70,  90, 110, 130, 150, 170, 190, 210, 230, 250, 270,\n",
            "        290, 310, 330, 350, 370, 390, 410, 430, 450, 470, 490, 510, 530, 550,\n",
            "        570, 590, 610, 630, 650, 670, 690, 710, 730, 750, 770, 790, 810, 830,\n",
            "        850, 870, 890, 910, 930, 950, 970, 990])\n",
            "Minimum value: = 10\n",
            "Maximum value: = 990\n",
            "Meanvalue: = 500.0\n",
            "Sum: 25000\n"
          ]
        }
      ]
    },
    {
      "cell_type": "markdown",
      "source": [
        "#### We can do the above code with the below method also\n",
        "torch.max(x), torch.min(x), torch.mean(x.type(torch.float32)), torch.sum(x)"
      ],
      "metadata": {
        "id": "G0Hf7vwsf6cJ"
      }
    },
    {
      "cell_type": "code",
      "source": [
        "x = torch.arange(0,100,5)\n",
        "print(\"x:= {}\".format(x))\n",
        "print(\"Min value is: = {}\".format(torch.min(x)))\n",
        "print(\"Max value is: = {}\".format(torch.max(x)))\n",
        "print(\"Mean value is: = {}\".format(torch.mean(x.type(dtype=torch.float32))))\n",
        "print(\"Sum is: = {}\".format(torch.sum(x)))"
      ],
      "metadata": {
        "id": "aj_2l-37gB5m",
        "outputId": "91bc0db5-d144-43ff-fcfd-90987016102c",
        "colab": {
          "base_uri": "https://localhost:8080/"
        }
      },
      "execution_count": null,
      "outputs": [
        {
          "output_type": "stream",
          "name": "stdout",
          "text": [
            "x:= tensor([ 0,  5, 10, 15, 20, 25, 30, 35, 40, 45, 50, 55, 60, 65, 70, 75, 80, 85,\n",
            "        90, 95])\n",
            "Min value is: = 0\n",
            "Max value is: = 95\n",
            "Mean value is: = 47.5\n",
            "Sum is: = 950\n"
          ]
        }
      ]
    },
    {
      "cell_type": "markdown",
      "source": [
        "# Getting the positional min and max\n",
        "You can also find the index of a tensor where the max or minimum occurs with torch.argmax() and torch.argmin() respectively."
      ],
      "metadata": {
        "id": "rqcLqU93gyYv"
      }
    },
    {
      "cell_type": "code",
      "source": [
        "# creation a tensor\n",
        "random_tensor = torch.arange(2,79,6)\n",
        "# printing the tensor\n",
        "print(random_tensor)\n",
        "# Getting the max value and position of max value\n",
        "print(\"max value: = {} and position of max value: = {}\".\n",
        "      format(torch.max(random_tensor),torch.argmax(random_tensor)))\n",
        "# Getting the min value and position of min value\n",
        "print(\"min value: = {} and position of min value: = {}\".\n",
        "      format(torch.min(random_tensor),torch.argmin(random_tensor)))"
      ],
      "metadata": {
        "id": "7CTwcnr2g5i8",
        "outputId": "0d2a55ef-c6fb-423f-d05e-38cbc0f3d16a",
        "colab": {
          "base_uri": "https://localhost:8080/"
        }
      },
      "execution_count": null,
      "outputs": [
        {
          "output_type": "stream",
          "name": "stdout",
          "text": [
            "tensor([ 2,  8, 14, 20, 26, 32, 38, 44, 50, 56, 62, 68, 74])\n",
            "max value: = 74 and position of max value: = 12\n",
            "min value: = 2 and position of min value: = 0\n"
          ]
        }
      ]
    },
    {
      "cell_type": "markdown",
      "source": [
        "# Change tensor datatype\n",
        "\n",
        "We can change tensor data type by using method torch.tensor.type(dtype=None)"
      ],
      "metadata": {
        "id": "x8FI0eX7kNIu"
      }
    },
    {
      "cell_type": "code",
      "source": [
        "# create a tensor\n",
        "x = torch.tensor([10.0,20.0,30.0,40.0,50.0])\n",
        "x.dtype"
      ],
      "metadata": {
        "id": "lzxXH0iJkgUc",
        "outputId": "31a50fcf-a656-434f-f5d1-b96f2ab1df5e",
        "colab": {
          "base_uri": "https://localhost:8080/"
        }
      },
      "execution_count": null,
      "outputs": [
        {
          "output_type": "execute_result",
          "data": {
            "text/plain": [
              "torch.float32"
            ]
          },
          "metadata": {},
          "execution_count": 52
        }
      ]
    },
    {
      "cell_type": "code",
      "source": [
        "# Converting above tensor in float_16\n",
        "x_float16 = x.type(dtype=torch.float16)"
      ],
      "metadata": {
        "id": "iOfNTRrDkuCv"
      },
      "execution_count": null,
      "outputs": []
    },
    {
      "cell_type": "code",
      "source": [
        "x_float16"
      ],
      "metadata": {
        "id": "xIPfMD_SlEvi",
        "outputId": "c6f62f34-02d4-4aa2-a4f0-59cea9ae5789",
        "colab": {
          "base_uri": "https://localhost:8080/"
        }
      },
      "execution_count": null,
      "outputs": [
        {
          "output_type": "execute_result",
          "data": {
            "text/plain": [
              "tensor([10., 20., 30., 40., 50.], dtype=torch.float16)"
            ]
          },
          "metadata": {},
          "execution_count": 54
        }
      ]
    },
    {
      "cell_type": "code",
      "source": [
        "# Converting x tensor to int\n",
        "x_int8= x.type(torch.int8)\n",
        "x_int8"
      ],
      "metadata": {
        "id": "_5axRbHXlGYx",
        "outputId": "e8787bfa-672a-4edb-b2af-5e48d87abc44",
        "colab": {
          "base_uri": "https://localhost:8080/"
        }
      },
      "execution_count": null,
      "outputs": [
        {
          "output_type": "execute_result",
          "data": {
            "text/plain": [
              "tensor([10, 20, 30, 40, 50], dtype=torch.int8)"
            ]
          },
          "metadata": {},
          "execution_count": 55
        }
      ]
    },
    {
      "cell_type": "markdown",
      "source": [
        "# Reshaping, stacking\n",
        "#### torch.reshape(input, shape)====> Reshape the input into shape if compatible, can also use as torch.Tensor.reshape()\n",
        "#### tensor.view() ===> Return the view of original tensor in different view, but share the same data as original tensor\n",
        "#### torch.stack(tensors, dim=0)===> Concatenate a sequience of Tensor along with dimesion, all tensor must have same size"
      ],
      "metadata": {
        "id": "VhTLbVhb8SU1"
      }
    },
    {
      "cell_type": "code",
      "source": [
        "# create a random tensor\n",
        "a = torch.arange(4.)\n",
        "print(\"Original tensor \\n {}\".format(a))\n",
        "print(\"Chnaged shaped \\n{}\".format(torch.reshape(a,(2,2))))\n",
        "b = torch.tensor([[10,20],\n",
        " [30,40]])\n",
        "print(b)\n",
        "print(\"Changed shape \\n {}\".format(torch.reshape(b,(-1,))))\n",
        "c = torch.rand(5,8)\n",
        "print(c)\n",
        "print(\"Changed shaped in 4 X 10 \\n {}\".format(torch.reshape(c,(4,10))))\n",
        "print(\"Changed chape in 2X20 \\n {}\".format(torch.reshape(c,(2,20))))\n",
        "\n",
        "\n"
      ],
      "metadata": {
        "id": "5C8DIU6K9kAI",
        "outputId": "029490df-b1cf-4933-8bdd-079bb8ba1950",
        "colab": {
          "base_uri": "https://localhost:8080/"
        }
      },
      "execution_count": null,
      "outputs": [
        {
          "output_type": "stream",
          "name": "stdout",
          "text": [
            "Original tensor \n",
            " tensor([0., 1., 2., 3.])\n",
            "Chnaged shaped \n",
            "tensor([[0., 1.],\n",
            "        [2., 3.]])\n",
            "tensor([[10, 20],\n",
            "        [30, 40]])\n",
            "Changed shape \n",
            " tensor([10, 20, 30, 40])\n",
            "tensor([[0.4340, 0.1371, 0.5117, 0.1585, 0.0758, 0.2247, 0.0624, 0.1816],\n",
            "        [0.9998, 0.5944, 0.6541, 0.0337, 0.1716, 0.3336, 0.5782, 0.0600],\n",
            "        [0.2846, 0.2007, 0.5014, 0.3139, 0.4654, 0.1612, 0.1568, 0.2083],\n",
            "        [0.3289, 0.1054, 0.9192, 0.4008, 0.9302, 0.6558, 0.0766, 0.8460],\n",
            "        [0.3624, 0.3083, 0.0850, 0.0029, 0.6431, 0.3908, 0.6947, 0.0897]])\n",
            "Changed shaped in 4 X 10 \n",
            " tensor([[0.4340, 0.1371, 0.5117, 0.1585, 0.0758, 0.2247, 0.0624, 0.1816, 0.9998,\n",
            "         0.5944],\n",
            "        [0.6541, 0.0337, 0.1716, 0.3336, 0.5782, 0.0600, 0.2846, 0.2007, 0.5014,\n",
            "         0.3139],\n",
            "        [0.4654, 0.1612, 0.1568, 0.2083, 0.3289, 0.1054, 0.9192, 0.4008, 0.9302,\n",
            "         0.6558],\n",
            "        [0.0766, 0.8460, 0.3624, 0.3083, 0.0850, 0.0029, 0.6431, 0.3908, 0.6947,\n",
            "         0.0897]])\n",
            "Changed chape in 2X20 \n",
            " tensor([[0.4340, 0.1371, 0.5117, 0.1585, 0.0758, 0.2247, 0.0624, 0.1816, 0.9998,\n",
            "         0.5944, 0.6541, 0.0337, 0.1716, 0.3336, 0.5782, 0.0600, 0.2846, 0.2007,\n",
            "         0.5014, 0.3139],\n",
            "        [0.4654, 0.1612, 0.1568, 0.2083, 0.3289, 0.1054, 0.9192, 0.4008, 0.9302,\n",
            "         0.6558, 0.0766, 0.8460, 0.3624, 0.3083, 0.0850, 0.0029, 0.6431, 0.3908,\n",
            "         0.6947, 0.0897]])\n"
          ]
        }
      ]
    },
    {
      "cell_type": "code",
      "source": [
        "x = torch.arange(1.,7.)\n",
        "print(\"Shape of the tensor {}\".format(x.shape))\n",
        "print(\"Reshape the tensor in 2X3 is \\n {}\".format(torch.reshape(x,(2,3))))"
      ],
      "metadata": {
        "id": "CIJ-8dQPAp5h",
        "outputId": "c8ac46d5-0f3a-418f-de68-2790ebe4fb5c",
        "colab": {
          "base_uri": "https://localhost:8080/"
        }
      },
      "execution_count": null,
      "outputs": [
        {
          "output_type": "stream",
          "name": "stdout",
          "text": [
            "Shape of the tensor torch.Size([6])\n",
            "Reshape the tensor in 2X3 is \n",
            " tensor([[1., 2., 3.],\n",
            "        [4., 5., 6.]])\n"
          ]
        }
      ]
    },
    {
      "cell_type": "code",
      "source": [
        "# Understading view\n",
        "\n",
        "x= torch.randn(4,4)\n",
        "print(\"Size of Tensor {} \\n\".format(x.size()))\n",
        "y = x.view(16)\n",
        "print (\"Reshape Tensor y is \\n {}\".format(y))\n",
        "print(\"Size of Tensor y is {} \\n\".format(y.shape))\n",
        "z = x.view(-1,8) # the size -1 is inferred from other dimensions\n",
        "print (\"Reshape Tensor z is \\n {}\".format(z))\n",
        "print(\"Shape of Tesnor z is {} \\n\".format(z.shape))\n"
      ],
      "metadata": {
        "id": "6fARl7wiBwiC",
        "outputId": "0092188e-9474-4a1d-eb1b-c6cbc9736c51",
        "colab": {
          "base_uri": "https://localhost:8080/"
        }
      },
      "execution_count": null,
      "outputs": [
        {
          "output_type": "stream",
          "name": "stdout",
          "text": [
            "Size of Tensor torch.Size([4, 4]) \n",
            "\n",
            "Reshape Tensor y is \n",
            " tensor([ 0.4788,  1.3537, -0.1593, -0.4249,  0.9442, -0.1849,  1.0608,  0.2083,\n",
            "         1.3065,  0.4598,  0.2618, -0.7599, -2.0461, -1.5295,  0.4049,  0.6319])\n",
            "Size of Tensor y is torch.Size([16]) \n",
            "\n",
            "Reshape Tensor z is \n",
            " tensor([[ 0.4788,  1.3537, -0.1593, -0.4249,  0.9442, -0.1849,  1.0608,  0.2083],\n",
            "        [ 1.3065,  0.4598,  0.2618, -0.7599, -2.0461, -1.5295,  0.4049,  0.6319]])\n",
            "Shape of Tesnor z is torch.Size([2, 8]) \n",
            "\n"
          ]
        }
      ]
    },
    {
      "cell_type": "code",
      "source": [
        "a = torch.randn(1,2,3,4)\n",
        "print(\"Tensor a is \\n {}\".format(a))\n",
        "print(\"Size of Tensor a is {} \\n\".format(a.size()))\n",
        "# swape the 2 and 3 elements\n",
        "b = a.transpose(2,3)\n",
        "print(\"Afther swapping Tensor b is \\n {}\".format(b))\n",
        "print(\"Size of Tensor b is {} \\n\".format(b.size()))\n",
        "print(\"Check the Tensor a and b are equal or not {} \\n\".format(torch.equal(a,b)))\n",
        "c = a.view(1,3,2,4)\n",
        "print(\"Afther swapping Tensor c is \\n {}\".format(c))\n",
        "print(\"Size of Tensor c is {} \\n\".format(c.size()))\n",
        "print(\"Check whether Tensor b and c are equals or not {}\\n\".format(torch.equal(c,b)))\n",
        "print(\"Check whether Tensor a and c are equals or not {}\\n\".format(torch.equal(c,a)))"
      ],
      "metadata": {
        "id": "HmsUp6FqFo15",
        "outputId": "7d567228-3667-48ae-e1d4-3c5b97a254c1",
        "colab": {
          "base_uri": "https://localhost:8080/"
        }
      },
      "execution_count": null,
      "outputs": [
        {
          "output_type": "stream",
          "name": "stdout",
          "text": [
            "Tensor a is \n",
            " tensor([[[[-0.1483, -2.3184,  1.3032,  0.4879],\n",
            "          [ 1.1340, -0.3556,  0.3618,  1.9993],\n",
            "          [ 0.1787, -0.1293, -0.9291,  0.2762]],\n",
            "\n",
            "         [[-0.5389,  0.4626, -0.8719, -0.0271],\n",
            "          [ 0.3416, -0.2214,  1.2554, -0.7150],\n",
            "          [ 0.8539,  0.5130,  0.5397,  0.5655]]]])\n",
            "Size of Tensor a is torch.Size([1, 2, 3, 4]) \n",
            "\n",
            "Afther swapping Tensor b is \n",
            " tensor([[[[-0.1483,  1.1340,  0.1787],\n",
            "          [-2.3184, -0.3556, -0.1293],\n",
            "          [ 1.3032,  0.3618, -0.9291],\n",
            "          [ 0.4879,  1.9993,  0.2762]],\n",
            "\n",
            "         [[-0.5389,  0.3416,  0.8539],\n",
            "          [ 0.4626, -0.2214,  0.5130],\n",
            "          [-0.8719,  1.2554,  0.5397],\n",
            "          [-0.0271, -0.7150,  0.5655]]]])\n",
            "Size of Tensor b is torch.Size([1, 2, 4, 3]) \n",
            "\n",
            "Check the Tensor a and b are equal or not False \n",
            "\n",
            "Afther swapping Tensor c is \n",
            " tensor([[[[-0.1483, -2.3184,  1.3032,  0.4879],\n",
            "          [ 1.1340, -0.3556,  0.3618,  1.9993]],\n",
            "\n",
            "         [[ 0.1787, -0.1293, -0.9291,  0.2762],\n",
            "          [-0.5389,  0.4626, -0.8719, -0.0271]],\n",
            "\n",
            "         [[ 0.3416, -0.2214,  1.2554, -0.7150],\n",
            "          [ 0.8539,  0.5130,  0.5397,  0.5655]]]])\n",
            "Size of Tensor c is torch.Size([1, 3, 2, 4]) \n",
            "\n",
            "Check whether Tensor b and c are equals or not False\n",
            "\n",
            "Check whether Tensor a and c are equals or not False\n",
            "\n"
          ]
        }
      ]
    },
    {
      "cell_type": "markdown",
      "source": [
        "# Stack Squeex, Unsqueez and Permute\n",
        "\n",
        "torch.stack(tensors, dim=0)\tConcatenates a sequence of tensors along a new dimension (dim), all tensors must be same size.\n",
        "\n",
        "torch.squeeze(input)\tSqueezes input to remove all the dimenions with value 1.\n",
        "\n",
        "torch.unsqueeze(input, dim)\tReturns input with a dimension value of 1 added at dim.\n",
        "\n",
        "torch.permute(input, dims)\tReturns a view of the original input with its dimensions permuted (rearranged) to dims."
      ],
      "metadata": {
        "id": "tC9ftJrq-BnI"
      }
    },
    {
      "cell_type": "code",
      "source": [
        "# Cretae a tensor\n",
        "x = torch.arange(1.0,8)"
      ],
      "metadata": {
        "id": "dKCJRA_D-IRC"
      },
      "execution_count": null,
      "outputs": []
    },
    {
      "cell_type": "code",
      "source": [
        "print (f\"Tensor x is {x}\")\n",
        "print(\"Shape of tensor s is {} \".format(x.shape))"
      ],
      "metadata": {
        "id": "x6xgi9ss-36a",
        "outputId": "0dfd74ec-e29a-4a25-fc91-6b11be79b520",
        "colab": {
          "base_uri": "https://localhost:8080/"
        }
      },
      "execution_count": null,
      "outputs": [
        {
          "output_type": "stream",
          "name": "stdout",
          "text": [
            "Tensor x is tensor([1., 2., 3., 4., 5., 6., 7.])\n",
            "Shape of tensor s is torch.Size([7]) \n"
          ]
        }
      ]
    },
    {
      "cell_type": "code",
      "source": [
        "x_stacked = torch.stack([x,x,x,x], dim=0)"
      ],
      "metadata": {
        "id": "O5XDzkCa_G_L"
      },
      "execution_count": null,
      "outputs": []
    },
    {
      "cell_type": "code",
      "source": [
        "print(x_stacked)\n",
        "print(x_stacked.shape)"
      ],
      "metadata": {
        "id": "93wQo-eJ_f95",
        "outputId": "288f3188-e5a3-4936-b919-f47c852e2ca3",
        "colab": {
          "base_uri": "https://localhost:8080/"
        }
      },
      "execution_count": null,
      "outputs": [
        {
          "output_type": "stream",
          "name": "stdout",
          "text": [
            "tensor([[1., 2., 3., 4., 5., 6., 7.],\n",
            "        [1., 2., 3., 4., 5., 6., 7.],\n",
            "        [1., 2., 3., 4., 5., 6., 7.],\n",
            "        [1., 2., 3., 4., 5., 6., 7.]])\n",
            "torch.Size([4, 7])\n"
          ]
        }
      ]
    },
    {
      "cell_type": "code",
      "source": [
        "x_stacked = torch.stack([x,x,x,x],dim = 1)\n",
        "x_stacked, x_stacked.shape"
      ],
      "metadata": {
        "id": "9WYZMG7X_o_J",
        "outputId": "4c35c449-5a95-4945-b971-7d313771dc01",
        "colab": {
          "base_uri": "https://localhost:8080/"
        }
      },
      "execution_count": null,
      "outputs": [
        {
          "output_type": "execute_result",
          "data": {
            "text/plain": [
              "(tensor([[1., 1., 1., 1.],\n",
              "         [2., 2., 2., 2.],\n",
              "         [3., 3., 3., 3.],\n",
              "         [4., 4., 4., 4.],\n",
              "         [5., 5., 5., 5.],\n",
              "         [6., 6., 6., 6.],\n",
              "         [7., 7., 7., 7.]]),\n",
              " torch.Size([7, 4]))"
            ]
          },
          "metadata": {},
          "execution_count": 71
        }
      ]
    },
    {
      "cell_type": "code",
      "source": [
        "# torch.squeez(tensor, dim =)\n",
        "x = torch.zeros(2,1,2,1,2)\n",
        "print(\"Orginal tensor x is \\n {}\".format(x))\n",
        "print(\"Shape of tensor x is {} \\n \".format(x.shape))"
      ],
      "metadata": {
        "id": "CRGbPXqY_2Qn",
        "outputId": "a0540de6-0f5b-4a4b-dfa3-479d8c710a81",
        "colab": {
          "base_uri": "https://localhost:8080/"
        }
      },
      "execution_count": null,
      "outputs": [
        {
          "output_type": "stream",
          "name": "stdout",
          "text": [
            "Orginal tensor x is \n",
            " tensor([[[[[0., 0.]],\n",
            "\n",
            "          [[0., 0.]]]],\n",
            "\n",
            "\n",
            "\n",
            "        [[[[0., 0.]],\n",
            "\n",
            "          [[0., 0.]]]]])\n",
            "Shape of tensor x is torch.Size([2, 1, 2, 1, 2]) \n",
            " \n"
          ]
        }
      ]
    },
    {
      "cell_type": "code",
      "source": [
        "y = torch.squeeze(x)\n",
        "print(\"Squeez tensor y is \\n {}\".format(y))\n",
        "print(\"Shape of Squeez tensor is {}\\n\".format(y.shape))"
      ],
      "metadata": {
        "id": "qfVJENx-AwOH",
        "outputId": "ac9309e9-0d36-42d8-fb54-c88a7f63291a",
        "colab": {
          "base_uri": "https://localhost:8080/"
        }
      },
      "execution_count": null,
      "outputs": [
        {
          "output_type": "stream",
          "name": "stdout",
          "text": [
            "Squeez tensor y is \n",
            " tensor([[[0., 0.],\n",
            "         [0., 0.]],\n",
            "\n",
            "        [[0., 0.],\n",
            "         [0., 0.]]])\n",
            "Shape of Squeez tensor is torch.Size([2, 2, 2])\n",
            "\n"
          ]
        }
      ]
    },
    {
      "cell_type": "code",
      "source": [
        "z = torch.squeeze(x,dim=1)\n",
        "z, z.shape"
      ],
      "metadata": {
        "id": "C3bgtPq7BPVQ",
        "outputId": "29689275-ab11-4361-e0f7-a6ddf58ff161",
        "colab": {
          "base_uri": "https://localhost:8080/"
        }
      },
      "execution_count": null,
      "outputs": [
        {
          "output_type": "execute_result",
          "data": {
            "text/plain": [
              "(tensor([[[[0., 0.]],\n",
              " \n",
              "          [[0., 0.]]],\n",
              " \n",
              " \n",
              "         [[[0., 0.]],\n",
              " \n",
              "          [[0., 0.]]]]),\n",
              " torch.Size([2, 2, 1, 2]))"
            ]
          },
          "metadata": {},
          "execution_count": 76
        }
      ]
    },
    {
      "cell_type": "code",
      "source": [
        "print(x.shape)\n",
        "w = torch.squeeze(x, (1,3))\n",
        "w, w.shape"
      ],
      "metadata": {
        "id": "xbEeCRV_CP9X",
        "outputId": "b3cbceca-7544-4795-f0ef-4d81526550a9",
        "colab": {
          "base_uri": "https://localhost:8080/"
        }
      },
      "execution_count": null,
      "outputs": [
        {
          "output_type": "stream",
          "name": "stdout",
          "text": [
            "torch.Size([2, 1, 2, 1, 2])\n"
          ]
        },
        {
          "output_type": "execute_result",
          "data": {
            "text/plain": [
              "(tensor([[[0., 0.],\n",
              "          [0., 0.]],\n",
              " \n",
              "         [[0., 0.],\n",
              "          [0., 0.]]]),\n",
              " torch.Size([2, 2, 2]))"
            ]
          },
          "metadata": {},
          "execution_count": 88
        }
      ]
    },
    {
      "cell_type": "code",
      "source": [
        "## Unsqueezed\n",
        "x = torch.randn([1,2,3,4])\n",
        "x"
      ],
      "metadata": {
        "id": "ubbblOUdDBcm",
        "outputId": "105bac28-8c26-4235-a74d-16f1c5044dac",
        "colab": {
          "base_uri": "https://localhost:8080/"
        }
      },
      "execution_count": null,
      "outputs": [
        {
          "output_type": "execute_result",
          "data": {
            "text/plain": [
              "tensor([[[[-0.7150, -0.0476,  0.5230,  0.9717],\n",
              "          [-0.2779, -0.6116, -0.5572, -0.9683],\n",
              "          [ 0.5716,  1.3596,  0.4334, -0.7172]],\n",
              "\n",
              "         [[ 1.0554, -1.4534,  0.4652,  0.3714],\n",
              "          [ 0.8800,  0.0561,  0.3782,  0.7051],\n",
              "          [-1.7237, -0.8435,  0.4351,  0.2659]]]])"
            ]
          },
          "metadata": {},
          "execution_count": 90
        }
      ]
    },
    {
      "cell_type": "code",
      "source": [
        "y = torch.unsqueeze(x,dim=0)\n",
        "y"
      ],
      "metadata": {
        "id": "nsTNMDImDxuU",
        "outputId": "e0a72bb2-8f3b-40d8-c37f-7aaba7966876",
        "colab": {
          "base_uri": "https://localhost:8080/"
        }
      },
      "execution_count": null,
      "outputs": [
        {
          "output_type": "execute_result",
          "data": {
            "text/plain": [
              "tensor([[[[[-0.7150, -0.0476,  0.5230,  0.9717],\n",
              "           [-0.2779, -0.6116, -0.5572, -0.9683],\n",
              "           [ 0.5716,  1.3596,  0.4334, -0.7172]],\n",
              "\n",
              "          [[ 1.0554, -1.4534,  0.4652,  0.3714],\n",
              "           [ 0.8800,  0.0561,  0.3782,  0.7051],\n",
              "           [-1.7237, -0.8435,  0.4351,  0.2659]]]]])"
            ]
          },
          "metadata": {},
          "execution_count": 92
        }
      ]
    },
    {
      "cell_type": "code",
      "source": [
        "y = torch.unsqueeze(x, dim=-1)\n",
        "y, y.shape"
      ],
      "metadata": {
        "id": "43h1GLRnEKMd",
        "outputId": "c29d1134-f9db-494a-f683-f2a964748f67",
        "colab": {
          "base_uri": "https://localhost:8080/"
        }
      },
      "execution_count": null,
      "outputs": [
        {
          "output_type": "execute_result",
          "data": {
            "text/plain": [
              "(tensor([[[[[-0.7150],\n",
              "            [-0.0476],\n",
              "            [ 0.5230],\n",
              "            [ 0.9717]],\n",
              " \n",
              "           [[-0.2779],\n",
              "            [-0.6116],\n",
              "            [-0.5572],\n",
              "            [-0.9683]],\n",
              " \n",
              "           [[ 0.5716],\n",
              "            [ 1.3596],\n",
              "            [ 0.4334],\n",
              "            [-0.7172]]],\n",
              " \n",
              " \n",
              "          [[[ 1.0554],\n",
              "            [-1.4534],\n",
              "            [ 0.4652],\n",
              "            [ 0.3714]],\n",
              " \n",
              "           [[ 0.8800],\n",
              "            [ 0.0561],\n",
              "            [ 0.3782],\n",
              "            [ 0.7051]],\n",
              " \n",
              "           [[-1.7237],\n",
              "            [-0.8435],\n",
              "            [ 0.4351],\n",
              "            [ 0.2659]]]]]),\n",
              " torch.Size([1, 2, 3, 4, 1]))"
            ]
          },
          "metadata": {},
          "execution_count": 95
        }
      ]
    },
    {
      "cell_type": "code",
      "source": [
        "x = torch.arange(1.0,8)\n",
        "x, x.shape"
      ],
      "metadata": {
        "id": "-FFZI2qPEU7F",
        "outputId": "ff0ded6a-1366-4635-e2d6-181bdf292451",
        "colab": {
          "base_uri": "https://localhost:8080/"
        }
      },
      "execution_count": null,
      "outputs": [
        {
          "output_type": "execute_result",
          "data": {
            "text/plain": [
              "(tensor([1., 2., 3., 4., 5., 6., 7.]), torch.Size([7]))"
            ]
          },
          "metadata": {},
          "execution_count": 99
        }
      ]
    },
    {
      "cell_type": "code",
      "source": [
        "x_reshaped = x.reshape(1,7)\n",
        "x_reshaped"
      ],
      "metadata": {
        "id": "zpm3jejKEx3k",
        "outputId": "778fac8d-2572-4dd2-b3f2-19094b4d4850",
        "colab": {
          "base_uri": "https://localhost:8080/"
        }
      },
      "execution_count": null,
      "outputs": [
        {
          "output_type": "execute_result",
          "data": {
            "text/plain": [
              "tensor([[1., 2., 3., 4., 5., 6., 7.]])"
            ]
          },
          "metadata": {},
          "execution_count": 100
        }
      ]
    },
    {
      "cell_type": "code",
      "source": [
        "print(f\"Previous tensor {x_reshaped} \\n\")\n",
        "print(f\"Previous tensor shape {x_reshaped.shape} \\n\")\n",
        "x_squeezed = torch.squeeze(x_reshaped)\n",
        "print(f\"New tensor is {x_squeezed} \\n\")\n",
        "print(f\"New tensor shape is {x_squeezed.shape}\")"
      ],
      "metadata": {
        "id": "KB9_9AvSE-eE",
        "outputId": "e54e9ed0-c04a-4c21-fc8f-37be706e47ff",
        "colab": {
          "base_uri": "https://localhost:8080/"
        }
      },
      "execution_count": null,
      "outputs": [
        {
          "output_type": "stream",
          "name": "stdout",
          "text": [
            "Previous tensor tensor([[1., 2., 3., 4., 5., 6., 7.]]) \n",
            "\n",
            "Previous tensor shape torch.Size([1, 7]) \n",
            "\n",
            "New tensor is tensor([1., 2., 3., 4., 5., 6., 7.]) \n",
            "\n",
            "New tensor shape is torch.Size([7])\n"
          ]
        }
      ]
    },
    {
      "cell_type": "code",
      "source": [
        "# We can also rearrange the order of axes values with torch.permute(input, dims), where the input gets turned into a view with new dims.\n",
        "\n",
        "# Create a tensor with specific shape\n",
        "x_original = torch.rand(size=[224,224,3])\n",
        "print(\"Before Permute shape is {} \\n\".format(x_original.shape))\n",
        "x_permuted = torch.permute(x_original,(2,0,1))\n",
        "print(\"After permure shape is {} \\n\".format(x_permuted.shape))"
      ],
      "metadata": {
        "id": "Ief9eeacErV1",
        "outputId": "f61371f8-5867-4d70-981e-160d9ca7f195",
        "colab": {
          "base_uri": "https://localhost:8080/"
        }
      },
      "execution_count": null,
      "outputs": [
        {
          "output_type": "stream",
          "name": "stdout",
          "text": [
            "Before Permute shape is torch.Size([224, 224, 3]) \n",
            "\n",
            "After permure shape is torch.Size([3, 224, 224]) \n",
            "\n"
          ]
        }
      ]
    },
    {
      "cell_type": "code",
      "source": [
        "x = torch.randn(size=[2,3,5])\n",
        "print(\"Before permute tensor shape is {} \\n\".format(x.shape))\n",
        "print(\"After permute tensor share is {} \\n\".format(torch.permute(x,dims=(1,0,2)).shape))"
      ],
      "metadata": {
        "id": "zK275B17ER2c",
        "outputId": "ec8e0273-19fe-4733-aa36-cacbe8541d33",
        "colab": {
          "base_uri": "https://localhost:8080/"
        }
      },
      "execution_count": null,
      "outputs": [
        {
          "output_type": "stream",
          "name": "stdout",
          "text": [
            "Before permute tensor shape is torch.Size([2, 3, 5]) \n",
            "\n",
            "After permute tensor share is torch.Size([3, 2, 5]) \n",
            "\n"
          ]
        }
      ]
    },
    {
      "cell_type": "markdown",
      "source": [
        "# Indexing (selecting data from tensors)"
      ],
      "metadata": {
        "id": "E1G2DZMXXcr7"
      }
    },
    {
      "cell_type": "code",
      "source": [
        "# Create a tensor\n",
        "\n",
        "x = torch.arange(1,10).reshape([1,3,3])\n",
        "x"
      ],
      "metadata": {
        "id": "W1GVmtIrXd4p",
        "outputId": "54a3e956-8c2d-4485-ea58-0ac2dec5044d",
        "colab": {
          "base_uri": "https://localhost:8080/"
        }
      },
      "execution_count": 111,
      "outputs": [
        {
          "output_type": "execute_result",
          "data": {
            "text/plain": [
              "tensor([[[1, 2, 3],\n",
              "         [4, 5, 6],\n",
              "         [7, 8, 9]]])"
            ]
          },
          "metadata": {},
          "execution_count": 111
        }
      ]
    },
    {
      "cell_type": "code",
      "source": [
        "print (\"x[0] {} \\n\".format(x[0]))"
      ],
      "metadata": {
        "id": "cXNY2nCsXxl_",
        "outputId": "f1f0b03b-4fcc-4192-b1f4-e050b5ea7e38",
        "colab": {
          "base_uri": "https://localhost:8080/"
        }
      },
      "execution_count": 113,
      "outputs": [
        {
          "output_type": "stream",
          "name": "stdout",
          "text": [
            "x[0] tensor([[1, 2, 3],\n",
            "        [4, 5, 6],\n",
            "        [7, 8, 9]]) \n",
            "\n"
          ]
        }
      ]
    },
    {
      "cell_type": "code",
      "source": [
        "print(\"x[0][0] {} \\n\".format(x[0][0]))"
      ],
      "metadata": {
        "id": "HfYSvGF5X8t-",
        "outputId": "b8ee663d-f5b5-4033-89dd-df014ac2a5e4",
        "colab": {
          "base_uri": "https://localhost:8080/"
        }
      },
      "execution_count": 114,
      "outputs": [
        {
          "output_type": "stream",
          "name": "stdout",
          "text": [
            "x[0][0] tensor([1, 2, 3]) \n",
            "\n"
          ]
        }
      ]
    },
    {
      "cell_type": "code",
      "source": [
        "print(\"x[0][1] {} \\n\".format(x[0][1]))"
      ],
      "metadata": {
        "id": "srypvorjYKM4",
        "outputId": "6842ea6d-6b0b-4b60-d07b-48617f3508f7",
        "colab": {
          "base_uri": "https://localhost:8080/"
        }
      },
      "execution_count": 116,
      "outputs": [
        {
          "output_type": "stream",
          "name": "stdout",
          "text": [
            "x[0][1] tensor([4, 5, 6]) \n",
            "\n"
          ]
        }
      ]
    },
    {
      "cell_type": "code",
      "source": [
        "print(f\"x[0][1][2] {x[0][1][2]} \\n\")"
      ],
      "metadata": {
        "id": "FfHWasjAYQYp",
        "outputId": "87e850b1-737c-42ee-8b8c-e65275961795",
        "colab": {
          "base_uri": "https://localhost:8080/"
        }
      },
      "execution_count": 117,
      "outputs": [
        {
          "output_type": "stream",
          "name": "stdout",
          "text": [
            "x[0][1][2] 6 \n",
            "\n"
          ]
        }
      ]
    },
    {
      "cell_type": "markdown",
      "source": [
        "#### We can also use : to specify \"all values in this dimension\" and then use a comma (,) to add another dimension."
      ],
      "metadata": {
        "id": "klbxvBmwYnM6"
      }
    },
    {
      "cell_type": "code",
      "source": [
        "# Get all value of 0th dimension and 0th index of 1st dimension\n",
        "print(x[:,0])"
      ],
      "metadata": {
        "id": "Osq4NuUwYph1",
        "outputId": "7fff27d9-cdae-4a65-e807-dc33734de272",
        "colab": {
          "base_uri": "https://localhost:8080/"
        }
      },
      "execution_count": 119,
      "outputs": [
        {
          "output_type": "stream",
          "name": "stdout",
          "text": [
            "tensor([[1, 2, 3]])\n"
          ]
        }
      ]
    },
    {
      "cell_type": "code",
      "source": [
        "# Get all 2nd value of 0th dimension and 1st dimension but 0th index of 1st dimension\n",
        "print(x[:,0,1])"
      ],
      "metadata": {
        "id": "gnwRfy1tZEZ_",
        "outputId": "234cbfac-a1c4-4dcf-a815-eb5e483ad5de",
        "colab": {
          "base_uri": "https://localhost:8080/"
        }
      },
      "execution_count": 120,
      "outputs": [
        {
          "output_type": "stream",
          "name": "stdout",
          "text": [
            "tensor([2])\n"
          ]
        }
      ]
    },
    {
      "cell_type": "code",
      "source": [
        "# Get the all values of 0th and 1st dimesnion but only index 1 of 1st and 2nd dimesnion\n",
        "print(x[:,:,1])"
      ],
      "metadata": {
        "id": "IVOH6reYYb44",
        "outputId": "175e07bf-c0bb-4e49-92e3-69e99c2a5b9a",
        "colab": {
          "base_uri": "https://localhost:8080/"
        }
      },
      "execution_count": 124,
      "outputs": [
        {
          "output_type": "stream",
          "name": "stdout",
          "text": [
            "tensor([[2, 5, 8]])\n"
          ]
        }
      ]
    },
    {
      "cell_type": "code",
      "source": [],
      "metadata": {
        "id": "MIDAoDK_a4WG"
      },
      "execution_count": null,
      "outputs": []
    },
    {
      "cell_type": "code",
      "source": [
        "# Get the all values 0the dimension but index 1 of 1st and 2nd dimension\n",
        "print(x[:,1,1])"
      ],
      "metadata": {
        "id": "72t7J1lUEQjE",
        "outputId": "996720f1-e5e2-43d4-d0b6-f6d0247e2600",
        "colab": {
          "base_uri": "https://localhost:8080/"
        }
      },
      "execution_count": 122,
      "outputs": [
        {
          "output_type": "stream",
          "name": "stdout",
          "text": [
            "tensor([5])\n"
          ]
        }
      ]
    },
    {
      "cell_type": "code",
      "source": [
        "# Get index 0 of 0th and 1st dimension and all values of 2nd dimension\n",
        "x[0, 0, :] # same as x[0][0]"
      ],
      "metadata": {
        "id": "3dRxMaMbaldf",
        "outputId": "f2707833-c49d-4dca-a02f-cc48b258bf83",
        "colab": {
          "base_uri": "https://localhost:8080/"
        }
      },
      "execution_count": 125,
      "outputs": [
        {
          "output_type": "execute_result",
          "data": {
            "text/plain": [
              "tensor([1, 2, 3])"
            ]
          },
          "metadata": {},
          "execution_count": 125
        }
      ]
    },
    {
      "cell_type": "code",
      "source": [],
      "metadata": {
        "id": "_EEL22UtbUm0"
      },
      "execution_count": null,
      "outputs": []
    },
    {
      "cell_type": "code",
      "source": [],
      "metadata": {
        "id": "cEb1iivKEG5d"
      },
      "execution_count": null,
      "outputs": []
    },
    {
      "cell_type": "code",
      "source": [
        "x"
      ],
      "metadata": {
        "id": "nJpryXuoDvnV"
      },
      "execution_count": null,
      "outputs": []
    },
    {
      "cell_type": "code",
      "source": [],
      "metadata": {
        "id": "ov0eEIHmC8iH"
      },
      "execution_count": null,
      "outputs": []
    },
    {
      "cell_type": "code",
      "source": [],
      "metadata": {
        "id": "xN2KcrZ6CdUR"
      },
      "execution_count": null,
      "outputs": []
    },
    {
      "cell_type": "code",
      "source": [],
      "metadata": {
        "id": "55nLbWyyCbYY"
      },
      "execution_count": null,
      "outputs": []
    },
    {
      "cell_type": "code",
      "source": [],
      "metadata": {
        "id": "p1GO2Zb6_ihB"
      },
      "execution_count": null,
      "outputs": []
    },
    {
      "cell_type": "code",
      "source": [],
      "metadata": {
        "id": "Uv9vkE54-80z"
      },
      "execution_count": null,
      "outputs": []
    },
    {
      "cell_type": "code",
      "source": [],
      "metadata": {
        "id": "cCevBdFa-CVL"
      },
      "execution_count": null,
      "outputs": []
    },
    {
      "cell_type": "code",
      "source": [
        "\n"
      ],
      "metadata": {
        "id": "vdhrzCjmDzIs",
        "outputId": "4be02d2f-f291-429f-b9a1-08c05f5a84d3",
        "colab": {
          "base_uri": "https://localhost:8080/",
          "height": 106
        }
      },
      "execution_count": null,
      "outputs": [
        {
          "output_type": "error",
          "ename": "SyntaxError",
          "evalue": "invalid syntax (ipython-input-1863521418.py, line 3)",
          "traceback": [
            "\u001b[0;36m  File \u001b[0;32m\"/tmp/ipython-input-1863521418.py\"\u001b[0;36m, line \u001b[0;32m3\u001b[0m\n\u001b[0;31m    torch.stack(tensors, dim=0)\tConcatenates a sequence of tensors along a new dimension (dim), all tensors must be same size.\u001b[0m\n\u001b[0m                               \t^\u001b[0m\n\u001b[0;31mSyntaxError\u001b[0m\u001b[0;31m:\u001b[0m invalid syntax\n"
          ]
        }
      ]
    },
    {
      "cell_type": "code",
      "source": [],
      "metadata": {
        "id": "Op9h93iW9_dG"
      },
      "execution_count": null,
      "outputs": []
    },
    {
      "cell_type": "code",
      "source": [],
      "metadata": {
        "id": "ab4rJJQ2DNIq"
      },
      "execution_count": null,
      "outputs": []
    },
    {
      "cell_type": "code",
      "source": [],
      "metadata": {
        "id": "_5PvIWtIBcaM"
      },
      "execution_count": null,
      "outputs": []
    },
    {
      "cell_type": "code",
      "source": [],
      "metadata": {
        "id": "Dj59uyupBXka"
      },
      "execution_count": null,
      "outputs": []
    },
    {
      "cell_type": "code",
      "source": [],
      "metadata": {
        "id": "8Sm3ykZSBQnb"
      },
      "execution_count": null,
      "outputs": []
    },
    {
      "cell_type": "code",
      "source": [],
      "metadata": {
        "id": "8-yo6_rJAMXM"
      },
      "execution_count": null,
      "outputs": []
    },
    {
      "cell_type": "code",
      "source": [],
      "metadata": {
        "id": "pL1a2T1j_Bjt"
      },
      "execution_count": null,
      "outputs": []
    },
    {
      "cell_type": "code",
      "source": [],
      "metadata": {
        "id": "eLuRNiqI-zPf"
      },
      "execution_count": null,
      "outputs": []
    },
    {
      "cell_type": "code",
      "source": [],
      "metadata": {
        "id": "q2tHRN-h-Vku"
      },
      "execution_count": null,
      "outputs": []
    },
    {
      "cell_type": "code",
      "source": [],
      "metadata": {
        "id": "BUM_e64wlVyQ"
      },
      "execution_count": null,
      "outputs": []
    },
    {
      "cell_type": "code",
      "source": [],
      "metadata": {
        "id": "uwTCEAJ3kbBR"
      },
      "execution_count": null,
      "outputs": []
    },
    {
      "cell_type": "code",
      "source": [],
      "metadata": {
        "id": "AGBSSSHyiUZk"
      },
      "execution_count": null,
      "outputs": []
    },
    {
      "cell_type": "code",
      "source": [
        "\n"
      ],
      "metadata": {
        "id": "KXtPUDngfk_-"
      },
      "execution_count": null,
      "outputs": []
    },
    {
      "cell_type": "code",
      "source": [],
      "metadata": {
        "id": "Yhq6L-IebCQK"
      },
      "execution_count": null,
      "outputs": []
    },
    {
      "cell_type": "code",
      "source": [],
      "metadata": {
        "id": "tRsAKO9Txv5k"
      },
      "execution_count": null,
      "outputs": []
    },
    {
      "cell_type": "code",
      "source": [],
      "metadata": {
        "id": "9T_OkGwZumig"
      },
      "execution_count": null,
      "outputs": []
    },
    {
      "cell_type": "code",
      "source": [],
      "metadata": {
        "id": "F9JhWvAjrsPj"
      },
      "execution_count": null,
      "outputs": []
    },
    {
      "cell_type": "code",
      "source": [],
      "metadata": {
        "id": "kM3VL2jOqiEU"
      },
      "execution_count": null,
      "outputs": []
    },
    {
      "cell_type": "code",
      "source": [],
      "metadata": {
        "id": "0hVcGsVlgG7M"
      },
      "execution_count": null,
      "outputs": []
    },
    {
      "cell_type": "code",
      "source": [],
      "metadata": {
        "id": "bXq79qE0xAtb"
      },
      "execution_count": null,
      "outputs": []
    },
    {
      "cell_type": "code",
      "source": [
        "#"
      ],
      "metadata": {
        "id": "j8l_95rlveq3"
      },
      "execution_count": null,
      "outputs": []
    },
    {
      "cell_type": "code",
      "source": [],
      "metadata": {
        "id": "5AHLptrAqZBz"
      },
      "execution_count": null,
      "outputs": []
    }
  ]
}