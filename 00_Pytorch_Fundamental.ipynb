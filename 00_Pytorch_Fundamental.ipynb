{
  "nbformat": 4,
  "nbformat_minor": 0,
  "metadata": {
    "colab": {
      "provenance": [],
      "authorship_tag": "ABX9TyOWK85GKAODuMFIb+imN7I8",
      "include_colab_link": true
    },
    "kernelspec": {
      "name": "python3",
      "display_name": "Python 3"
    },
    "language_info": {
      "name": "python"
    }
  },
  "cells": [
    {
      "cell_type": "markdown",
      "metadata": {
        "id": "view-in-github",
        "colab_type": "text"
      },
      "source": [
        "<a href=\"https://colab.research.google.com/github/pksheaad/pytorch/blob/main/00_Pytorch_Fundamental.ipynb\" target=\"_parent\"><img src=\"https://colab.research.google.com/assets/colab-badge.svg\" alt=\"Open In Colab\"/></a>"
      ]
    },
    {
      "cell_type": "markdown",
      "source": [
        "## PYTORCH Basic Fundamental"
      ],
      "metadata": {
        "id": "6_sbbmk2eVzh"
      }
    },
    {
      "cell_type": "code",
      "source": [
        "import torch\n",
        "from torch import nn #// nn contains all building block of neural network\n",
        "from matplotlib.pyplot import plot\n",
        "import numpy as np\n",
        "\n",
        "\n",
        "torch.__version__"
      ],
      "metadata": {
        "colab": {
          "base_uri": "https://localhost:8080/",
          "height": 35
        },
        "id": "88jUbyRgeeFl",
        "outputId": "01905b57-32db-46ae-a481-a03597bfc8bd"
      },
      "execution_count": 6,
      "outputs": [
        {
          "output_type": "execute_result",
          "data": {
            "text/plain": [
              "'2.8.0+cu126'"
            ],
            "application/vnd.google.colaboratory.intrinsic+json": {
              "type": "string"
            }
          },
          "metadata": {},
          "execution_count": 6
        }
      ]
    },
    {
      "cell_type": "markdown",
      "source": [
        "### Initializing and basic operations\n",
        "\n",
        "A tensor can be constructed from a Python list or sequence using the torch.tensor() constructor:"
      ],
      "metadata": {
        "id": "DKRXbmB0ik1Z"
      }
    },
    {
      "cell_type": "code",
      "source": [
        "vector = torch.tensor([[1.,-1.],[1.,-1.]])\n",
        "vector"
      ],
      "metadata": {
        "id": "QiCoiZiwivKz",
        "outputId": "166b3d76-1263-4ec5-c245-543264e94d9d",
        "colab": {
          "base_uri": "https://localhost:8080/"
        }
      },
      "execution_count": 7,
      "outputs": [
        {
          "output_type": "execute_result",
          "data": {
            "text/plain": [
              "tensor([[ 1., -1.],\n",
              "        [ 1., -1.]])"
            ]
          },
          "metadata": {},
          "execution_count": 7
        }
      ]
    },
    {
      "cell_type": "code",
      "source": [
        "torch.tensor(np.array(vector))"
      ],
      "metadata": {
        "id": "MmcrUEclj6fo",
        "outputId": "3fff162f-64c3-4cfd-9153-8b64570be600",
        "colab": {
          "base_uri": "https://localhost:8080/"
        }
      },
      "execution_count": 8,
      "outputs": [
        {
          "output_type": "execute_result",
          "data": {
            "text/plain": [
              "tensor([[ 1., -1.],\n",
              "        [ 1., -1.]])"
            ]
          },
          "metadata": {},
          "execution_count": 8
        }
      ]
    },
    {
      "cell_type": "markdown",
      "source": [
        "A tensor of specific data type can be constructed by passing a torch.dtype and/or a torch.device to a constructor or tensor creation op:"
      ],
      "metadata": {
        "id": "43eHgQIek0tl"
      }
    },
    {
      "cell_type": "code",
      "source": [
        "torch.zeros([2,4], dtype=torch.int32, device=\"cpu\")"
      ],
      "metadata": {
        "id": "rq113PNbj0aL",
        "outputId": "d41c9bb6-961a-42d0-c0d5-5e139958fd91",
        "colab": {
          "base_uri": "https://localhost:8080/"
        }
      },
      "execution_count": 9,
      "outputs": [
        {
          "output_type": "execute_result",
          "data": {
            "text/plain": [
              "tensor([[0, 0, 0, 0],\n",
              "        [0, 0, 0, 0]], dtype=torch.int32)"
            ]
          },
          "metadata": {},
          "execution_count": 9
        }
      ]
    },
    {
      "cell_type": "code",
      "source": [
        "#cuda0 = torch.device('cuda:0')\n",
        "torch.ones([3,5], dtype=torch.float64, device=\"cpu\")"
      ],
      "metadata": {
        "id": "srYkiiBJlR3y",
        "outputId": "dbbaaec4-3796-4be9-b8a3-932a05e1cfa5",
        "colab": {
          "base_uri": "https://localhost:8080/"
        }
      },
      "execution_count": 14,
      "outputs": [
        {
          "output_type": "execute_result",
          "data": {
            "text/plain": [
              "tensor([[1., 1., 1., 1., 1.],\n",
              "        [1., 1., 1., 1., 1.],\n",
              "        [1., 1., 1., 1., 1.]], dtype=torch.float64)"
            ]
          },
          "metadata": {},
          "execution_count": 14
        }
      ]
    },
    {
      "cell_type": "markdown",
      "source": [
        "The contents of a tensor can be accessed and modified using Python’s indexing and slicing notation:"
      ],
      "metadata": {
        "id": "Y_8sgV1hmOy3"
      }
    },
    {
      "cell_type": "code",
      "source": [
        "x = torch.tensor([[1,5,8],[3,7,9],[4,5,6]])\n",
        "x\n",
        "print(x[0])\n",
        "print(x[1][2])\n",
        "x[2,2] = 10\n",
        "x"
      ],
      "metadata": {
        "id": "tBEkpAaZmQG8",
        "outputId": "efcb3512-dd31-45a6-fc8f-05717a51f802",
        "colab": {
          "base_uri": "https://localhost:8080/"
        }
      },
      "execution_count": 16,
      "outputs": [
        {
          "output_type": "stream",
          "name": "stdout",
          "text": [
            "tensor([1, 5, 8])\n",
            "tensor(9)\n"
          ]
        },
        {
          "output_type": "execute_result",
          "data": {
            "text/plain": [
              "tensor([[ 1,  5,  8],\n",
              "        [ 3,  7,  9],\n",
              "        [ 4,  5, 10]])"
            ]
          },
          "metadata": {},
          "execution_count": 16
        }
      ]
    },
    {
      "cell_type": "markdown",
      "source": [
        "Use torch.Tensor.item() to get a Python number from a tensor containing a single value:"
      ],
      "metadata": {
        "id": "OVKIG1SIm-aC"
      }
    },
    {
      "cell_type": "code",
      "source": [
        "x = torch.tensor(5)\n",
        "x\n",
        "print(x.item())"
      ],
      "metadata": {
        "id": "zVZoZs8qmoY3",
        "outputId": "dd91f24f-c127-43cb-f9ae-77521cc969c1",
        "colab": {
          "base_uri": "https://localhost:8080/"
        }
      },
      "execution_count": 17,
      "outputs": [
        {
          "output_type": "stream",
          "name": "stdout",
          "text": [
            "5\n"
          ]
        }
      ]
    },
    {
      "cell_type": "code",
      "source": [
        "x = torch.tensor(10.00)\n",
        "print(x)\n",
        "print(x.item())"
      ],
      "metadata": {
        "id": "OoBTKY7enIz2",
        "outputId": "0eaaa4b5-a27b-45cb-8e70-430cf18e73ce",
        "colab": {
          "base_uri": "https://localhost:8080/"
        }
      },
      "execution_count": 18,
      "outputs": [
        {
          "output_type": "stream",
          "name": "stdout",
          "text": [
            "tensor(10.)\n",
            "10.0\n"
          ]
        }
      ]
    },
    {
      "cell_type": "code",
      "source": [
        "scaler = torch.tensor(7)\n",
        "scaler"
      ],
      "metadata": {
        "id": "-YSKIwLenTg1",
        "outputId": "19854b68-29ee-4042-ddf6-6b511bbd19c6",
        "colab": {
          "base_uri": "https://localhost:8080/"
        }
      },
      "execution_count": 19,
      "outputs": [
        {
          "output_type": "execute_result",
          "data": {
            "text/plain": [
              "tensor(7)"
            ]
          },
          "metadata": {},
          "execution_count": 19
        }
      ]
    },
    {
      "cell_type": "markdown",
      "source": [
        "We can check the dimensions of a tensor using the ndim attribute."
      ],
      "metadata": {
        "id": "Anh8ouvYn1LS"
      }
    },
    {
      "cell_type": "code",
      "source": [
        "scaler.ndim"
      ],
      "metadata": {
        "id": "xm70XMnLldsO",
        "outputId": "53fdbae5-685a-4a49-b677-013466e3a1e4",
        "colab": {
          "base_uri": "https://localhost:8080/"
        }
      },
      "execution_count": 20,
      "outputs": [
        {
          "output_type": "execute_result",
          "data": {
            "text/plain": [
              "0"
            ]
          },
          "metadata": {},
          "execution_count": 20
        }
      ]
    },
    {
      "cell_type": "markdown",
      "source": [
        "torch.Tensor to a Python integer can we done by item() method"
      ],
      "metadata": {
        "id": "UxxyNqA9oIUH"
      }
    },
    {
      "cell_type": "code",
      "source": [
        "scaler.item()"
      ],
      "metadata": {
        "id": "edvxWMaioPq7",
        "outputId": "da29f42c-a8cd-4867-e943-df69274ec0b8",
        "colab": {
          "base_uri": "https://localhost:8080/"
        }
      },
      "execution_count": 21,
      "outputs": [
        {
          "output_type": "execute_result",
          "data": {
            "text/plain": [
              "7"
            ]
          },
          "metadata": {},
          "execution_count": 21
        }
      ]
    },
    {
      "cell_type": "code",
      "source": [
        "vector = torch.tensor([7.,7])\n",
        "# dimension of vector\n",
        "print(vector.ndim)\n",
        "# shape of vector, Shapes tells us how the elemnt in the vector are arranged\n",
        "print(vector.shape)"
      ],
      "metadata": {
        "id": "UzpVdt-doSzl",
        "outputId": "980a9f5a-a244-4ecc-bed6-89395edcf3e5",
        "colab": {
          "base_uri": "https://localhost:8080/"
        }
      },
      "execution_count": 22,
      "outputs": [
        {
          "output_type": "stream",
          "name": "stdout",
          "text": [
            "1\n",
            "torch.Size([2])\n"
          ]
        }
      ]
    },
    {
      "cell_type": "code",
      "source": [
        "#MATRIX\n",
        "MATRIX = torch.tensor([[1,2,3],\n",
        "                       [4,5,6],\n",
        "                       [7,8,9]])\n",
        "# Dimension of MATRIX\n",
        "print(MATRIX.ndim)\n",
        "\n",
        "# Shape of MATRIX\n",
        "print(MATRIX.shape)\n",
        "\n",
        "# Accessing element of MATRIX\n",
        "print(MATRIX[0])\n",
        "print(MATRIX[1,1])"
      ],
      "metadata": {
        "id": "fHzzEUvFpHDb",
        "outputId": "83df29b6-4b04-48de-aa03-eed7ead63042",
        "colab": {
          "base_uri": "https://localhost:8080/"
        }
      },
      "execution_count": 23,
      "outputs": [
        {
          "output_type": "stream",
          "name": "stdout",
          "text": [
            "2\n",
            "torch.Size([3, 3])\n",
            "tensor([1, 2, 3])\n",
            "tensor(5)\n"
          ]
        }
      ]
    },
    {
      "cell_type": "code",
      "source": [
        "TENSOR = torch.tensor([[[10,20,30],\n",
        "                        [40,50,60],\n",
        "                        [70,80,90]]])"
      ],
      "metadata": {
        "id": "gR-6sueNpz9V"
      },
      "execution_count": 24,
      "outputs": []
    },
    {
      "cell_type": "code",
      "source": [
        "TENSOR\n",
        "print(TENSOR.ndim)\n",
        "print(TENSOR.shape)\n",
        "print(TENSOR[0][1][2]) # Ans must be 60"
      ],
      "metadata": {
        "id": "XVcCf5MwqXYV",
        "outputId": "8d7ec732-e565-43a6-92de-1a813c3e9031",
        "colab": {
          "base_uri": "https://localhost:8080/"
        }
      },
      "execution_count": 26,
      "outputs": [
        {
          "output_type": "stream",
          "name": "stdout",
          "text": [
            "3\n",
            "torch.Size([1, 3, 3])\n",
            "tensor(60)\n"
          ]
        }
      ]
    },
    {
      "cell_type": "code",
      "source": [],
      "metadata": {
        "id": "RWJpulK7qq40"
      },
      "execution_count": null,
      "outputs": []
    },
    {
      "cell_type": "code",
      "source": [],
      "metadata": {
        "id": "5AHLptrAqZBz"
      },
      "execution_count": null,
      "outputs": []
    }
  ]
}