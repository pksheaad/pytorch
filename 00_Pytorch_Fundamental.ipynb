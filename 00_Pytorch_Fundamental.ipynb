{
  "nbformat": 4,
  "nbformat_minor": 0,
  "metadata": {
    "colab": {
      "provenance": [],
      "authorship_tag": "ABX9TyOiJap6U4Zk7C0k1nDQ8qqa",
      "include_colab_link": true
    },
    "kernelspec": {
      "name": "python3",
      "display_name": "Python 3"
    },
    "language_info": {
      "name": "python"
    }
  },
  "cells": [
    {
      "cell_type": "markdown",
      "metadata": {
        "id": "view-in-github",
        "colab_type": "text"
      },
      "source": [
        "<a href=\"https://colab.research.google.com/github/pksheaad/pytorch/blob/main/00_Pytorch_Fundamental.ipynb\" target=\"_parent\"><img src=\"https://colab.research.google.com/assets/colab-badge.svg\" alt=\"Open In Colab\"/></a>"
      ]
    },
    {
      "cell_type": "markdown",
      "source": [
        "## PYTORCH Basic Fundamental"
      ],
      "metadata": {
        "id": "6_sbbmk2eVzh"
      }
    },
    {
      "cell_type": "code",
      "source": [
        "import torch\n",
        "from torch import nn #// nn contains all building block of neural network\n",
        "from matplotlib.pyplot import plot\n",
        "import numpy as np\n",
        "\n",
        "\n",
        "torch.__version__"
      ],
      "metadata": {
        "colab": {
          "base_uri": "https://localhost:8080/",
          "height": 35
        },
        "id": "88jUbyRgeeFl",
        "outputId": "8ef594bb-23b2-438f-c616-453c4161dd54"
      },
      "execution_count": 1,
      "outputs": [
        {
          "output_type": "execute_result",
          "data": {
            "text/plain": [
              "'2.8.0+cu126'"
            ],
            "application/vnd.google.colaboratory.intrinsic+json": {
              "type": "string"
            }
          },
          "metadata": {},
          "execution_count": 1
        }
      ]
    },
    {
      "cell_type": "markdown",
      "source": [
        "### Initializing and basic operations\n",
        "\n",
        "A tensor can be constructed from a Python list or sequence using the torch.tensor() constructor:"
      ],
      "metadata": {
        "id": "DKRXbmB0ik1Z"
      }
    },
    {
      "cell_type": "code",
      "source": [
        "vector = torch.tensor([[1.,-1.],[1.,-1.]])\n",
        "vector"
      ],
      "metadata": {
        "colab": {
          "base_uri": "https://localhost:8080/"
        },
        "id": "QiCoiZiwivKz",
        "outputId": "358a0d10-b46a-46f2-9178-2390d93eac76"
      },
      "execution_count": 2,
      "outputs": [
        {
          "output_type": "execute_result",
          "data": {
            "text/plain": [
              "tensor([[ 1., -1.],\n",
              "        [ 1., -1.]])"
            ]
          },
          "metadata": {},
          "execution_count": 2
        }
      ]
    },
    {
      "cell_type": "code",
      "source": [
        "torch.tensor(np.array(vector))"
      ],
      "metadata": {
        "colab": {
          "base_uri": "https://localhost:8080/"
        },
        "id": "MmcrUEclj6fo",
        "outputId": "700b4479-9caa-45fb-a0db-017d901b8af2"
      },
      "execution_count": 3,
      "outputs": [
        {
          "output_type": "execute_result",
          "data": {
            "text/plain": [
              "tensor([[ 1., -1.],\n",
              "        [ 1., -1.]])"
            ]
          },
          "metadata": {},
          "execution_count": 3
        }
      ]
    },
    {
      "cell_type": "markdown",
      "source": [
        "A tensor of specific data type can be constructed by passing a torch.dtype and/or a torch.device to a constructor or tensor creation op:"
      ],
      "metadata": {
        "id": "43eHgQIek0tl"
      }
    },
    {
      "cell_type": "code",
      "source": [
        "torch.zeros([2,4], dtype=torch.int32, device=\"cpu\")"
      ],
      "metadata": {
        "colab": {
          "base_uri": "https://localhost:8080/"
        },
        "id": "rq113PNbj0aL",
        "outputId": "a96ce151-48c6-4443-c495-288c0cdf0be3"
      },
      "execution_count": 4,
      "outputs": [
        {
          "output_type": "execute_result",
          "data": {
            "text/plain": [
              "tensor([[0, 0, 0, 0],\n",
              "        [0, 0, 0, 0]], dtype=torch.int32)"
            ]
          },
          "metadata": {},
          "execution_count": 4
        }
      ]
    },
    {
      "cell_type": "code",
      "source": [
        "#cuda0 = torch.device('cuda:0')\n",
        "torch.ones([3,5], dtype=torch.float64, device=\"cpu\")"
      ],
      "metadata": {
        "colab": {
          "base_uri": "https://localhost:8080/"
        },
        "id": "srYkiiBJlR3y",
        "outputId": "db00e886-057b-43f1-c4e0-818f44bbaaae"
      },
      "execution_count": 5,
      "outputs": [
        {
          "output_type": "execute_result",
          "data": {
            "text/plain": [
              "tensor([[1., 1., 1., 1., 1.],\n",
              "        [1., 1., 1., 1., 1.],\n",
              "        [1., 1., 1., 1., 1.]], dtype=torch.float64)"
            ]
          },
          "metadata": {},
          "execution_count": 5
        }
      ]
    },
    {
      "cell_type": "markdown",
      "source": [
        "The contents of a tensor can be accessed and modified using Python’s indexing and slicing notation:"
      ],
      "metadata": {
        "id": "Y_8sgV1hmOy3"
      }
    },
    {
      "cell_type": "code",
      "source": [
        "x = torch.tensor([[1,5,8],[3,7,9],[4,5,6]])\n",
        "x\n",
        "print(x[0])\n",
        "print(x[1][2])\n",
        "x[2,2] = 10\n",
        "x"
      ],
      "metadata": {
        "colab": {
          "base_uri": "https://localhost:8080/"
        },
        "id": "tBEkpAaZmQG8",
        "outputId": "9c35b63f-d1b8-422a-c430-297c8fb13a43"
      },
      "execution_count": 6,
      "outputs": [
        {
          "output_type": "stream",
          "name": "stdout",
          "text": [
            "tensor([1, 5, 8])\n",
            "tensor(9)\n"
          ]
        },
        {
          "output_type": "execute_result",
          "data": {
            "text/plain": [
              "tensor([[ 1,  5,  8],\n",
              "        [ 3,  7,  9],\n",
              "        [ 4,  5, 10]])"
            ]
          },
          "metadata": {},
          "execution_count": 6
        }
      ]
    },
    {
      "cell_type": "markdown",
      "source": [
        "Use torch.Tensor.item() to get a Python number from a tensor containing a single value:"
      ],
      "metadata": {
        "id": "OVKIG1SIm-aC"
      }
    },
    {
      "cell_type": "code",
      "source": [
        "x = torch.tensor(5)\n",
        "x\n",
        "print(x.item())"
      ],
      "metadata": {
        "colab": {
          "base_uri": "https://localhost:8080/"
        },
        "id": "zVZoZs8qmoY3",
        "outputId": "0604e9d5-beb9-45bd-d6c7-f91c1679a206"
      },
      "execution_count": 7,
      "outputs": [
        {
          "output_type": "stream",
          "name": "stdout",
          "text": [
            "5\n"
          ]
        }
      ]
    },
    {
      "cell_type": "code",
      "source": [
        "x = torch.tensor(10.00)\n",
        "print(x)\n",
        "print(x.item())"
      ],
      "metadata": {
        "colab": {
          "base_uri": "https://localhost:8080/"
        },
        "id": "OoBTKY7enIz2",
        "outputId": "90baf6cc-ee92-4d25-a5b3-348de36d9021"
      },
      "execution_count": 8,
      "outputs": [
        {
          "output_type": "stream",
          "name": "stdout",
          "text": [
            "tensor(10.)\n",
            "10.0\n"
          ]
        }
      ]
    },
    {
      "cell_type": "code",
      "source": [
        "scaler = torch.tensor(7)\n",
        "scaler"
      ],
      "metadata": {
        "colab": {
          "base_uri": "https://localhost:8080/"
        },
        "id": "-YSKIwLenTg1",
        "outputId": "af7ddc4a-2c0f-4369-e506-b5357b65e4fe"
      },
      "execution_count": 9,
      "outputs": [
        {
          "output_type": "execute_result",
          "data": {
            "text/plain": [
              "tensor(7)"
            ]
          },
          "metadata": {},
          "execution_count": 9
        }
      ]
    },
    {
      "cell_type": "markdown",
      "source": [
        "We can check the dimensions of a tensor using the ndim attribute."
      ],
      "metadata": {
        "id": "Anh8ouvYn1LS"
      }
    },
    {
      "cell_type": "code",
      "source": [
        "scaler.ndim"
      ],
      "metadata": {
        "colab": {
          "base_uri": "https://localhost:8080/"
        },
        "id": "xm70XMnLldsO",
        "outputId": "b2a68488-842c-45e9-815f-43a66fe0dff5"
      },
      "execution_count": 10,
      "outputs": [
        {
          "output_type": "execute_result",
          "data": {
            "text/plain": [
              "0"
            ]
          },
          "metadata": {},
          "execution_count": 10
        }
      ]
    },
    {
      "cell_type": "markdown",
      "source": [
        "torch.Tensor to a Python integer can we done by item() method"
      ],
      "metadata": {
        "id": "UxxyNqA9oIUH"
      }
    },
    {
      "cell_type": "code",
      "source": [
        "scaler.item()"
      ],
      "metadata": {
        "colab": {
          "base_uri": "https://localhost:8080/"
        },
        "id": "edvxWMaioPq7",
        "outputId": "87ca7fa5-6160-47d9-fd7f-ec8e58940cf1"
      },
      "execution_count": 11,
      "outputs": [
        {
          "output_type": "execute_result",
          "data": {
            "text/plain": [
              "7"
            ]
          },
          "metadata": {},
          "execution_count": 11
        }
      ]
    },
    {
      "cell_type": "code",
      "source": [
        "vector = torch.tensor([7.,7])\n",
        "# dimension of vector\n",
        "print(vector.ndim)\n",
        "# shape of vector, Shapes tells us how the elemnt in the vector are arranged\n",
        "print(vector.shape)"
      ],
      "metadata": {
        "colab": {
          "base_uri": "https://localhost:8080/"
        },
        "id": "UzpVdt-doSzl",
        "outputId": "1e7fd7ed-8c03-4987-ee5b-94d93496fdb5"
      },
      "execution_count": 12,
      "outputs": [
        {
          "output_type": "stream",
          "name": "stdout",
          "text": [
            "1\n",
            "torch.Size([2])\n"
          ]
        }
      ]
    },
    {
      "cell_type": "code",
      "source": [
        "#MATRIX\n",
        "MATRIX = torch.tensor([[1,2,3],\n",
        "                       [4,5,6],\n",
        "                       [7,8,9]])\n",
        "# Dimension of MATRIX\n",
        "print(MATRIX.ndim)\n",
        "\n",
        "# Shape of MATRIX\n",
        "print(MATRIX.shape)\n",
        "\n",
        "# Accessing element of MATRIX\n",
        "print(MATRIX[0])\n",
        "print(MATRIX[1,1])"
      ],
      "metadata": {
        "colab": {
          "base_uri": "https://localhost:8080/"
        },
        "id": "fHzzEUvFpHDb",
        "outputId": "ef98de0d-ec7a-4dae-df53-5465857a5025"
      },
      "execution_count": 13,
      "outputs": [
        {
          "output_type": "stream",
          "name": "stdout",
          "text": [
            "2\n",
            "torch.Size([3, 3])\n",
            "tensor([1, 2, 3])\n",
            "tensor(5)\n"
          ]
        }
      ]
    },
    {
      "cell_type": "code",
      "source": [
        "TENSOR = torch.tensor([[[10,20,30],\n",
        "                        [40,50,60],\n",
        "                        [70,80,90]]])"
      ],
      "metadata": {
        "id": "gR-6sueNpz9V"
      },
      "execution_count": 14,
      "outputs": []
    },
    {
      "cell_type": "code",
      "source": [
        "TENSOR\n",
        "print(TENSOR.ndim)\n",
        "print(TENSOR.shape)\n",
        "print(TENSOR[0][1][2]) # Ans must be 60"
      ],
      "metadata": {
        "colab": {
          "base_uri": "https://localhost:8080/"
        },
        "id": "XVcCf5MwqXYV",
        "outputId": "c71cc7e1-bdc9-4aa4-8e46-a4676f51b2ef"
      },
      "execution_count": 15,
      "outputs": [
        {
          "output_type": "stream",
          "name": "stdout",
          "text": [
            "3\n",
            "torch.Size([1, 3, 3])\n",
            "tensor(60)\n"
          ]
        }
      ]
    },
    {
      "cell_type": "code",
      "source": [],
      "metadata": {
        "id": "RWJpulK7qq40"
      },
      "execution_count": 15,
      "outputs": []
    },
    {
      "cell_type": "markdown",
      "source": [
        "#Random tensors\n",
        "\n",
        "A machine learning model often starts out with large random tensors of numbers and adjusts these random numbers as it works through data to better represent it.\n",
        "\n",
        "In essence:\n",
        "\n",
        "Start with random numbers -> look at data -> update random numbers -> look at data -> update random numbers..."
      ],
      "metadata": {
        "id": "OBpsAQ4-u8Mw"
      }
    },
    {
      "cell_type": "code",
      "source": [
        "# Creating a random tensor with scaler data\n",
        "random_tensor = torch.rand(size=(2,))\n",
        "random_tensor\n",
        "\n",
        "# Dimension of random_tensor\n",
        "print(random_tensor.ndim)\n",
        "\n",
        "# Shape of randmon_tensor\n",
        "\n",
        "print(random_tensor.shape)\n"
      ],
      "metadata": {
        "id": "CAQZQOfevL-u",
        "outputId": "f160554e-2cd3-4d09-b4cc-13096ca2798c",
        "colab": {
          "base_uri": "https://localhost:8080/"
        }
      },
      "execution_count": 16,
      "outputs": [
        {
          "output_type": "stream",
          "name": "stdout",
          "text": [
            "1\n",
            "torch.Size([2])\n"
          ]
        }
      ]
    },
    {
      "cell_type": "code",
      "source": [
        "# Creating a random tensor with vector data (3,4)\n",
        "random_tensor_vector = torch.rand(size=(3,4))\n",
        "print(random_tensor_vector)\n",
        "# Dimension of random_tensor_vector\n",
        "print(random_tensor_vector.ndim)\n",
        "# Shape of a random_tensor_vector\n",
        "print(random_tensor_vector.shape)"
      ],
      "metadata": {
        "id": "0yPLck3Yv5-N",
        "outputId": "27b11a2e-c126-4cea-aaa1-bdedb0cd0509",
        "colab": {
          "base_uri": "https://localhost:8080/"
        }
      },
      "execution_count": 17,
      "outputs": [
        {
          "output_type": "stream",
          "name": "stdout",
          "text": [
            "tensor([[0.2428, 0.5849, 0.4184, 0.9686],\n",
            "        [0.2259, 0.3050, 0.0587, 0.0511],\n",
            "        [0.5410, 0.3524, 0.4848, 0.0901]])\n",
            "2\n",
            "torch.Size([3, 4])\n"
          ]
        }
      ]
    },
    {
      "cell_type": "code",
      "source": [
        "# How to generate an random image size tensor an Image with 3 different color (R,G,B),width=300 and height=300\n",
        "random_image_size_tensor = torch.rand(3,300,300)\n",
        "random_image_size_tensor"
      ],
      "metadata": {
        "id": "ct30lP5cwhdI",
        "outputId": "22e9dc6d-079b-47b8-d833-32c761c249db",
        "colab": {
          "base_uri": "https://localhost:8080/"
        }
      },
      "execution_count": 18,
      "outputs": [
        {
          "output_type": "execute_result",
          "data": {
            "text/plain": [
              "tensor([[[0.4555, 0.7060, 0.7650,  ..., 0.6060, 0.4679, 0.9493],\n",
              "         [0.3311, 0.2082, 0.0219,  ..., 0.1670, 0.2633, 0.4776],\n",
              "         [0.5939, 0.2315, 0.0450,  ..., 0.5946, 0.1515, 0.0864],\n",
              "         ...,\n",
              "         [0.8091, 0.5833, 0.4223,  ..., 0.4066, 0.3922, 0.7268],\n",
              "         [0.8898, 0.8970, 0.9407,  ..., 0.6729, 0.4734, 0.9505],\n",
              "         [0.5282, 0.9668, 0.0516,  ..., 0.6637, 0.0760, 0.4203]],\n",
              "\n",
              "        [[0.3121, 0.0093, 0.6483,  ..., 0.9185, 0.3403, 0.3906],\n",
              "         [0.6913, 0.0241, 0.8303,  ..., 0.9499, 0.2075, 0.9036],\n",
              "         [0.1264, 0.7459, 0.4222,  ..., 0.8306, 0.7336, 0.7782],\n",
              "         ...,\n",
              "         [0.2145, 0.5676, 0.1735,  ..., 0.3386, 0.7469, 0.5688],\n",
              "         [0.3592, 0.2770, 0.8195,  ..., 0.5998, 0.2583, 0.3823],\n",
              "         [0.2476, 0.2768, 0.1024,  ..., 0.9230, 0.4059, 0.1163]],\n",
              "\n",
              "        [[0.9647, 0.0135, 0.3583,  ..., 0.1792, 0.0177, 0.1600],\n",
              "         [0.2413, 0.3027, 0.2711,  ..., 0.3839, 0.2546, 0.7095],\n",
              "         [0.9939, 0.7288, 0.8587,  ..., 0.4744, 0.1391, 0.2635],\n",
              "         ...,\n",
              "         [0.2843, 0.0170, 0.7678,  ..., 0.9505, 0.4210, 0.5076],\n",
              "         [0.0950, 0.9622, 0.1127,  ..., 0.4385, 0.3549, 0.5156],\n",
              "         [0.7591, 0.0938, 0.3771,  ..., 0.8781, 0.1254, 0.5449]]])"
            ]
          },
          "metadata": {},
          "execution_count": 18
        }
      ]
    },
    {
      "cell_type": "markdown",
      "source": [
        "# Zeros and ones¶\n",
        "\n",
        "torch.zeros(size=)\n",
        "\n",
        "torch.ones(size=)"
      ],
      "metadata": {
        "id": "-7LRvggkx85U"
      }
    },
    {
      "cell_type": "code",
      "source": [
        "zeros = torch.zeros(size=(3,4))\n",
        "zeros"
      ],
      "metadata": {
        "id": "NTESBs9IyK1y",
        "outputId": "b084b465-d242-454e-de2b-c4363faeea6c",
        "colab": {
          "base_uri": "https://localhost:8080/"
        }
      },
      "execution_count": 19,
      "outputs": [
        {
          "output_type": "execute_result",
          "data": {
            "text/plain": [
              "tensor([[0., 0., 0., 0.],\n",
              "        [0., 0., 0., 0.],\n",
              "        [0., 0., 0., 0.]])"
            ]
          },
          "metadata": {},
          "execution_count": 19
        }
      ]
    },
    {
      "cell_type": "code",
      "source": [
        "zeros.dtype"
      ],
      "metadata": {
        "id": "UdFiidqryTFT",
        "outputId": "9b289094-1cfb-44c9-ed15-9ed3dfec1770",
        "colab": {
          "base_uri": "https://localhost:8080/"
        }
      },
      "execution_count": 20,
      "outputs": [
        {
          "output_type": "execute_result",
          "data": {
            "text/plain": [
              "torch.float32"
            ]
          },
          "metadata": {},
          "execution_count": 20
        }
      ]
    },
    {
      "cell_type": "code",
      "source": [
        "ones = torch.ones(size=(3,4))\n",
        "ones"
      ],
      "metadata": {
        "id": "nVvnQ8styYs4",
        "outputId": "cdf80e7e-07c7-44fb-c2f8-5600f874ba79",
        "colab": {
          "base_uri": "https://localhost:8080/"
        }
      },
      "execution_count": 21,
      "outputs": [
        {
          "output_type": "execute_result",
          "data": {
            "text/plain": [
              "tensor([[1., 1., 1., 1.],\n",
              "        [1., 1., 1., 1.],\n",
              "        [1., 1., 1., 1.]])"
            ]
          },
          "metadata": {},
          "execution_count": 21
        }
      ]
    },
    {
      "cell_type": "code",
      "source": [
        "ones.dtype"
      ],
      "metadata": {
        "id": "v-mhe8JpygUa",
        "outputId": "59e92085-f5df-41e2-ec08-081fab66f4d2",
        "colab": {
          "base_uri": "https://localhost:8080/"
        }
      },
      "execution_count": 22,
      "outputs": [
        {
          "output_type": "execute_result",
          "data": {
            "text/plain": [
              "torch.float32"
            ]
          },
          "metadata": {},
          "execution_count": 22
        }
      ]
    },
    {
      "cell_type": "markdown",
      "source": [
        "# Creating Range and Like Tensor"
      ],
      "metadata": {
        "id": "w1MKEzvve2Gq"
      }
    },
    {
      "cell_type": "code",
      "source": [
        "# arange method will be used arange(start=, end=, step=)\n",
        "one_to_thousands = torch.arange(start = 0, end=1001, step=100)\n",
        "one_to_thousands"
      ],
      "metadata": {
        "id": "WTvYZmpjyjwE",
        "outputId": "82c94096-6be8-4137-cfd1-669701ad32f0",
        "colab": {
          "base_uri": "https://localhost:8080/"
        }
      },
      "execution_count": 25,
      "outputs": [
        {
          "output_type": "execute_result",
          "data": {
            "text/plain": [
              "tensor([   0,  100,  200,  300,  400,  500,  600,  700,  800,  900, 1000])"
            ]
          },
          "metadata": {},
          "execution_count": 25
        }
      ]
    },
    {
      "cell_type": "code",
      "source": [
        "# Creatng Like tensor use like(input) method\n",
        "tens_zeros = torch.zeros_like(one_to_thousands)\n",
        "tens_zeros"
      ],
      "metadata": {
        "id": "5HaY7kK8fSZw",
        "outputId": "abc35729-b0c6-42e1-a9ac-6b46246f34d1",
        "colab": {
          "base_uri": "https://localhost:8080/"
        }
      },
      "execution_count": 26,
      "outputs": [
        {
          "output_type": "execute_result",
          "data": {
            "text/plain": [
              "tensor([0, 0, 0, 0, 0, 0, 0, 0, 0, 0, 0])"
            ]
          },
          "metadata": {},
          "execution_count": 26
        }
      ]
    },
    {
      "cell_type": "code",
      "source": [
        "one_to_ten = torch.arange(0,10,1)\n",
        "one_to_ten"
      ],
      "metadata": {
        "id": "uwhCyFuVfxpN",
        "outputId": "f93ce70f-0725-4765-ca9b-c625d5a7ca01",
        "colab": {
          "base_uri": "https://localhost:8080/"
        }
      },
      "execution_count": 29,
      "outputs": [
        {
          "output_type": "execute_result",
          "data": {
            "text/plain": [
              "tensor([0, 1, 2, 3, 4, 5, 6, 7, 8, 9])"
            ]
          },
          "metadata": {},
          "execution_count": 29
        }
      ]
    },
    {
      "cell_type": "code",
      "source": [
        "ten_ones = torch.ones_like(one_to_ten)\n",
        "ten_ones"
      ],
      "metadata": {
        "id": "UI2LVeYTf6Zi",
        "outputId": "4093a077-ecf6-4478-f275-0483e5cc0da3",
        "colab": {
          "base_uri": "https://localhost:8080/"
        }
      },
      "execution_count": 30,
      "outputs": [
        {
          "output_type": "execute_result",
          "data": {
            "text/plain": [
              "tensor([1, 1, 1, 1, 1, 1, 1, 1, 1, 1])"
            ]
          },
          "metadata": {},
          "execution_count": 30
        }
      ]
    },
    {
      "cell_type": "markdown",
      "source": [
        "# Data Type in Tensor\n",
        "\n",
        "### Deafult datatype is float32,\n",
        "\n",
        "####Basically three issue we faced while computing in Torch in Deep Learning\n",
        "1. Operation is not same data type Tensor\n",
        "2. Operation on two different shape Tensor\n",
        "3. Operation on two different Tensor running on different devices."
      ],
      "metadata": {
        "id": "1X9TFR2DitNL"
      }
    },
    {
      "cell_type": "code",
      "source": [
        "float_32 = torch.tensor([3.0,6.0,9.0], dtype=None,  # default float32, explicitly define tensor datatype\n",
        "                        device=None, # default cpu explicitly define device type\n",
        "                        requires_grad=False) # If True operation performed on Tensor recorded\n",
        "float_32"
      ],
      "metadata": {
        "id": "qE61n5UWjLYp",
        "outputId": "aa4d8080-ab9b-4a5d-8792-bd35d1c3546e",
        "colab": {
          "base_uri": "https://localhost:8080/"
        }
      },
      "execution_count": 31,
      "outputs": [
        {
          "output_type": "execute_result",
          "data": {
            "text/plain": [
              "tensor([3., 6., 9.])"
            ]
          },
          "metadata": {},
          "execution_count": 31
        }
      ]
    },
    {
      "cell_type": "code",
      "source": [
        "float_32.dtype"
      ],
      "metadata": {
        "id": "uYRUpAe6lrM8",
        "outputId": "0449710b-20fb-4251-9785-2f5ad399688c",
        "colab": {
          "base_uri": "https://localhost:8080/"
        }
      },
      "execution_count": 32,
      "outputs": [
        {
          "output_type": "execute_result",
          "data": {
            "text/plain": [
              "torch.float32"
            ]
          },
          "metadata": {},
          "execution_count": 32
        }
      ]
    },
    {
      "cell_type": "code",
      "source": [
        "float_16_tensor = float_32.type(torch.float16)"
      ],
      "metadata": {
        "id": "F76V2Fm1lt_W"
      },
      "execution_count": 36,
      "outputs": []
    },
    {
      "cell_type": "code",
      "source": [
        "float_16_tensor"
      ],
      "metadata": {
        "id": "xt8JWYAbnVJG",
        "outputId": "e02bee71-cc7b-480c-b3f1-5e10d30bf17b",
        "colab": {
          "base_uri": "https://localhost:8080/"
        }
      },
      "execution_count": 37,
      "outputs": [
        {
          "output_type": "execute_result",
          "data": {
            "text/plain": [
              "tensor([3., 6., 9.], dtype=torch.float16)"
            ]
          },
          "metadata": {},
          "execution_count": 37
        }
      ]
    },
    {
      "cell_type": "code",
      "source": [
        "int_8_tensor = torch.tensor([1,2,3],dtype=torch.int8)\n",
        "int_8_tensor"
      ],
      "metadata": {
        "id": "BzJIBLcknEJ5",
        "outputId": "2d981da5-8cf8-41f3-9623-6477fbca6f70",
        "colab": {
          "base_uri": "https://localhost:8080/"
        }
      },
      "execution_count": 38,
      "outputs": [
        {
          "output_type": "execute_result",
          "data": {
            "text/plain": [
              "tensor([1, 2, 3], dtype=torch.int8)"
            ]
          },
          "metadata": {},
          "execution_count": 38
        }
      ]
    },
    {
      "cell_type": "markdown",
      "source": [
        "# Getting Attribute of Tensor\n",
        "\n",
        "1. Getting Datatype of Tensor use tensor.dtype\n",
        "2. Getting Shape of Tensor use tensor.shape\n",
        "3. Getting device of Tensor use tensor.device"
      ],
      "metadata": {
        "id": "wcWSsUfMqkP2"
      }
    },
    {
      "cell_type": "code",
      "source": [
        "some_rand_tensor = torch.rand(size = (3,4), dtype=torch.float64)\n",
        "print(some_rand_tensor)\n",
        "print(\"Data type of Tensor is {}\".format(some_rand_tensor.dtype))\n",
        "print(\"Shape of Tensor is {}\".format(some_rand_tensor.shape))\n",
        "print(\"Device is used for Tensor {}\".format(some_rand_tensor.device))"
      ],
      "metadata": {
        "id": "HWUtxO70q_D6",
        "outputId": "f9de380a-683b-413d-ff03-4615b9cc81b5",
        "colab": {
          "base_uri": "https://localhost:8080/"
        }
      },
      "execution_count": 39,
      "outputs": [
        {
          "output_type": "stream",
          "name": "stdout",
          "text": [
            "tensor([[0.2941, 0.3483, 0.0720, 0.7606],\n",
            "        [0.7014, 0.7091, 0.7477, 0.0879],\n",
            "        [0.8076, 0.9868, 0.6959, 0.6606]], dtype=torch.float64)\n",
            "Data type of Tensor is torch.float64\n",
            "Shape of Tensor is torch.Size([3, 4])\n",
            "Device is used for Tensor cpu\n"
          ]
        }
      ]
    },
    {
      "cell_type": "markdown",
      "source": [
        "# Manipulation Tensor (Operation on Tensor)\n",
        "1. Addition\n",
        "2. Substraction\n",
        "3. Multiplication\n",
        "4. Division\n",
        "5. Matrix Multiplication"
      ],
      "metadata": {
        "id": "JrlzHskEtdgQ"
      }
    },
    {
      "cell_type": "code",
      "source": [
        "tensor = torch.rand(size = (2,2), dtype=torch.float16)\n",
        "tensor"
      ],
      "metadata": {
        "id": "ph43VCwotrR_",
        "outputId": "40378e93-9b47-4feb-ffe0-14b0701e3263",
        "colab": {
          "base_uri": "https://localhost:8080/"
        }
      },
      "execution_count": 40,
      "outputs": [
        {
          "output_type": "execute_result",
          "data": {
            "text/plain": [
              "tensor([[0.8892, 0.7227],\n",
              "        [0.9526, 0.6763]], dtype=torch.float16)"
            ]
          },
          "metadata": {},
          "execution_count": 40
        }
      ]
    },
    {
      "cell_type": "code",
      "source": [
        "# Addition of 10 in tensor\n",
        "print(\"Addition of 10 {}\".format(tensor+10))\n",
        "# Substartion of 10\n",
        "print(\"Subtraction of 10 {}\".format(tensor-10))\n",
        "# Multiplication of 10\n",
        "print(\"Multiplication of 10 {}\".format(tensor*10))\n",
        "# Division of 10\n",
        "print(\"Division of 10 {}\".format(tensor/10))"
      ],
      "metadata": {
        "id": "70sbE5UOt5nZ",
        "outputId": "bf483b2d-1462-406b-b698-6cb0b7c011e0",
        "colab": {
          "base_uri": "https://localhost:8080/"
        }
      },
      "execution_count": 41,
      "outputs": [
        {
          "output_type": "stream",
          "name": "stdout",
          "text": [
            "Addition of 10 tensor([[10.8906, 10.7188],\n",
            "        [10.9531, 10.6797]], dtype=torch.float16)\n",
            "Subtraction of 10 tensor([[-9.1094, -9.2812],\n",
            "        [-9.0469, -9.3203]], dtype=torch.float16)\n",
            "Multiplication of 10 tensor([[8.8906, 7.2266],\n",
            "        [9.5234, 6.7617]], dtype=torch.float16)\n",
            "Division of 10 tensor([[0.0889, 0.0723],\n",
            "        [0.0953, 0.0676]], dtype=torch.float16)\n"
          ]
        }
      ]
    },
    {
      "cell_type": "markdown",
      "source": [
        "# Matrix Multiplcation\n",
        "\n",
        "Q = [1,2,3]\n",
        "1. Element-wise multiplication\t[1 * 1, 2 * 2, 3 * 3] = [1, 4, 9]\ttensor * tensor\n",
        "2. Matrix multiplication\t[1 * 1 + 2 * 2 + 3 * 3] = [14]\ttensor.matmul(tensor)"
      ],
      "metadata": {
        "id": "OINVxerFximL"
      }
    },
    {
      "cell_type": "code",
      "source": [
        "tensor = torch.tensor([1,2,3])\n",
        "tensor.shape"
      ],
      "metadata": {
        "id": "S2a8ZjEqx3sc",
        "outputId": "f33b7b0a-beed-4f1c-b985-95be6232e583",
        "colab": {
          "base_uri": "https://localhost:8080/"
        }
      },
      "execution_count": 43,
      "outputs": [
        {
          "output_type": "execute_result",
          "data": {
            "text/plain": [
              "torch.Size([3])"
            ]
          },
          "metadata": {},
          "execution_count": 43
        }
      ]
    },
    {
      "cell_type": "code",
      "source": [
        "# ELement wise multiplication\n",
        "\n",
        "print (\" tensor * tensor = {}\".format(tensor*tensor))"
      ],
      "metadata": {
        "id": "QWLgKcetx_y1",
        "outputId": "850b2e60-add0-4b1c-dff4-d8bb5125431f",
        "colab": {
          "base_uri": "https://localhost:8080/"
        }
      },
      "execution_count": 45,
      "outputs": [
        {
          "output_type": "stream",
          "name": "stdout",
          "text": [
            " tensor * tensor = tensor([1, 4, 9])\n"
          ]
        }
      ]
    },
    {
      "cell_type": "code",
      "source": [
        "# dot multiplaction\n",
        "print(\"Dot Multiplication = {}\".format(tensor.matmul(tensor)) )"
      ],
      "metadata": {
        "id": "ZBQQtLpDyR_z",
        "outputId": "4dd3b13b-da2d-4582-8fb4-aeab2bb0f69d",
        "colab": {
          "base_uri": "https://localhost:8080/"
        }
      },
      "execution_count": 47,
      "outputs": [
        {
          "output_type": "stream",
          "name": "stdout",
          "text": [
            "Dot Multiplication = 14\n"
          ]
        }
      ]
    },
    {
      "cell_type": "code",
      "source": [
        "MATRIX_1 = torch.tensor([[1,2,3],\n",
        "                         [4,5,6]])\n",
        "MATRIX_1.shape"
      ],
      "metadata": {
        "id": "7ZSTT4P1yuxV",
        "outputId": "9d478942-013b-49e3-ce44-945a9704337d",
        "colab": {
          "base_uri": "https://localhost:8080/"
        }
      },
      "execution_count": 52,
      "outputs": [
        {
          "output_type": "execute_result",
          "data": {
            "text/plain": [
              "torch.Size([2, 3])"
            ]
          },
          "metadata": {},
          "execution_count": 52
        }
      ]
    },
    {
      "cell_type": "code",
      "source": [
        "MATRIX_2 = torch.tensor([[7,8],\n",
        "                         [9,10],\n",
        "                         [11,12]])\n",
        "MATRIX_2.shape"
      ],
      "metadata": {
        "id": "DfAloQxKyO4j",
        "outputId": "b9db5bfb-5799-4545-8424-4bc7ea33f70a",
        "colab": {
          "base_uri": "https://localhost:8080/"
        }
      },
      "execution_count": 54,
      "outputs": [
        {
          "output_type": "execute_result",
          "data": {
            "text/plain": [
              "torch.Size([3, 2])"
            ]
          },
          "metadata": {},
          "execution_count": 54
        }
      ]
    },
    {
      "cell_type": "code",
      "source": [
        "# Matrix Multiplcation\n",
        "MAT_PRODUCT = MATRIX_1.matmul(MATRIX_2)\n",
        "MAT_PRODUCT"
      ],
      "metadata": {
        "id": "upFjlzXhz_qh",
        "outputId": "0f8fcbac-ff4c-4d8e-8a62-900e06610f58",
        "colab": {
          "base_uri": "https://localhost:8080/"
        }
      },
      "execution_count": 55,
      "outputs": [
        {
          "output_type": "execute_result",
          "data": {
            "text/plain": [
              "tensor([[ 58,  64],\n",
              "        [139, 154]])"
            ]
          },
          "metadata": {},
          "execution_count": 55
        }
      ]
    },
    {
      "cell_type": "code",
      "source": [],
      "metadata": {
        "id": "8MEKvJNd0VmH"
      },
      "execution_count": null,
      "outputs": []
    },
    {
      "cell_type": "code",
      "source": [],
      "metadata": {
        "id": "qUR2MXiHz9kB"
      },
      "execution_count": null,
      "outputs": []
    },
    {
      "cell_type": "code",
      "source": [],
      "metadata": {
        "id": "tRsAKO9Txv5k"
      },
      "execution_count": null,
      "outputs": []
    },
    {
      "cell_type": "code",
      "source": [],
      "metadata": {
        "id": "9T_OkGwZumig"
      },
      "execution_count": null,
      "outputs": []
    },
    {
      "cell_type": "code",
      "source": [],
      "metadata": {
        "id": "F9JhWvAjrsPj"
      },
      "execution_count": null,
      "outputs": []
    },
    {
      "cell_type": "code",
      "source": [],
      "metadata": {
        "id": "kM3VL2jOqiEU"
      },
      "execution_count": null,
      "outputs": []
    },
    {
      "cell_type": "code",
      "source": [],
      "metadata": {
        "id": "0hVcGsVlgG7M"
      },
      "execution_count": null,
      "outputs": []
    },
    {
      "cell_type": "code",
      "source": [],
      "metadata": {
        "id": "bXq79qE0xAtb"
      },
      "execution_count": 22,
      "outputs": []
    },
    {
      "cell_type": "code",
      "source": [
        "#"
      ],
      "metadata": {
        "id": "j8l_95rlveq3"
      },
      "execution_count": 23,
      "outputs": []
    },
    {
      "cell_type": "code",
      "source": [],
      "metadata": {
        "id": "5AHLptrAqZBz"
      },
      "execution_count": 23,
      "outputs": []
    }
  ]
}