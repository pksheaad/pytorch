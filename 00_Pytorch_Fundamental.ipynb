{
  "nbformat": 4,
  "nbformat_minor": 0,
  "metadata": {
    "colab": {
      "provenance": [],
      "authorship_tag": "ABX9TyN3PK6lOJ4NzPZkHEATfmOy",
      "include_colab_link": true
    },
    "kernelspec": {
      "name": "python3",
      "display_name": "Python 3"
    },
    "language_info": {
      "name": "python"
    }
  },
  "cells": [
    {
      "cell_type": "markdown",
      "metadata": {
        "id": "view-in-github",
        "colab_type": "text"
      },
      "source": [
        "<a href=\"https://colab.research.google.com/github/pksheaad/pytorch/blob/main/00_Pytorch_Fundamental.ipynb\" target=\"_parent\"><img src=\"https://colab.research.google.com/assets/colab-badge.svg\" alt=\"Open In Colab\"/></a>"
      ]
    },
    {
      "cell_type": "markdown",
      "source": [
        "## PYTORCH Basic Fundamental"
      ],
      "metadata": {
        "id": "6_sbbmk2eVzh"
      }
    },
    {
      "cell_type": "code",
      "source": [
        "import torch\n",
        "from torch import nn #// nn contains all building block of neural network\n",
        "from matplotlib.pyplot import plot\n",
        "import numpy as np\n",
        "\n",
        "\n",
        "torch.__version__"
      ],
      "metadata": {
        "colab": {
          "base_uri": "https://localhost:8080/",
          "height": 35
        },
        "id": "88jUbyRgeeFl",
        "outputId": "3a7fcf86-4c17-43fe-abc4-fb825e742398"
      },
      "execution_count": 95,
      "outputs": [
        {
          "output_type": "execute_result",
          "data": {
            "text/plain": [
              "'2.8.0+cu126'"
            ],
            "application/vnd.google.colaboratory.intrinsic+json": {
              "type": "string"
            }
          },
          "metadata": {},
          "execution_count": 95
        }
      ]
    },
    {
      "cell_type": "markdown",
      "source": [
        "### Initializing and basic operations\n",
        "\n",
        "A tensor can be constructed from a Python list or sequence using the torch.tensor() constructor:"
      ],
      "metadata": {
        "id": "DKRXbmB0ik1Z"
      }
    },
    {
      "cell_type": "code",
      "source": [
        "vector = torch.tensor([[1.,-1.],[1.,-1.]])\n",
        "vector"
      ],
      "metadata": {
        "colab": {
          "base_uri": "https://localhost:8080/"
        },
        "id": "QiCoiZiwivKz",
        "outputId": "9c40e256-f9eb-429c-b720-2765fdd07aae"
      },
      "execution_count": 96,
      "outputs": [
        {
          "output_type": "execute_result",
          "data": {
            "text/plain": [
              "tensor([[ 1., -1.],\n",
              "        [ 1., -1.]])"
            ]
          },
          "metadata": {},
          "execution_count": 96
        }
      ]
    },
    {
      "cell_type": "code",
      "source": [
        "torch.tensor(np.array(vector))"
      ],
      "metadata": {
        "colab": {
          "base_uri": "https://localhost:8080/"
        },
        "id": "MmcrUEclj6fo",
        "outputId": "86ff347f-3440-4da8-e1cc-90f6853c8637"
      },
      "execution_count": 97,
      "outputs": [
        {
          "output_type": "execute_result",
          "data": {
            "text/plain": [
              "tensor([[ 1., -1.],\n",
              "        [ 1., -1.]])"
            ]
          },
          "metadata": {},
          "execution_count": 97
        }
      ]
    },
    {
      "cell_type": "markdown",
      "source": [
        "A tensor of specific data type can be constructed by passing a torch.dtype and/or a torch.device to a constructor or tensor creation op:"
      ],
      "metadata": {
        "id": "43eHgQIek0tl"
      }
    },
    {
      "cell_type": "code",
      "source": [
        "torch.zeros([2,4], dtype=torch.int32, device=\"cpu\")"
      ],
      "metadata": {
        "colab": {
          "base_uri": "https://localhost:8080/"
        },
        "id": "rq113PNbj0aL",
        "outputId": "13ebfc85-cc7a-4674-cc3a-f2066f9a6dc4"
      },
      "execution_count": 98,
      "outputs": [
        {
          "output_type": "execute_result",
          "data": {
            "text/plain": [
              "tensor([[0, 0, 0, 0],\n",
              "        [0, 0, 0, 0]], dtype=torch.int32)"
            ]
          },
          "metadata": {},
          "execution_count": 98
        }
      ]
    },
    {
      "cell_type": "code",
      "source": [
        "#cuda0 = torch.device('cuda:0')\n",
        "torch.ones([3,5], dtype=torch.float64, device=\"cpu\")"
      ],
      "metadata": {
        "colab": {
          "base_uri": "https://localhost:8080/"
        },
        "id": "srYkiiBJlR3y",
        "outputId": "87dddb94-99c4-4c6e-d08e-a99d61059a2a"
      },
      "execution_count": 99,
      "outputs": [
        {
          "output_type": "execute_result",
          "data": {
            "text/plain": [
              "tensor([[1., 1., 1., 1., 1.],\n",
              "        [1., 1., 1., 1., 1.],\n",
              "        [1., 1., 1., 1., 1.]], dtype=torch.float64)"
            ]
          },
          "metadata": {},
          "execution_count": 99
        }
      ]
    },
    {
      "cell_type": "markdown",
      "source": [
        "The contents of a tensor can be accessed and modified using Python’s indexing and slicing notation:"
      ],
      "metadata": {
        "id": "Y_8sgV1hmOy3"
      }
    },
    {
      "cell_type": "code",
      "source": [
        "x = torch.tensor([[1,5,8],[3,7,9],[4,5,6]])\n",
        "x\n",
        "print(x[0])\n",
        "print(x[1][2])\n",
        "x[2,2] = 10\n",
        "x"
      ],
      "metadata": {
        "colab": {
          "base_uri": "https://localhost:8080/"
        },
        "id": "tBEkpAaZmQG8",
        "outputId": "66e727e0-ed9e-4817-b908-a5cddc1f9fcd"
      },
      "execution_count": 100,
      "outputs": [
        {
          "output_type": "stream",
          "name": "stdout",
          "text": [
            "tensor([1, 5, 8])\n",
            "tensor(9)\n"
          ]
        },
        {
          "output_type": "execute_result",
          "data": {
            "text/plain": [
              "tensor([[ 1,  5,  8],\n",
              "        [ 3,  7,  9],\n",
              "        [ 4,  5, 10]])"
            ]
          },
          "metadata": {},
          "execution_count": 100
        }
      ]
    },
    {
      "cell_type": "markdown",
      "source": [
        "Use torch.Tensor.item() to get a Python number from a tensor containing a single value:"
      ],
      "metadata": {
        "id": "OVKIG1SIm-aC"
      }
    },
    {
      "cell_type": "code",
      "source": [
        "x = torch.tensor(10.00)\n",
        "print(x)\n",
        "print(x.item())"
      ],
      "metadata": {
        "colab": {
          "base_uri": "https://localhost:8080/"
        },
        "id": "OoBTKY7enIz2",
        "outputId": "9a3a9a5e-04e1-4a84-ffb7-8717e50227ed"
      },
      "execution_count": 101,
      "outputs": [
        {
          "output_type": "stream",
          "name": "stdout",
          "text": [
            "tensor(10.)\n",
            "10.0\n"
          ]
        }
      ]
    },
    {
      "cell_type": "code",
      "source": [
        "x = torch.tensor(5)\n",
        "x\n",
        "print(x.item())"
      ],
      "metadata": {
        "colab": {
          "base_uri": "https://localhost:8080/"
        },
        "id": "zVZoZs8qmoY3",
        "outputId": "6d5906aa-ce8a-48bd-c6a2-a3bf149ce97b"
      },
      "execution_count": 102,
      "outputs": [
        {
          "output_type": "stream",
          "name": "stdout",
          "text": [
            "5\n"
          ]
        }
      ]
    },
    {
      "cell_type": "code",
      "source": [
        "scaler = torch.tensor(7)\n",
        "scaler"
      ],
      "metadata": {
        "colab": {
          "base_uri": "https://localhost:8080/"
        },
        "id": "-YSKIwLenTg1",
        "outputId": "69c5c13f-64c2-4479-b89b-f2ada3245a74"
      },
      "execution_count": 103,
      "outputs": [
        {
          "output_type": "execute_result",
          "data": {
            "text/plain": [
              "tensor(7)"
            ]
          },
          "metadata": {},
          "execution_count": 103
        }
      ]
    },
    {
      "cell_type": "markdown",
      "source": [
        "We can check the dimensions of a tensor using the ndim attribute."
      ],
      "metadata": {
        "id": "Anh8ouvYn1LS"
      }
    },
    {
      "cell_type": "code",
      "source": [
        "scaler.ndim"
      ],
      "metadata": {
        "colab": {
          "base_uri": "https://localhost:8080/"
        },
        "id": "xm70XMnLldsO",
        "outputId": "f09eb488-9289-4038-e1d7-ab3dc15d228b"
      },
      "execution_count": 104,
      "outputs": [
        {
          "output_type": "execute_result",
          "data": {
            "text/plain": [
              "0"
            ]
          },
          "metadata": {},
          "execution_count": 104
        }
      ]
    },
    {
      "cell_type": "markdown",
      "source": [
        "torch.Tensor to a Python integer can we done by item() method"
      ],
      "metadata": {
        "id": "UxxyNqA9oIUH"
      }
    },
    {
      "cell_type": "code",
      "source": [
        "scaler.item()"
      ],
      "metadata": {
        "colab": {
          "base_uri": "https://localhost:8080/"
        },
        "id": "edvxWMaioPq7",
        "outputId": "e7796d28-16e7-4e40-aa96-a68933a1c73d"
      },
      "execution_count": 105,
      "outputs": [
        {
          "output_type": "execute_result",
          "data": {
            "text/plain": [
              "7"
            ]
          },
          "metadata": {},
          "execution_count": 105
        }
      ]
    },
    {
      "cell_type": "code",
      "source": [
        "vector = torch.tensor([7.,7])\n",
        "# dimension of vector\n",
        "print(vector.ndim)\n",
        "# shape of vector, Shapes tells us how the elemnt in the vector are arranged\n",
        "print(vector.shape)"
      ],
      "metadata": {
        "colab": {
          "base_uri": "https://localhost:8080/"
        },
        "id": "UzpVdt-doSzl",
        "outputId": "52ed2921-af38-47cf-ad04-8a305e6d599c"
      },
      "execution_count": 106,
      "outputs": [
        {
          "output_type": "stream",
          "name": "stdout",
          "text": [
            "1\n",
            "torch.Size([2])\n"
          ]
        }
      ]
    },
    {
      "cell_type": "code",
      "source": [
        "print(vector[0].tolist())"
      ],
      "metadata": {
        "colab": {
          "base_uri": "https://localhost:8080/"
        },
        "id": "P-Q00wTFS4PK",
        "outputId": "ea5eacb1-f7a8-4d56-8b04-c99a0481b7a5"
      },
      "execution_count": 107,
      "outputs": [
        {
          "output_type": "stream",
          "name": "stdout",
          "text": [
            "7.0\n"
          ]
        }
      ]
    },
    {
      "cell_type": "code",
      "source": [
        "#MATRIX\n",
        "MATRIX = torch.tensor([[1,2,3],\n",
        "                       [4,5,6],\n",
        "                       [7,8,9]])\n",
        "# Dimension of MATRIX\n",
        "print(MATRIX.ndim)\n",
        "\n",
        "# Shape of MATRIX\n",
        "print(MATRIX.shape)\n",
        "\n",
        "# Accessing element of MATRIX\n",
        "print(MATRIX[0])\n",
        "print(MATRIX[1,1])\n",
        "print(MATRIX[0].tolist())"
      ],
      "metadata": {
        "colab": {
          "base_uri": "https://localhost:8080/"
        },
        "id": "fHzzEUvFpHDb",
        "outputId": "d686774b-dc4f-4b21-de40-e3bc29e82965"
      },
      "execution_count": 108,
      "outputs": [
        {
          "output_type": "stream",
          "name": "stdout",
          "text": [
            "2\n",
            "torch.Size([3, 3])\n",
            "tensor([1, 2, 3])\n",
            "tensor(5)\n",
            "[1, 2, 3]\n"
          ]
        }
      ]
    },
    {
      "cell_type": "code",
      "source": [
        "TENSOR = torch.tensor([[[10,20,30],\n",
        "                        [40,50,60],\n",
        "                        [70,80,90]]])"
      ],
      "metadata": {
        "id": "gR-6sueNpz9V"
      },
      "execution_count": 109,
      "outputs": []
    },
    {
      "cell_type": "code",
      "source": [
        "TENSOR\n",
        "print(TENSOR.ndim)\n",
        "print(TENSOR.shape)\n",
        "print(TENSOR[0])\n",
        "print(TENSOR[0][1][2]) # Ans must be 60"
      ],
      "metadata": {
        "colab": {
          "base_uri": "https://localhost:8080/"
        },
        "id": "XVcCf5MwqXYV",
        "outputId": "ce226205-7ceb-48a7-8e06-c74c845da263"
      },
      "execution_count": 110,
      "outputs": [
        {
          "output_type": "stream",
          "name": "stdout",
          "text": [
            "3\n",
            "torch.Size([1, 3, 3])\n",
            "tensor([[10, 20, 30],\n",
            "        [40, 50, 60],\n",
            "        [70, 80, 90]])\n",
            "tensor(60)\n"
          ]
        }
      ]
    },
    {
      "cell_type": "code",
      "source": [],
      "metadata": {
        "id": "RWJpulK7qq40"
      },
      "execution_count": 110,
      "outputs": []
    },
    {
      "cell_type": "markdown",
      "source": [
        "#Random tensors\n",
        "\n",
        "A machine learning model often starts out with large random tensors of numbers and adjusts these random numbers as it works through data to better represent it.\n",
        "\n",
        "In essence:\n",
        "\n",
        "Start with random numbers -> look at data -> update random numbers -> look at data -> update random numbers..."
      ],
      "metadata": {
        "id": "OBpsAQ4-u8Mw"
      }
    },
    {
      "cell_type": "code",
      "source": [
        "# Creating a random tensor with scaler data\n",
        "random_tensor = torch.rand(size=(2,))\n",
        "random_tensor\n",
        "\n",
        "# Dimension of random_tensor\n",
        "print(random_tensor.ndim)\n",
        "\n",
        "# Shape of randmon_tensor\n",
        "\n",
        "print(random_tensor.shape)\n"
      ],
      "metadata": {
        "id": "CAQZQOfevL-u",
        "outputId": "e67bf802-bda2-48de-c975-cdd5ed965e0d",
        "colab": {
          "base_uri": "https://localhost:8080/"
        }
      },
      "execution_count": 111,
      "outputs": [
        {
          "output_type": "stream",
          "name": "stdout",
          "text": [
            "1\n",
            "torch.Size([2])\n"
          ]
        }
      ]
    },
    {
      "cell_type": "code",
      "source": [
        "# Creating a random tensor with vector data (3,4)\n",
        "random_tensor_vector = torch.rand(size=(3,4))\n",
        "print(random_tensor_vector)\n",
        "# Dimension of random_tensor_vector\n",
        "print(random_tensor_vector.ndim)\n",
        "# Shape of a random_tensor_vector\n",
        "print(random_tensor_vector.shape)"
      ],
      "metadata": {
        "id": "0yPLck3Yv5-N",
        "outputId": "3dbdeace-4bef-4533-e4a9-fdc5a02f0b83",
        "colab": {
          "base_uri": "https://localhost:8080/"
        }
      },
      "execution_count": 112,
      "outputs": [
        {
          "output_type": "stream",
          "name": "stdout",
          "text": [
            "tensor([[0.8720, 0.0754, 0.6942, 0.7136],\n",
            "        [0.8409, 0.6968, 0.6113, 0.3862],\n",
            "        [0.2025, 0.2463, 0.6696, 0.9994]])\n",
            "2\n",
            "torch.Size([3, 4])\n"
          ]
        }
      ]
    },
    {
      "cell_type": "code",
      "source": [
        "# How to generate an random image size tensor an Image with 3 different color (R,G,B),width=300 and height=300\n",
        "random_image_size_tensor = torch.rand(3,300,300)\n",
        "random_image_size_tensor"
      ],
      "metadata": {
        "id": "ct30lP5cwhdI",
        "outputId": "6584bffc-4b6d-4321-ea7c-60da00e2877c",
        "colab": {
          "base_uri": "https://localhost:8080/"
        }
      },
      "execution_count": 113,
      "outputs": [
        {
          "output_type": "execute_result",
          "data": {
            "text/plain": [
              "tensor([[[0.9436, 0.4858, 0.4191,  ..., 0.8704, 0.6465, 0.6720],\n",
              "         [0.0303, 0.3770, 0.8126,  ..., 0.9326, 0.1385, 0.3366],\n",
              "         [0.8531, 0.8284, 0.0919,  ..., 0.0751, 0.1404, 0.9439],\n",
              "         ...,\n",
              "         [0.3506, 0.2347, 0.0059,  ..., 0.4938, 0.4925, 0.6254],\n",
              "         [0.2728, 0.4464, 0.6577,  ..., 0.5011, 0.6415, 0.9793],\n",
              "         [0.3036, 0.1266, 0.3526,  ..., 0.5631, 0.2405, 0.8753]],\n",
              "\n",
              "        [[0.5402, 0.9993, 0.0873,  ..., 0.7348, 0.1635, 0.9421],\n",
              "         [0.0059, 0.7632, 0.1850,  ..., 0.9892, 0.6160, 0.6838],\n",
              "         [0.2763, 0.9223, 0.8368,  ..., 0.7703, 0.8501, 0.8268],\n",
              "         ...,\n",
              "         [0.0217, 0.4548, 0.0884,  ..., 0.6549, 0.9481, 0.6830],\n",
              "         [0.5458, 0.2697, 0.1344,  ..., 0.0053, 0.1967, 0.8921],\n",
              "         [0.1952, 0.3695, 0.5584,  ..., 0.2369, 0.1606, 0.9952]],\n",
              "\n",
              "        [[0.2285, 0.2675, 0.8678,  ..., 0.1254, 0.5839, 0.5960],\n",
              "         [0.8263, 0.0824, 0.9398,  ..., 0.1102, 0.2839, 0.9630],\n",
              "         [0.5276, 0.7861, 0.4360,  ..., 0.3511, 0.0126, 0.5022],\n",
              "         ...,\n",
              "         [0.5005, 0.4564, 0.9525,  ..., 0.0810, 0.1863, 0.9750],\n",
              "         [0.0225, 0.1878, 0.7620,  ..., 0.8154, 0.3545, 0.0735],\n",
              "         [0.5112, 0.6933, 0.8161,  ..., 0.6717, 0.8629, 0.6271]]])"
            ]
          },
          "metadata": {},
          "execution_count": 113
        }
      ]
    },
    {
      "cell_type": "markdown",
      "source": [
        "# Zeros and ones¶\n",
        "\n",
        "torch.zeros(size=)\n",
        "\n",
        "torch.ones(size=)"
      ],
      "metadata": {
        "id": "-7LRvggkx85U"
      }
    },
    {
      "cell_type": "code",
      "source": [
        "zeros = torch.zeros(size=(3,4))\n",
        "zeros"
      ],
      "metadata": {
        "id": "NTESBs9IyK1y",
        "outputId": "0977bfee-45d7-474c-f55d-9ae55c2666ef",
        "colab": {
          "base_uri": "https://localhost:8080/"
        }
      },
      "execution_count": 114,
      "outputs": [
        {
          "output_type": "execute_result",
          "data": {
            "text/plain": [
              "tensor([[0., 0., 0., 0.],\n",
              "        [0., 0., 0., 0.],\n",
              "        [0., 0., 0., 0.]])"
            ]
          },
          "metadata": {},
          "execution_count": 114
        }
      ]
    },
    {
      "cell_type": "code",
      "source": [
        "zeros.dtype"
      ],
      "metadata": {
        "id": "UdFiidqryTFT",
        "outputId": "ee0ab9cd-e2c6-4334-9c8b-b64aca393eec",
        "colab": {
          "base_uri": "https://localhost:8080/"
        }
      },
      "execution_count": 115,
      "outputs": [
        {
          "output_type": "execute_result",
          "data": {
            "text/plain": [
              "torch.float32"
            ]
          },
          "metadata": {},
          "execution_count": 115
        }
      ]
    },
    {
      "cell_type": "code",
      "source": [
        "ones = torch.ones(size=(3,4))\n",
        "ones"
      ],
      "metadata": {
        "id": "nVvnQ8styYs4",
        "outputId": "e0fb97cf-1bc2-4113-9995-0146b7255756",
        "colab": {
          "base_uri": "https://localhost:8080/"
        }
      },
      "execution_count": 116,
      "outputs": [
        {
          "output_type": "execute_result",
          "data": {
            "text/plain": [
              "tensor([[1., 1., 1., 1.],\n",
              "        [1., 1., 1., 1.],\n",
              "        [1., 1., 1., 1.]])"
            ]
          },
          "metadata": {},
          "execution_count": 116
        }
      ]
    },
    {
      "cell_type": "code",
      "source": [
        "ones.dtype"
      ],
      "metadata": {
        "id": "v-mhe8JpygUa",
        "outputId": "6537c1ef-5a92-4c5a-e34a-e7434d79d930",
        "colab": {
          "base_uri": "https://localhost:8080/"
        }
      },
      "execution_count": 117,
      "outputs": [
        {
          "output_type": "execute_result",
          "data": {
            "text/plain": [
              "torch.float32"
            ]
          },
          "metadata": {},
          "execution_count": 117
        }
      ]
    },
    {
      "cell_type": "markdown",
      "source": [
        "# Creating Range and Like Tensor"
      ],
      "metadata": {
        "id": "w1MKEzvve2Gq"
      }
    },
    {
      "cell_type": "code",
      "source": [
        "# arange method will be used arange(start=, end=, step=)\n",
        "one_to_thousands = torch.arange(start = 0, end=1001, step=100)\n",
        "one_to_thousands"
      ],
      "metadata": {
        "id": "WTvYZmpjyjwE",
        "outputId": "ce1ca978-8f22-417e-9566-8bf7d1f73a37",
        "colab": {
          "base_uri": "https://localhost:8080/"
        }
      },
      "execution_count": 118,
      "outputs": [
        {
          "output_type": "execute_result",
          "data": {
            "text/plain": [
              "tensor([   0,  100,  200,  300,  400,  500,  600,  700,  800,  900, 1000])"
            ]
          },
          "metadata": {},
          "execution_count": 118
        }
      ]
    },
    {
      "cell_type": "code",
      "source": [
        "# Creatng Like tensor use like(input) method\n",
        "tens_zeros = torch.zeros_like(one_to_thousands)\n",
        "tens_zeros"
      ],
      "metadata": {
        "id": "5HaY7kK8fSZw",
        "outputId": "7c7da201-e9cd-4ca8-b228-168b3deae702",
        "colab": {
          "base_uri": "https://localhost:8080/"
        }
      },
      "execution_count": 119,
      "outputs": [
        {
          "output_type": "execute_result",
          "data": {
            "text/plain": [
              "tensor([0, 0, 0, 0, 0, 0, 0, 0, 0, 0, 0])"
            ]
          },
          "metadata": {},
          "execution_count": 119
        }
      ]
    },
    {
      "cell_type": "code",
      "source": [
        "one_to_ten = torch.arange(0,10,1)\n",
        "one_to_ten"
      ],
      "metadata": {
        "id": "uwhCyFuVfxpN",
        "outputId": "801192fd-f5c4-40c2-a20f-f42505b5f7ce",
        "colab": {
          "base_uri": "https://localhost:8080/"
        }
      },
      "execution_count": 120,
      "outputs": [
        {
          "output_type": "execute_result",
          "data": {
            "text/plain": [
              "tensor([0, 1, 2, 3, 4, 5, 6, 7, 8, 9])"
            ]
          },
          "metadata": {},
          "execution_count": 120
        }
      ]
    },
    {
      "cell_type": "code",
      "source": [
        "ten_ones = torch.ones_like(one_to_ten)\n",
        "ten_ones"
      ],
      "metadata": {
        "id": "UI2LVeYTf6Zi",
        "outputId": "15a20ff3-d08a-4970-c81a-1438b6bfe2a5",
        "colab": {
          "base_uri": "https://localhost:8080/"
        }
      },
      "execution_count": 121,
      "outputs": [
        {
          "output_type": "execute_result",
          "data": {
            "text/plain": [
              "tensor([1, 1, 1, 1, 1, 1, 1, 1, 1, 1])"
            ]
          },
          "metadata": {},
          "execution_count": 121
        }
      ]
    },
    {
      "cell_type": "markdown",
      "source": [
        "# Data Type in Tensor\n",
        "\n",
        "### Deafult datatype is float32,\n",
        "\n",
        "####Basically three issue we faced while computing in Torch in Deep Learning\n",
        "1. Operation is not same data type Tensor\n",
        "2. Operation on two different shape Tensor\n",
        "3. Operation on two different Tensor running on different devices."
      ],
      "metadata": {
        "id": "1X9TFR2DitNL"
      }
    },
    {
      "cell_type": "code",
      "source": [
        "float_32 = torch.tensor([3.0,6.0,9.0], dtype=None,  # default float32, explicitly define tensor datatype\n",
        "                        device=None, # default cpu explicitly define device type\n",
        "                        requires_grad=False) # If True operation performed on Tensor recorded\n",
        "float_32"
      ],
      "metadata": {
        "id": "qE61n5UWjLYp",
        "outputId": "c5784add-032f-4ed2-8dba-ef25542ddcea",
        "colab": {
          "base_uri": "https://localhost:8080/"
        }
      },
      "execution_count": 122,
      "outputs": [
        {
          "output_type": "execute_result",
          "data": {
            "text/plain": [
              "tensor([3., 6., 9.])"
            ]
          },
          "metadata": {},
          "execution_count": 122
        }
      ]
    },
    {
      "cell_type": "code",
      "source": [
        "float_32.dtype"
      ],
      "metadata": {
        "id": "uYRUpAe6lrM8",
        "outputId": "e940f291-8837-474a-dce9-268a888d0a38",
        "colab": {
          "base_uri": "https://localhost:8080/"
        }
      },
      "execution_count": 123,
      "outputs": [
        {
          "output_type": "execute_result",
          "data": {
            "text/plain": [
              "torch.float32"
            ]
          },
          "metadata": {},
          "execution_count": 123
        }
      ]
    },
    {
      "cell_type": "code",
      "source": [
        "float_16_tensor = float_32.type(torch.float16)"
      ],
      "metadata": {
        "id": "F76V2Fm1lt_W"
      },
      "execution_count": 124,
      "outputs": []
    },
    {
      "cell_type": "code",
      "source": [
        "float_16_tensor"
      ],
      "metadata": {
        "id": "xt8JWYAbnVJG",
        "outputId": "18982918-55bb-41bb-f23b-1131e60f6308",
        "colab": {
          "base_uri": "https://localhost:8080/"
        }
      },
      "execution_count": 125,
      "outputs": [
        {
          "output_type": "execute_result",
          "data": {
            "text/plain": [
              "tensor([3., 6., 9.], dtype=torch.float16)"
            ]
          },
          "metadata": {},
          "execution_count": 125
        }
      ]
    },
    {
      "cell_type": "code",
      "source": [
        "int_8_tensor = torch.tensor([1,2,3],dtype=torch.int8)\n",
        "int_8_tensor"
      ],
      "metadata": {
        "id": "BzJIBLcknEJ5",
        "outputId": "b2c9eddf-124e-415e-ee1e-bc4d3451c9bc",
        "colab": {
          "base_uri": "https://localhost:8080/"
        }
      },
      "execution_count": 126,
      "outputs": [
        {
          "output_type": "execute_result",
          "data": {
            "text/plain": [
              "tensor([1, 2, 3], dtype=torch.int8)"
            ]
          },
          "metadata": {},
          "execution_count": 126
        }
      ]
    },
    {
      "cell_type": "markdown",
      "source": [
        "# Getting Attribute of Tensor\n",
        "\n",
        "1. Getting Datatype of Tensor use tensor.dtype\n",
        "2. Getting Shape of Tensor use tensor.shape\n",
        "3. Getting device of Tensor use tensor.device"
      ],
      "metadata": {
        "id": "wcWSsUfMqkP2"
      }
    },
    {
      "cell_type": "code",
      "source": [
        "some_rand_tensor = torch.rand(size = (3,4), dtype=torch.float64)\n",
        "print(some_rand_tensor)\n",
        "print(\"Data type of Tensor is {}\".format(some_rand_tensor.dtype))\n",
        "print(\"Shape of Tensor is {}\".format(some_rand_tensor.shape))\n",
        "print(\"Device is used for Tensor {}\".format(some_rand_tensor.device))"
      ],
      "metadata": {
        "id": "HWUtxO70q_D6",
        "outputId": "c1d08b39-01a1-464c-cf34-d69ad80c421a",
        "colab": {
          "base_uri": "https://localhost:8080/"
        }
      },
      "execution_count": 127,
      "outputs": [
        {
          "output_type": "stream",
          "name": "stdout",
          "text": [
            "tensor([[0.0519, 0.3323, 0.4422, 0.1238],\n",
            "        [0.4250, 0.9209, 0.1619, 0.0086],\n",
            "        [0.3950, 0.2689, 0.3932, 0.5314]], dtype=torch.float64)\n",
            "Data type of Tensor is torch.float64\n",
            "Shape of Tensor is torch.Size([3, 4])\n",
            "Device is used for Tensor cpu\n"
          ]
        }
      ]
    },
    {
      "cell_type": "markdown",
      "source": [
        "# Manipulation Tensor (Operation on Tensor)\n",
        "1. Addition\n",
        "2. Substraction\n",
        "3. Multiplication\n",
        "4. Division\n",
        "5. Matrix Multiplication"
      ],
      "metadata": {
        "id": "JrlzHskEtdgQ"
      }
    },
    {
      "cell_type": "code",
      "source": [
        "tensor = torch.rand(size = (2,2), dtype=torch.float16)\n",
        "tensor"
      ],
      "metadata": {
        "id": "ph43VCwotrR_",
        "outputId": "af1e4b00-fc41-4555-8411-7844a4e34c9b",
        "colab": {
          "base_uri": "https://localhost:8080/"
        }
      },
      "execution_count": 128,
      "outputs": [
        {
          "output_type": "execute_result",
          "data": {
            "text/plain": [
              "tensor([[0.0889, 0.6265],\n",
              "        [0.3174, 0.9976]], dtype=torch.float16)"
            ]
          },
          "metadata": {},
          "execution_count": 128
        }
      ]
    },
    {
      "cell_type": "code",
      "source": [
        "# Addition of 10 in tensor\n",
        "print(\"Addition of 10 {}\".format(tensor+10))\n",
        "# Substartion of 10\n",
        "print(\"Subtraction of 10 {}\".format(tensor-10))\n",
        "# Multiplication of 10\n",
        "print(\"Multiplication of 10 {}\".format(tensor*10))\n",
        "# Division of 10\n",
        "print(\"Division of 10 {}\".format(tensor/10))"
      ],
      "metadata": {
        "id": "70sbE5UOt5nZ",
        "outputId": "d65989a7-f0b2-4fea-f33b-e0c8e812b9d0",
        "colab": {
          "base_uri": "https://localhost:8080/"
        }
      },
      "execution_count": 129,
      "outputs": [
        {
          "output_type": "stream",
          "name": "stdout",
          "text": [
            "Addition of 10 tensor([[10.0859, 10.6250],\n",
            "        [10.3203, 11.0000]], dtype=torch.float16)\n",
            "Subtraction of 10 tensor([[-9.9141, -9.3750],\n",
            "        [-9.6797, -9.0000]], dtype=torch.float16)\n",
            "Multiplication of 10 tensor([[0.8887, 6.2656],\n",
            "        [3.1738, 9.9766]], dtype=torch.float16)\n",
            "Division of 10 tensor([[0.0089, 0.0626],\n",
            "        [0.0317, 0.0997]], dtype=torch.float16)\n"
          ]
        }
      ]
    },
    {
      "cell_type": "markdown",
      "source": [
        "# Matrix Multiplcation\n",
        "\n",
        "Q = [1,2,3]\n",
        "1. Element-wise multiplication\t[1 * 1, 2 * 2, 3 * 3] = [1, 4, 9]\ttensor * tensor\n",
        "2. Matrix multiplication\t[1 * 1 + 2 * 2 + 3 * 3] = [14]\ttensor.matmul(tensor)"
      ],
      "metadata": {
        "id": "OINVxerFximL"
      }
    },
    {
      "cell_type": "code",
      "source": [
        "tensor = torch.tensor([1,2,3])\n",
        "tensor.shape"
      ],
      "metadata": {
        "id": "S2a8ZjEqx3sc",
        "outputId": "b7fc93f5-6aac-49f6-bd17-cfeea018c9c0",
        "colab": {
          "base_uri": "https://localhost:8080/"
        }
      },
      "execution_count": 130,
      "outputs": [
        {
          "output_type": "execute_result",
          "data": {
            "text/plain": [
              "torch.Size([3])"
            ]
          },
          "metadata": {},
          "execution_count": 130
        }
      ]
    },
    {
      "cell_type": "code",
      "source": [
        "# ELement wise multiplication\n",
        "\n",
        "print (\" tensor * tensor = {}\".format(tensor*tensor))"
      ],
      "metadata": {
        "id": "QWLgKcetx_y1",
        "outputId": "37c454f0-f4d9-4032-ba03-6a05cb388991",
        "colab": {
          "base_uri": "https://localhost:8080/"
        }
      },
      "execution_count": 131,
      "outputs": [
        {
          "output_type": "stream",
          "name": "stdout",
          "text": [
            " tensor * tensor = tensor([1, 4, 9])\n"
          ]
        }
      ]
    },
    {
      "cell_type": "code",
      "source": [
        "# dot multiplaction\n",
        "print(\"Dot Multiplication = {}\".format(tensor.matmul(tensor)) )"
      ],
      "metadata": {
        "id": "ZBQQtLpDyR_z",
        "outputId": "79a44e3b-701c-40a6-b335-2d2d7f12bbaa",
        "colab": {
          "base_uri": "https://localhost:8080/"
        }
      },
      "execution_count": 132,
      "outputs": [
        {
          "output_type": "stream",
          "name": "stdout",
          "text": [
            "Dot Multiplication = 14\n"
          ]
        }
      ]
    },
    {
      "cell_type": "code",
      "source": [
        "MATRIX_1 = torch.tensor([[1,2,3],\n",
        "                         [4,5,6]])\n",
        "MATRIX_1.shape"
      ],
      "metadata": {
        "id": "7ZSTT4P1yuxV",
        "outputId": "d2295fdc-eaa6-414f-d88e-c7be6a38639c",
        "colab": {
          "base_uri": "https://localhost:8080/"
        }
      },
      "execution_count": 133,
      "outputs": [
        {
          "output_type": "execute_result",
          "data": {
            "text/plain": [
              "torch.Size([2, 3])"
            ]
          },
          "metadata": {},
          "execution_count": 133
        }
      ]
    },
    {
      "cell_type": "code",
      "source": [
        "MATRIX_2 = torch.tensor([[7,8],\n",
        "                         [9,10],\n",
        "                         [11,12]])\n",
        "MATRIX_2.shape"
      ],
      "metadata": {
        "id": "DfAloQxKyO4j",
        "outputId": "05bda8bc-b34b-48e2-82c6-414866762f1a",
        "colab": {
          "base_uri": "https://localhost:8080/"
        }
      },
      "execution_count": 134,
      "outputs": [
        {
          "output_type": "execute_result",
          "data": {
            "text/plain": [
              "torch.Size([3, 2])"
            ]
          },
          "metadata": {},
          "execution_count": 134
        }
      ]
    },
    {
      "cell_type": "code",
      "source": [
        "# Matrix Multiplcation\n",
        "MAT_PRODUCT = MATRIX_1.matmul(MATRIX_2)\n",
        "MAT_PRODUCT"
      ],
      "metadata": {
        "id": "upFjlzXhz_qh",
        "outputId": "ec8fd75d-f1e4-43d6-9e29-a19954f01437",
        "colab": {
          "base_uri": "https://localhost:8080/"
        }
      },
      "execution_count": 135,
      "outputs": [
        {
          "output_type": "execute_result",
          "data": {
            "text/plain": [
              "tensor([[ 58,  64],\n",
              "        [139, 154]])"
            ]
          },
          "metadata": {},
          "execution_count": 135
        }
      ]
    },
    {
      "cell_type": "code",
      "source": [
        "tensor_A = torch.tensor([[1,2],\n",
        "                        [3,4],\n",
        "                        [5,6]])"
      ],
      "metadata": {
        "id": "8MEKvJNd0VmH"
      },
      "execution_count": 136,
      "outputs": []
    },
    {
      "cell_type": "code",
      "source": [
        "tensor_A.shape"
      ],
      "metadata": {
        "id": "cQUpMb-39TBI",
        "outputId": "e990a3c0-a077-40ea-a1e3-0f68eae527be",
        "colab": {
          "base_uri": "https://localhost:8080/"
        }
      },
      "execution_count": 137,
      "outputs": [
        {
          "output_type": "execute_result",
          "data": {
            "text/plain": [
              "torch.Size([3, 2])"
            ]
          },
          "metadata": {},
          "execution_count": 137
        }
      ]
    },
    {
      "cell_type": "code",
      "source": [
        "tensor_B = torch.tensor([[7,10],\n",
        "                         [8,11],\n",
        "                         [9,12]])\n"
      ],
      "metadata": {
        "id": "xXH7CoOh9Xn7"
      },
      "execution_count": 138,
      "outputs": []
    },
    {
      "cell_type": "code",
      "source": [
        "tensor_B.shape"
      ],
      "metadata": {
        "id": "ZTviJ6299hpW",
        "outputId": "b368917a-73fb-4ea0-f531-981b82ef84c2",
        "colab": {
          "base_uri": "https://localhost:8080/"
        }
      },
      "execution_count": 139,
      "outputs": [
        {
          "output_type": "execute_result",
          "data": {
            "text/plain": [
              "torch.Size([3, 2])"
            ]
          },
          "metadata": {},
          "execution_count": 139
        }
      ]
    },
    {
      "cell_type": "code",
      "source": [
        "# Transpsoing the Tensor_B\n",
        "output = torch.matmul(tensor_A,tensor_B.T)\n",
        "print(output)"
      ],
      "metadata": {
        "id": "PKlWYwfF9kxG",
        "outputId": "3a850322-f186-49b6-eb54-749bb19b45a4",
        "colab": {
          "base_uri": "https://localhost:8080/"
        }
      },
      "execution_count": 140,
      "outputs": [
        {
          "output_type": "stream",
          "name": "stdout",
          "text": [
            "tensor([[ 27,  30,  33],\n",
            "        [ 61,  68,  75],\n",
            "        [ 95, 106, 117]])\n"
          ]
        }
      ]
    },
    {
      "cell_type": "code",
      "source": [
        "print(f\"Orginal Shape: Tensor_A->{tensor_A.shape}, Tensor_B->{tensor_B.shape}\\n\")\n",
        "print(f\"New Shape: Tensor_A(Same as above)->{tensor_A.shape}, Tensor_B-> {tensor_B.T}\\n\")\n",
        "print(f\"Mulatiplying {tensor_A.shape} @ {tensor_B.T}, Inner dimensions match \\n\")\n",
        "output = torch.mm(tensor_A,tensor_B.T)\n",
        "print(f\"Output \\n\")\n",
        "print(output)\n",
        "print(f\"Shape of output->{output.shape}\")"
      ],
      "metadata": {
        "id": "UL8XmdVq92sP",
        "colab": {
          "base_uri": "https://localhost:8080/"
        },
        "outputId": "5aa480d2-17f6-487b-ae04-648203a4e121"
      },
      "execution_count": 141,
      "outputs": [
        {
          "output_type": "stream",
          "name": "stdout",
          "text": [
            "Orginal Shape: Tensor_A->torch.Size([3, 2]), Tensor_B->torch.Size([3, 2])\n",
            "\n",
            "New Shape: Tensor_A(Same as above)->torch.Size([3, 2]), Tensor_B-> tensor([[ 7,  8,  9],\n",
            "        [10, 11, 12]])\n",
            "\n",
            "Mulatiplying torch.Size([3, 2]) @ tensor([[ 7,  8,  9],\n",
            "        [10, 11, 12]]), Inner dimensions match \n",
            "\n",
            "Output \n",
            "\n",
            "tensor([[ 27,  30,  33],\n",
            "        [ 61,  68,  75],\n",
            "        [ 95, 106, 117]])\n",
            "Shape of output->torch.Size([3, 3])\n"
          ]
        }
      ]
    },
    {
      "cell_type": "markdown",
      "source": [
        "# Linear\n",
        "torch.nn.Linear(in_features, out_features, bias=True, device=None, dtype=None)\n",
        "Applies a linear transformation to the incoming data:\n",
        "$$ y = x\\cdot{A^T} + b $$\n",
        "\n"
      ],
      "metadata": {
        "id": "xTtMKhBvYpza"
      }
    },
    {
      "cell_type": "code",
      "source": [
        "# Since the linear layer starts with a random weights matrix, let's make it reproducible\n",
        "torch.manual_seed(42)\n",
        "#Linear\n",
        "torch_random_linear = torch.nn.Linear(in_features=10, #in_feature = Define inner dimension of input\n",
        "                                      out_features=6) # describe outer value\n",
        "# Creating Matrix 2X3\n",
        "tensor_A = torch.randn(2,10)\n",
        "print(\"Size of tensor_A {}\".format(tensor_A.shape))\n",
        "output = torch_random_linear(tensor_A)\n",
        "print(\" Output \\n {}\".format(output))\n",
        "print(\"Output shape {}\".format(output.shape))\n",
        ""
      ],
      "metadata": {
        "id": "qUR2MXiHz9kB",
        "colab": {
          "base_uri": "https://localhost:8080/"
        },
        "outputId": "ceda4350-6259-4c30-ef91-603d8eb386bf"
      },
      "execution_count": 142,
      "outputs": [
        {
          "output_type": "stream",
          "name": "stdout",
          "text": [
            "Size of tensor_A torch.Size([2, 10])\n",
            " Output \n",
            " tensor([[-0.1000,  0.9796, -0.8712,  0.0889,  0.2433, -1.1368],\n",
            "        [ 0.5277, -0.0021,  0.2297,  1.2705,  1.1197,  0.7797]],\n",
            "       grad_fn=<AddmmBackward0>)\n",
            "Output shape torch.Size([2, 6])\n"
          ]
        }
      ]
    },
    {
      "cell_type": "markdown",
      "source": [
        "# Finding the min, max, mean, sum, etc (aggregation)"
      ],
      "metadata": {
        "id": "5oFHwV6SeDlw"
      }
    },
    {
      "cell_type": "code",
      "source": [
        "# create a tensor\n",
        "\n",
        "x= torch.arange(start=10, end=1001, step=20)\n",
        "print(x)\n",
        "print(\"Minimum value: = {}\".format(x.min()))\n",
        "print(\"Maximum value: = {}\".format(x.max()))\n",
        "print(\"Meanvalue: = {}\".format(x.type(dtype=torch.float32).mean())) # Data Type conversion required as mean has float value\n",
        "print(\"Sum: {}\".format(x.sum()))\n",
        "\n"
      ],
      "metadata": {
        "id": "f7_aoeUgeF1W",
        "outputId": "24379f5f-ac9c-43f6-cba4-fa552c5b6bcd",
        "colab": {
          "base_uri": "https://localhost:8080/"
        }
      },
      "execution_count": 143,
      "outputs": [
        {
          "output_type": "stream",
          "name": "stdout",
          "text": [
            "tensor([ 10,  30,  50,  70,  90, 110, 130, 150, 170, 190, 210, 230, 250, 270,\n",
            "        290, 310, 330, 350, 370, 390, 410, 430, 450, 470, 490, 510, 530, 550,\n",
            "        570, 590, 610, 630, 650, 670, 690, 710, 730, 750, 770, 790, 810, 830,\n",
            "        850, 870, 890, 910, 930, 950, 970, 990])\n",
            "Minimum value: = 10\n",
            "Maximum value: = 990\n",
            "Meanvalue: = 500.0\n",
            "Sum: 25000\n"
          ]
        }
      ]
    },
    {
      "cell_type": "markdown",
      "source": [
        "#### We can do the above code with the below method also\n",
        "torch.max(x), torch.min(x), torch.mean(x.type(torch.float32)), torch.sum(x)"
      ],
      "metadata": {
        "id": "G0Hf7vwsf6cJ"
      }
    },
    {
      "cell_type": "code",
      "source": [
        "x = torch.arange(0,100,5)\n",
        "print(\"x:= {}\".format(x))\n",
        "print(\"Min value is: = {}\".format(torch.min(x)))\n",
        "print(\"Max value is: = {}\".format(torch.max(x)))\n",
        "print(\"Mean value is: = {}\".format(torch.mean(x.type(dtype=torch.float32))))\n",
        "print(\"Sum is: = {}\".format(torch.sum(x)))"
      ],
      "metadata": {
        "id": "aj_2l-37gB5m",
        "outputId": "bdca8afd-d450-4397-e7b2-622297a97d16",
        "colab": {
          "base_uri": "https://localhost:8080/"
        }
      },
      "execution_count": 144,
      "outputs": [
        {
          "output_type": "stream",
          "name": "stdout",
          "text": [
            "x:= tensor([ 0,  5, 10, 15, 20, 25, 30, 35, 40, 45, 50, 55, 60, 65, 70, 75, 80, 85,\n",
            "        90, 95])\n",
            "Min value is: = 0\n",
            "Max value is: = 95\n",
            "Mean value is: = 47.5\n",
            "Sum is: = 950\n"
          ]
        }
      ]
    },
    {
      "cell_type": "markdown",
      "source": [
        "# Getting the positional min and max\n",
        "You can also find the index of a tensor where the max or minimum occurs with torch.argmax() and torch.argmin() respectively."
      ],
      "metadata": {
        "id": "rqcLqU93gyYv"
      }
    },
    {
      "cell_type": "code",
      "source": [
        "# creation a tensor\n",
        "random_tensor = torch.arange(2,79,6)\n",
        "# printing the tensor\n",
        "print(random_tensor)\n",
        "# Getting the max value and position of max value\n",
        "print(\"max value: = {} and position of max value: = {}\".\n",
        "      format(torch.max(random_tensor),torch.argmax(random_tensor)))\n",
        "# Getting the min value and position of min value\n",
        "print(\"min value: = {} and position of min value: = {}\".\n",
        "      format(torch.min(random_tensor),torch.argmin(random_tensor)))"
      ],
      "metadata": {
        "id": "7CTwcnr2g5i8",
        "outputId": "ca92f0fd-2e86-45b4-e5ac-bcba238dce1c",
        "colab": {
          "base_uri": "https://localhost:8080/"
        }
      },
      "execution_count": 145,
      "outputs": [
        {
          "output_type": "stream",
          "name": "stdout",
          "text": [
            "tensor([ 2,  8, 14, 20, 26, 32, 38, 44, 50, 56, 62, 68, 74])\n",
            "max value: = 74 and position of max value: = 12\n",
            "min value: = 2 and position of min value: = 0\n"
          ]
        }
      ]
    },
    {
      "cell_type": "markdown",
      "source": [
        "# Change tensor datatype\n",
        "\n",
        "We can change tensor data type by using method torch.tensor.type(dtype=None)"
      ],
      "metadata": {
        "id": "x8FI0eX7kNIu"
      }
    },
    {
      "cell_type": "code",
      "source": [
        "# create a tensor\n",
        "x = torch.tensor([10.0,20.0,30.0,40.0,50.0])\n",
        "x.dtype"
      ],
      "metadata": {
        "id": "lzxXH0iJkgUc",
        "outputId": "a9c18fd4-6421-4483-f6ab-c3a626a1dee8",
        "colab": {
          "base_uri": "https://localhost:8080/"
        }
      },
      "execution_count": 146,
      "outputs": [
        {
          "output_type": "execute_result",
          "data": {
            "text/plain": [
              "torch.float32"
            ]
          },
          "metadata": {},
          "execution_count": 146
        }
      ]
    },
    {
      "cell_type": "code",
      "source": [
        "# Converting above tensor in float_16\n",
        "x_float16 = x.type(dtype=torch.float16)"
      ],
      "metadata": {
        "id": "iOfNTRrDkuCv"
      },
      "execution_count": 147,
      "outputs": []
    },
    {
      "cell_type": "code",
      "source": [
        "x_float16"
      ],
      "metadata": {
        "id": "xIPfMD_SlEvi",
        "outputId": "941e0158-5a23-4f4e-dc0a-66d6b113c905",
        "colab": {
          "base_uri": "https://localhost:8080/"
        }
      },
      "execution_count": 148,
      "outputs": [
        {
          "output_type": "execute_result",
          "data": {
            "text/plain": [
              "tensor([10., 20., 30., 40., 50.], dtype=torch.float16)"
            ]
          },
          "metadata": {},
          "execution_count": 148
        }
      ]
    },
    {
      "cell_type": "code",
      "source": [
        "# Converting x tensor to int\n",
        "x_int8= x.type(torch.int8)\n",
        "x_int8"
      ],
      "metadata": {
        "id": "_5axRbHXlGYx",
        "outputId": "bd05e2a6-ea18-4d4a-e897-d7737915c76d",
        "colab": {
          "base_uri": "https://localhost:8080/"
        }
      },
      "execution_count": 149,
      "outputs": [
        {
          "output_type": "execute_result",
          "data": {
            "text/plain": [
              "tensor([10, 20, 30, 40, 50], dtype=torch.int8)"
            ]
          },
          "metadata": {},
          "execution_count": 149
        }
      ]
    },
    {
      "cell_type": "markdown",
      "source": [
        "# Reshaping, stacking\n",
        "#### torch.reshape(input, shape)====> Reshape the input into shape if compatible, can also use as torch.Tensor.reshape()\n",
        "#### tensor.view() ===> Return the view of original tensor in different view, but share the same data as original tensor\n",
        "#### torch.stack(tensors, dim=0)===> Concatenate a sequience of Tensor along with dimesion, all tensor must have same size"
      ],
      "metadata": {
        "id": "VhTLbVhb8SU1"
      }
    },
    {
      "cell_type": "code",
      "source": [
        "# create a random tensor\n",
        "a = torch.arange(4.)\n",
        "print(\"Original tensor \\n {}\".format(a))\n",
        "print(\"Chnaged shaped \\n{}\".format(torch.reshape(a,(2,2))))\n",
        "b = torch.tensor([[10,20],\n",
        " [30,40]])\n",
        "print(b)\n",
        "print(\"Changed shape \\n {}\".format(torch.reshape(b,(-1,))))\n",
        "c = torch.rand(5,8)\n",
        "print(c)\n",
        "print(\"Changed shaped in 4 X 10 \\n {}\".format(torch.reshape(c,(4,10))))\n",
        "print(\"Changed chape in 2X20 \\n {}\".format(torch.reshape(c,(2,20))))\n",
        "\n",
        "\n"
      ],
      "metadata": {
        "id": "5C8DIU6K9kAI",
        "outputId": "5d52ab3d-21ec-417a-c576-439d62a3f703",
        "colab": {
          "base_uri": "https://localhost:8080/"
        }
      },
      "execution_count": 159,
      "outputs": [
        {
          "output_type": "stream",
          "name": "stdout",
          "text": [
            "Original tensor \n",
            " tensor([0., 1., 2., 3.])\n",
            "Chnaged shaped \n",
            "tensor([[0., 1.],\n",
            "        [2., 3.]])\n",
            "tensor([[10, 20],\n",
            "        [30, 40]])\n",
            "Changed shape \n",
            " tensor([10, 20, 30, 40])\n",
            "tensor([[0.6202, 0.6401, 0.0459, 0.3155, 0.9211, 0.6948, 0.4751, 0.1985],\n",
            "        [0.1941, 0.0521, 0.3370, 0.6689, 0.8188, 0.7308, 0.0580, 0.1993],\n",
            "        [0.4211, 0.9837, 0.5723, 0.3705, 0.7069, 0.3096, 0.1764, 0.8649],\n",
            "        [0.2726, 0.3998, 0.0026, 0.8346, 0.8788, 0.6822, 0.1514, 0.0065],\n",
            "        [0.0939, 0.8729, 0.7401, 0.9208, 0.7619, 0.6265, 0.4951, 0.1197]])\n",
            "Changed shaped in 4 X 10 \n",
            " tensor([[0.6202, 0.6401, 0.0459, 0.3155, 0.9211, 0.6948, 0.4751, 0.1985, 0.1941,\n",
            "         0.0521],\n",
            "        [0.3370, 0.6689, 0.8188, 0.7308, 0.0580, 0.1993, 0.4211, 0.9837, 0.5723,\n",
            "         0.3705],\n",
            "        [0.7069, 0.3096, 0.1764, 0.8649, 0.2726, 0.3998, 0.0026, 0.8346, 0.8788,\n",
            "         0.6822],\n",
            "        [0.1514, 0.0065, 0.0939, 0.8729, 0.7401, 0.9208, 0.7619, 0.6265, 0.4951,\n",
            "         0.1197]])\n",
            "Changed chape in 2X20 \n",
            " tensor([[0.6202, 0.6401, 0.0459, 0.3155, 0.9211, 0.6948, 0.4751, 0.1985, 0.1941,\n",
            "         0.0521, 0.3370, 0.6689, 0.8188, 0.7308, 0.0580, 0.1993, 0.4211, 0.9837,\n",
            "         0.5723, 0.3705],\n",
            "        [0.7069, 0.3096, 0.1764, 0.8649, 0.2726, 0.3998, 0.0026, 0.8346, 0.8788,\n",
            "         0.6822, 0.1514, 0.0065, 0.0939, 0.8729, 0.7401, 0.9208, 0.7619, 0.6265,\n",
            "         0.4951, 0.1197]])\n"
          ]
        }
      ]
    },
    {
      "cell_type": "code",
      "source": [
        "x = torch.arange(1.,7.)\n",
        "print(\"Shape of the tensor {}\".format(x.shape))\n",
        "print(\"Reshape the tensor in 2X3 is \\n {}\".format(torch.reshape(x,(2,3))))"
      ],
      "metadata": {
        "id": "CIJ-8dQPAp5h",
        "outputId": "5ae6df34-3e8d-4b69-8755-4395d0dce442",
        "colab": {
          "base_uri": "https://localhost:8080/"
        }
      },
      "execution_count": 163,
      "outputs": [
        {
          "output_type": "stream",
          "name": "stdout",
          "text": [
            "Shape of the tensor torch.Size([6])\n",
            "Reshape the tensor in 2X3 is \n",
            " tensor([[1., 2., 3.],\n",
            "        [4., 5., 6.]])\n"
          ]
        }
      ]
    },
    {
      "cell_type": "code",
      "source": [
        "# Understading view\n",
        "\n",
        "x= torch.randn(4,4)\n",
        "print(\"Size of Tensor {} \\n\".format(x.size()))\n",
        "y = x.view(16)\n",
        "print (\"Reshape Tensor y is \\n {}\".format(y))\n",
        "print(\"Size of Tensor y is {} \\n\".format(y.shape))\n",
        "z = x.view(-1,8) # the size -1 is inferred from other dimensions\n",
        "print (\"Reshape Tensor z is \\n {}\".format(z))\n",
        "print(\"Shape of Tesnor z is {} \\n\".format(z.shape))\n",
        "a = torch.randn(1,2,3,4)\n",
        "print(\"Tensor a is \\n {}\".format(a))\n",
        "print(\"Size of Tensor a is {} \\n\".format(a.size()))\n",
        "# swape the 2 and 3 elements\n",
        "b = a.transpose(2,3)\n",
        "print(\"Afther swapping Tensor b is \\n {}\".format(b))\n",
        "print(\"Size of Tensor b is {} \\n\".format(b.size()))\n",
        "print(\"Check the Tensor a and b are equal or not {} \\n\".format(torch.equal(a,b)))\n",
        "c = a.view(1,3,2,4)\n",
        "print(\"Afther swapping Tensor c is \\n {}\".format(c))\n",
        "print(\"Size of Tensor c is {} \\n\".format(c.size()))\n",
        "print(\"Check whether Tensor b and c are equals or not {}\\n\".format(torch.equal(c,b)))\n",
        "print(\"Check whether Tensor a and c are equals or not {}\\n\".format(torch.equal(c,a)))"
      ],
      "metadata": {
        "id": "6fARl7wiBwiC",
        "outputId": "8a6411c2-91ee-4673-a7bb-a97b93aed190",
        "colab": {
          "base_uri": "https://localhost:8080/"
        }
      },
      "execution_count": 167,
      "outputs": [
        {
          "output_type": "stream",
          "name": "stdout",
          "text": [
            "Size of Tensor torch.Size([4, 4]) \n",
            "\n",
            "Reshape Tensor y is \n",
            " tensor([-0.0047,  0.0795, -0.4560, -0.0619, -0.2222, -1.2470, -0.4862, -0.3360,\n",
            "        -0.5871,  0.0827,  0.1858, -0.9698,  1.8932,  0.4447,  0.1364,  0.3088])\n",
            "Size of Tensor y is torch.Size([16]) \n",
            "\n",
            "Reshape Tensor z is \n",
            " tensor([[-0.0047,  0.0795, -0.4560, -0.0619, -0.2222, -1.2470, -0.4862, -0.3360],\n",
            "        [-0.5871,  0.0827,  0.1858, -0.9698,  1.8932,  0.4447,  0.1364,  0.3088]])\n",
            "Shape of Tesnor z is torch.Size([2, 8]) \n",
            "\n",
            "Tensor a is \n",
            " tensor([[[[-0.4875,  0.0501,  0.3273,  0.1292],\n",
            "          [ 2.8520, -0.7436,  0.1954, -1.3350],\n",
            "          [ 0.9165, -0.0280, -0.2184,  0.1663]],\n",
            "\n",
            "         [[ 2.1442,  1.7046,  0.3459,  0.6425],\n",
            "          [ 0.9935,  0.5067, -0.1397, -1.1808],\n",
            "          [-1.2829,  0.4485, -0.5907,  0.8541]]]])\n",
            "Size of Tensor a is torch.Size([1, 2, 3, 4]) \n",
            "\n",
            "Afther swapping Tensor b is \n",
            " tensor([[[[-0.4875,  2.8520,  0.9165],\n",
            "          [ 0.0501, -0.7436, -0.0280],\n",
            "          [ 0.3273,  0.1954, -0.2184],\n",
            "          [ 0.1292, -1.3350,  0.1663]],\n",
            "\n",
            "         [[ 2.1442,  0.9935, -1.2829],\n",
            "          [ 1.7046,  0.5067,  0.4485],\n",
            "          [ 0.3459, -0.1397, -0.5907],\n",
            "          [ 0.6425, -1.1808,  0.8541]]]])\n",
            "Size of Tensor b is torch.Size([1, 2, 4, 3]) \n",
            "\n",
            "Check the Tensor a and b are equal or not False \n",
            "\n",
            "Afther swapping Tensor c is \n",
            " tensor([[[[-0.4875,  0.0501,  0.3273,  0.1292],\n",
            "          [ 2.8520, -0.7436,  0.1954, -1.3350]],\n",
            "\n",
            "         [[ 0.9165, -0.0280, -0.2184,  0.1663],\n",
            "          [ 2.1442,  1.7046,  0.3459,  0.6425]],\n",
            "\n",
            "         [[ 0.9935,  0.5067, -0.1397, -1.1808],\n",
            "          [-1.2829,  0.4485, -0.5907,  0.8541]]]])\n",
            "Size of Tensor c is torch.Size([1, 3, 2, 4]) \n",
            "\n",
            "Check whether Tensor b and c are equals or not False\n",
            "\n",
            "Check whether Tensor a and c are equals or not False\n",
            "\n"
          ]
        }
      ]
    },
    {
      "cell_type": "code",
      "source": [],
      "metadata": {
        "id": "HmsUp6FqFo15"
      },
      "execution_count": null,
      "outputs": []
    },
    {
      "cell_type": "code",
      "source": [],
      "metadata": {
        "id": "vdhrzCjmDzIs"
      },
      "execution_count": null,
      "outputs": []
    },
    {
      "cell_type": "code",
      "source": [],
      "metadata": {
        "id": "ab4rJJQ2DNIq"
      },
      "execution_count": null,
      "outputs": []
    },
    {
      "cell_type": "code",
      "source": [],
      "metadata": {
        "id": "_5PvIWtIBcaM"
      },
      "execution_count": null,
      "outputs": []
    },
    {
      "cell_type": "code",
      "source": [],
      "metadata": {
        "id": "Dj59uyupBXka"
      },
      "execution_count": null,
      "outputs": []
    },
    {
      "cell_type": "code",
      "source": [],
      "metadata": {
        "id": "8Sm3ykZSBQnb"
      },
      "execution_count": null,
      "outputs": []
    },
    {
      "cell_type": "code",
      "source": [],
      "metadata": {
        "id": "8-yo6_rJAMXM"
      },
      "execution_count": null,
      "outputs": []
    },
    {
      "cell_type": "code",
      "source": [],
      "metadata": {
        "id": "pL1a2T1j_Bjt"
      },
      "execution_count": null,
      "outputs": []
    },
    {
      "cell_type": "code",
      "source": [],
      "metadata": {
        "id": "eLuRNiqI-zPf"
      },
      "execution_count": null,
      "outputs": []
    },
    {
      "cell_type": "code",
      "source": [],
      "metadata": {
        "id": "q2tHRN-h-Vku"
      },
      "execution_count": null,
      "outputs": []
    },
    {
      "cell_type": "code",
      "source": [],
      "metadata": {
        "id": "BUM_e64wlVyQ"
      },
      "execution_count": 149,
      "outputs": []
    },
    {
      "cell_type": "code",
      "source": [],
      "metadata": {
        "id": "uwTCEAJ3kbBR"
      },
      "execution_count": 149,
      "outputs": []
    },
    {
      "cell_type": "code",
      "source": [],
      "metadata": {
        "id": "AGBSSSHyiUZk"
      },
      "execution_count": 149,
      "outputs": []
    },
    {
      "cell_type": "code",
      "source": [
        "\n"
      ],
      "metadata": {
        "id": "KXtPUDngfk_-"
      },
      "execution_count": 149,
      "outputs": []
    },
    {
      "cell_type": "code",
      "source": [],
      "metadata": {
        "id": "Yhq6L-IebCQK"
      },
      "execution_count": 149,
      "outputs": []
    },
    {
      "cell_type": "code",
      "source": [],
      "metadata": {
        "id": "tRsAKO9Txv5k"
      },
      "execution_count": 149,
      "outputs": []
    },
    {
      "cell_type": "code",
      "source": [],
      "metadata": {
        "id": "9T_OkGwZumig"
      },
      "execution_count": 149,
      "outputs": []
    },
    {
      "cell_type": "code",
      "source": [],
      "metadata": {
        "id": "F9JhWvAjrsPj"
      },
      "execution_count": 149,
      "outputs": []
    },
    {
      "cell_type": "code",
      "source": [],
      "metadata": {
        "id": "kM3VL2jOqiEU"
      },
      "execution_count": 149,
      "outputs": []
    },
    {
      "cell_type": "code",
      "source": [],
      "metadata": {
        "id": "0hVcGsVlgG7M"
      },
      "execution_count": 149,
      "outputs": []
    },
    {
      "cell_type": "code",
      "source": [],
      "metadata": {
        "id": "bXq79qE0xAtb"
      },
      "execution_count": 149,
      "outputs": []
    },
    {
      "cell_type": "code",
      "source": [
        "#"
      ],
      "metadata": {
        "id": "j8l_95rlveq3"
      },
      "execution_count": 150,
      "outputs": []
    },
    {
      "cell_type": "code",
      "source": [],
      "metadata": {
        "id": "5AHLptrAqZBz"
      },
      "execution_count": 150,
      "outputs": []
    }
  ]
}