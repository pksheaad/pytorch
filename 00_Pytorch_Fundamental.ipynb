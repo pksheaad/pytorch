{
  "nbformat": 4,
  "nbformat_minor": 0,
  "metadata": {
    "colab": {
      "provenance": [],
      "authorship_tag": "ABX9TyMAuvpiOyWEqsaoFPNgpQv8",
      "include_colab_link": true
    },
    "kernelspec": {
      "name": "python3",
      "display_name": "Python 3"
    },
    "language_info": {
      "name": "python"
    }
  },
  "cells": [
    {
      "cell_type": "markdown",
      "metadata": {
        "id": "view-in-github",
        "colab_type": "text"
      },
      "source": [
        "<a href=\"https://colab.research.google.com/github/pksheaad/pytorch/blob/main/00_Pytorch_Fundamental.ipynb\" target=\"_parent\"><img src=\"https://colab.research.google.com/assets/colab-badge.svg\" alt=\"Open In Colab\"/></a>"
      ]
    },
    {
      "cell_type": "markdown",
      "source": [
        "## PYTORCH Basic Fundamental"
      ],
      "metadata": {
        "id": "6_sbbmk2eVzh"
      }
    },
    {
      "cell_type": "code",
      "source": [
        "import torch\n",
        "from torch import nn #// nn contains all building block of neural network\n",
        "from matplotlib.pyplot import plot\n",
        "import numpy as np\n",
        "\n",
        "\n",
        "torch.__version__"
      ],
      "metadata": {
        "colab": {
          "base_uri": "https://localhost:8080/",
          "height": 35
        },
        "id": "88jUbyRgeeFl",
        "outputId": "01905b57-32db-46ae-a481-a03597bfc8bd"
      },
      "execution_count": 6,
      "outputs": [
        {
          "output_type": "execute_result",
          "data": {
            "text/plain": [
              "'2.8.0+cu126'"
            ],
            "application/vnd.google.colaboratory.intrinsic+json": {
              "type": "string"
            }
          },
          "metadata": {},
          "execution_count": 6
        }
      ]
    },
    {
      "cell_type": "markdown",
      "source": [
        "### Initializing and basic operations\n",
        "\n",
        "A tensor can be constructed from a Python list or sequence using the torch.tensor() constructor:"
      ],
      "metadata": {
        "id": "DKRXbmB0ik1Z"
      }
    },
    {
      "cell_type": "code",
      "source": [
        "vector = torch.tensor([[1.,-1.],[1.,-1.]])\n",
        "vector"
      ],
      "metadata": {
        "colab": {
          "base_uri": "https://localhost:8080/"
        },
        "id": "QiCoiZiwivKz",
        "outputId": "166b3d76-1263-4ec5-c245-543264e94d9d"
      },
      "execution_count": 7,
      "outputs": [
        {
          "output_type": "execute_result",
          "data": {
            "text/plain": [
              "tensor([[ 1., -1.],\n",
              "        [ 1., -1.]])"
            ]
          },
          "metadata": {},
          "execution_count": 7
        }
      ]
    },
    {
      "cell_type": "code",
      "source": [
        "torch.tensor(np.array(vector))"
      ],
      "metadata": {
        "colab": {
          "base_uri": "https://localhost:8080/"
        },
        "id": "MmcrUEclj6fo",
        "outputId": "3fff162f-64c3-4cfd-9153-8b64570be600"
      },
      "execution_count": 8,
      "outputs": [
        {
          "output_type": "execute_result",
          "data": {
            "text/plain": [
              "tensor([[ 1., -1.],\n",
              "        [ 1., -1.]])"
            ]
          },
          "metadata": {},
          "execution_count": 8
        }
      ]
    },
    {
      "cell_type": "markdown",
      "source": [
        "A tensor of specific data type can be constructed by passing a torch.dtype and/or a torch.device to a constructor or tensor creation op:"
      ],
      "metadata": {
        "id": "43eHgQIek0tl"
      }
    },
    {
      "cell_type": "code",
      "source": [
        "torch.zeros([2,4], dtype=torch.int32, device=\"cpu\")"
      ],
      "metadata": {
        "colab": {
          "base_uri": "https://localhost:8080/"
        },
        "id": "rq113PNbj0aL",
        "outputId": "d41c9bb6-961a-42d0-c0d5-5e139958fd91"
      },
      "execution_count": 9,
      "outputs": [
        {
          "output_type": "execute_result",
          "data": {
            "text/plain": [
              "tensor([[0, 0, 0, 0],\n",
              "        [0, 0, 0, 0]], dtype=torch.int32)"
            ]
          },
          "metadata": {},
          "execution_count": 9
        }
      ]
    },
    {
      "cell_type": "code",
      "source": [
        "#cuda0 = torch.device('cuda:0')\n",
        "torch.ones([3,5], dtype=torch.float64, device=\"cpu\")"
      ],
      "metadata": {
        "colab": {
          "base_uri": "https://localhost:8080/"
        },
        "id": "srYkiiBJlR3y",
        "outputId": "dbbaaec4-3796-4be9-b8a3-932a05e1cfa5"
      },
      "execution_count": 14,
      "outputs": [
        {
          "output_type": "execute_result",
          "data": {
            "text/plain": [
              "tensor([[1., 1., 1., 1., 1.],\n",
              "        [1., 1., 1., 1., 1.],\n",
              "        [1., 1., 1., 1., 1.]], dtype=torch.float64)"
            ]
          },
          "metadata": {},
          "execution_count": 14
        }
      ]
    },
    {
      "cell_type": "markdown",
      "source": [
        "The contents of a tensor can be accessed and modified using Python’s indexing and slicing notation:"
      ],
      "metadata": {
        "id": "Y_8sgV1hmOy3"
      }
    },
    {
      "cell_type": "code",
      "source": [
        "x = torch.tensor([[1,5,8],[3,7,9],[4,5,6]])\n",
        "x\n",
        "print(x[0])\n",
        "print(x[1][2])\n",
        "x[2,2] = 10\n",
        "x"
      ],
      "metadata": {
        "colab": {
          "base_uri": "https://localhost:8080/"
        },
        "id": "tBEkpAaZmQG8",
        "outputId": "efcb3512-dd31-45a6-fc8f-05717a51f802"
      },
      "execution_count": 16,
      "outputs": [
        {
          "output_type": "stream",
          "name": "stdout",
          "text": [
            "tensor([1, 5, 8])\n",
            "tensor(9)\n"
          ]
        },
        {
          "output_type": "execute_result",
          "data": {
            "text/plain": [
              "tensor([[ 1,  5,  8],\n",
              "        [ 3,  7,  9],\n",
              "        [ 4,  5, 10]])"
            ]
          },
          "metadata": {},
          "execution_count": 16
        }
      ]
    },
    {
      "cell_type": "markdown",
      "source": [
        "Use torch.Tensor.item() to get a Python number from a tensor containing a single value:"
      ],
      "metadata": {
        "id": "OVKIG1SIm-aC"
      }
    },
    {
      "cell_type": "code",
      "source": [
        "x = torch.tensor(5)\n",
        "x\n",
        "print(x.item())"
      ],
      "metadata": {
        "colab": {
          "base_uri": "https://localhost:8080/"
        },
        "id": "zVZoZs8qmoY3",
        "outputId": "dd91f24f-c127-43cb-f9ae-77521cc969c1"
      },
      "execution_count": 17,
      "outputs": [
        {
          "output_type": "stream",
          "name": "stdout",
          "text": [
            "5\n"
          ]
        }
      ]
    },
    {
      "cell_type": "code",
      "source": [
        "x = torch.tensor(10.00)\n",
        "print(x)\n",
        "print(x.item())"
      ],
      "metadata": {
        "colab": {
          "base_uri": "https://localhost:8080/"
        },
        "id": "OoBTKY7enIz2",
        "outputId": "0eaaa4b5-a27b-45cb-8e70-430cf18e73ce"
      },
      "execution_count": 18,
      "outputs": [
        {
          "output_type": "stream",
          "name": "stdout",
          "text": [
            "tensor(10.)\n",
            "10.0\n"
          ]
        }
      ]
    },
    {
      "cell_type": "code",
      "source": [
        "scaler = torch.tensor(7)\n",
        "scaler"
      ],
      "metadata": {
        "colab": {
          "base_uri": "https://localhost:8080/"
        },
        "id": "-YSKIwLenTg1",
        "outputId": "19854b68-29ee-4042-ddf6-6b511bbd19c6"
      },
      "execution_count": 19,
      "outputs": [
        {
          "output_type": "execute_result",
          "data": {
            "text/plain": [
              "tensor(7)"
            ]
          },
          "metadata": {},
          "execution_count": 19
        }
      ]
    },
    {
      "cell_type": "markdown",
      "source": [
        "We can check the dimensions of a tensor using the ndim attribute."
      ],
      "metadata": {
        "id": "Anh8ouvYn1LS"
      }
    },
    {
      "cell_type": "code",
      "source": [
        "scaler.ndim"
      ],
      "metadata": {
        "colab": {
          "base_uri": "https://localhost:8080/"
        },
        "id": "xm70XMnLldsO",
        "outputId": "53fdbae5-685a-4a49-b677-013466e3a1e4"
      },
      "execution_count": 20,
      "outputs": [
        {
          "output_type": "execute_result",
          "data": {
            "text/plain": [
              "0"
            ]
          },
          "metadata": {},
          "execution_count": 20
        }
      ]
    },
    {
      "cell_type": "markdown",
      "source": [
        "torch.Tensor to a Python integer can we done by item() method"
      ],
      "metadata": {
        "id": "UxxyNqA9oIUH"
      }
    },
    {
      "cell_type": "code",
      "source": [
        "scaler.item()"
      ],
      "metadata": {
        "colab": {
          "base_uri": "https://localhost:8080/"
        },
        "id": "edvxWMaioPq7",
        "outputId": "da29f42c-a8cd-4867-e943-df69274ec0b8"
      },
      "execution_count": 21,
      "outputs": [
        {
          "output_type": "execute_result",
          "data": {
            "text/plain": [
              "7"
            ]
          },
          "metadata": {},
          "execution_count": 21
        }
      ]
    },
    {
      "cell_type": "code",
      "source": [
        "vector = torch.tensor([7.,7])\n",
        "# dimension of vector\n",
        "print(vector.ndim)\n",
        "# shape of vector, Shapes tells us how the elemnt in the vector are arranged\n",
        "print(vector.shape)"
      ],
      "metadata": {
        "colab": {
          "base_uri": "https://localhost:8080/"
        },
        "id": "UzpVdt-doSzl",
        "outputId": "980a9f5a-a244-4ecc-bed6-89395edcf3e5"
      },
      "execution_count": 22,
      "outputs": [
        {
          "output_type": "stream",
          "name": "stdout",
          "text": [
            "1\n",
            "torch.Size([2])\n"
          ]
        }
      ]
    },
    {
      "cell_type": "code",
      "source": [
        "#MATRIX\n",
        "MATRIX = torch.tensor([[1,2,3],\n",
        "                       [4,5,6],\n",
        "                       [7,8,9]])\n",
        "# Dimension of MATRIX\n",
        "print(MATRIX.ndim)\n",
        "\n",
        "# Shape of MATRIX\n",
        "print(MATRIX.shape)\n",
        "\n",
        "# Accessing element of MATRIX\n",
        "print(MATRIX[0])\n",
        "print(MATRIX[1,1])"
      ],
      "metadata": {
        "colab": {
          "base_uri": "https://localhost:8080/"
        },
        "id": "fHzzEUvFpHDb",
        "outputId": "83df29b6-4b04-48de-aa03-eed7ead63042"
      },
      "execution_count": 23,
      "outputs": [
        {
          "output_type": "stream",
          "name": "stdout",
          "text": [
            "2\n",
            "torch.Size([3, 3])\n",
            "tensor([1, 2, 3])\n",
            "tensor(5)\n"
          ]
        }
      ]
    },
    {
      "cell_type": "code",
      "source": [
        "TENSOR = torch.tensor([[[10,20,30],\n",
        "                        [40,50,60],\n",
        "                        [70,80,90]]])"
      ],
      "metadata": {
        "id": "gR-6sueNpz9V"
      },
      "execution_count": 24,
      "outputs": []
    },
    {
      "cell_type": "code",
      "source": [
        "TENSOR\n",
        "print(TENSOR.ndim)\n",
        "print(TENSOR.shape)\n",
        "print(TENSOR[0][1][2]) # Ans must be 60"
      ],
      "metadata": {
        "colab": {
          "base_uri": "https://localhost:8080/"
        },
        "id": "XVcCf5MwqXYV",
        "outputId": "8d7ec732-e565-43a6-92de-1a813c3e9031"
      },
      "execution_count": 26,
      "outputs": [
        {
          "output_type": "stream",
          "name": "stdout",
          "text": [
            "3\n",
            "torch.Size([1, 3, 3])\n",
            "tensor(60)\n"
          ]
        }
      ]
    },
    {
      "cell_type": "code",
      "source": [],
      "metadata": {
        "id": "RWJpulK7qq40"
      },
      "execution_count": null,
      "outputs": []
    },
    {
      "cell_type": "markdown",
      "source": [
        "#Random tensors\n",
        "\n",
        "A machine learning model often starts out with large random tensors of numbers and adjusts these random numbers as it works through data to better represent it.\n",
        "\n",
        "In essence:\n",
        "\n",
        "Start with random numbers -> look at data -> update random numbers -> look at data -> update random numbers..."
      ],
      "metadata": {
        "id": "OBpsAQ4-u8Mw"
      }
    },
    {
      "cell_type": "code",
      "source": [
        "# Creating a random tensor with scaler data\n",
        "random_tensor = torch.rand(size=(2,))\n",
        "random_tensor\n",
        "\n",
        "# Dimension of random_tensor\n",
        "print(random_tensor.ndim)\n",
        "\n",
        "# Shape of randmon_tensor\n",
        "\n",
        "print(random_tensor.shape)\n"
      ],
      "metadata": {
        "id": "CAQZQOfevL-u",
        "outputId": "b1c13d5b-a19a-4eaf-e30b-4634f7cc956f",
        "colab": {
          "base_uri": "https://localhost:8080/"
        }
      },
      "execution_count": 32,
      "outputs": [
        {
          "output_type": "stream",
          "name": "stdout",
          "text": [
            "1\n",
            "torch.Size([2])\n"
          ]
        }
      ]
    },
    {
      "cell_type": "code",
      "source": [
        "# Creating a random tensor with vector data (3,4)\n",
        "random_tensor_vector = torch.rand(size=(3,4))\n",
        "print(random_tensor_vector)\n",
        "# Dimension of random_tensor_vector\n",
        "print(random_tensor_vector.ndim)\n",
        "# Shape of a random_tensor_vector\n",
        "print(random_tensor_vector.shape)"
      ],
      "metadata": {
        "id": "0yPLck3Yv5-N",
        "outputId": "a207e6a3-2b62-4aa5-99f3-c8e6ff75cd99",
        "colab": {
          "base_uri": "https://localhost:8080/"
        }
      },
      "execution_count": 33,
      "outputs": [
        {
          "output_type": "stream",
          "name": "stdout",
          "text": [
            "tensor([[0.1520, 0.4504, 0.7371, 0.3086],\n",
            "        [0.2718, 0.9645, 0.4150, 0.6766],\n",
            "        [0.3237, 0.0822, 0.7009, 0.3695]])\n",
            "2\n",
            "torch.Size([3, 4])\n"
          ]
        }
      ]
    },
    {
      "cell_type": "code",
      "source": [
        "# How to generate an random image size tensor an Image with 3 different color (R,G,B),width=300 and height=300\n",
        "random_image_size_tensor = torch.rand(3,300,300)\n",
        "random_image_size_tensor"
      ],
      "metadata": {
        "id": "ct30lP5cwhdI",
        "outputId": "948ef93e-5168-4449-dc87-6dfc9b7b60ac",
        "colab": {
          "base_uri": "https://localhost:8080/"
        }
      },
      "execution_count": 34,
      "outputs": [
        {
          "output_type": "execute_result",
          "data": {
            "text/plain": [
              "tensor([[[4.7902e-01, 1.0269e-01, 8.0089e-01,  ..., 5.1597e-01,\n",
              "          5.9018e-01, 2.4137e-01],\n",
              "         [1.4037e-02, 3.8217e-02, 3.3968e-01,  ..., 7.1709e-02,\n",
              "          3.1543e-01, 2.0386e-01],\n",
              "         [2.2526e-01, 7.1643e-01, 4.2901e-01,  ..., 6.6005e-01,\n",
              "          9.1887e-01, 6.3718e-01],\n",
              "         ...,\n",
              "         [9.5134e-01, 9.0304e-02, 7.6485e-01,  ..., 5.6831e-01,\n",
              "          9.9956e-01, 2.5145e-01],\n",
              "         [7.4909e-01, 2.0525e-01, 5.4213e-01,  ..., 4.5902e-01,\n",
              "          1.3874e-01, 5.6403e-01],\n",
              "         [9.0098e-01, 5.1240e-01, 3.9638e-02,  ..., 9.0231e-01,\n",
              "          6.9621e-01, 5.4922e-01]],\n",
              "\n",
              "        [[3.5371e-01, 1.3834e-01, 2.2533e-01,  ..., 5.7735e-01,\n",
              "          7.8355e-01, 3.4634e-01],\n",
              "         [2.5160e-02, 6.3428e-01, 5.5938e-02,  ..., 4.2822e-01,\n",
              "          6.7005e-01, 3.7916e-01],\n",
              "         [2.3007e-04, 6.4180e-01, 2.6304e-01,  ..., 2.6655e-01,\n",
              "          5.4923e-01, 8.8493e-01],\n",
              "         ...,\n",
              "         [2.6186e-01, 4.4487e-01, 3.3100e-01,  ..., 8.5920e-01,\n",
              "          5.0350e-01, 8.9161e-01],\n",
              "         [9.9595e-02, 4.1885e-02, 3.6724e-02,  ..., 2.3218e-01,\n",
              "          4.5259e-01, 3.1623e-01],\n",
              "         [8.7911e-01, 3.3594e-01, 2.1594e-01,  ..., 3.7544e-01,\n",
              "          2.9896e-01, 4.9662e-01]],\n",
              "\n",
              "        [[5.1320e-02, 5.8208e-01, 3.6046e-01,  ..., 1.8575e-01,\n",
              "          4.0454e-01, 4.8172e-01],\n",
              "         [9.8016e-01, 6.1467e-01, 1.3036e-01,  ..., 6.4409e-01,\n",
              "          4.6372e-01, 8.4234e-01],\n",
              "         [6.0881e-01, 7.4857e-01, 5.9950e-01,  ..., 7.8806e-01,\n",
              "          2.1889e-01, 5.2736e-01],\n",
              "         ...,\n",
              "         [8.4505e-01, 1.5102e-01, 5.0540e-01,  ..., 2.6209e-01,\n",
              "          7.8413e-01, 2.8685e-01],\n",
              "         [7.5883e-03, 6.7302e-01, 5.1108e-01,  ..., 2.3733e-01,\n",
              "          5.2542e-01, 4.6273e-01],\n",
              "         [6.0191e-01, 6.7061e-01, 1.8251e-01,  ..., 3.7619e-02,\n",
              "          5.4888e-02, 2.6430e-01]]])"
            ]
          },
          "metadata": {},
          "execution_count": 34
        }
      ]
    },
    {
      "cell_type": "markdown",
      "source": [
        "# Zeros and ones¶\n",
        "\n",
        "torch.zeros(size=)\n",
        "\n",
        "torch.ones(size=)"
      ],
      "metadata": {
        "id": "-7LRvggkx85U"
      }
    },
    {
      "cell_type": "code",
      "source": [
        "zeros = torch.zeros(size=(3,4))\n",
        "zeros"
      ],
      "metadata": {
        "id": "NTESBs9IyK1y",
        "outputId": "5e8d41fd-2a59-4f4b-ddc9-5d83a91a8734",
        "colab": {
          "base_uri": "https://localhost:8080/"
        }
      },
      "execution_count": 35,
      "outputs": [
        {
          "output_type": "execute_result",
          "data": {
            "text/plain": [
              "tensor([[0., 0., 0., 0.],\n",
              "        [0., 0., 0., 0.],\n",
              "        [0., 0., 0., 0.]])"
            ]
          },
          "metadata": {},
          "execution_count": 35
        }
      ]
    },
    {
      "cell_type": "code",
      "source": [
        "zeros.dtype"
      ],
      "metadata": {
        "id": "UdFiidqryTFT",
        "outputId": "b041b6d3-96ad-4907-ba88-43a9b81ddc28",
        "colab": {
          "base_uri": "https://localhost:8080/"
        }
      },
      "execution_count": 36,
      "outputs": [
        {
          "output_type": "execute_result",
          "data": {
            "text/plain": [
              "torch.float32"
            ]
          },
          "metadata": {},
          "execution_count": 36
        }
      ]
    },
    {
      "cell_type": "code",
      "source": [
        "ones = torch.ones(size=(3,4))\n",
        "ones"
      ],
      "metadata": {
        "id": "nVvnQ8styYs4",
        "outputId": "8e715097-7bbd-42aa-aa31-c5cc40a26a17",
        "colab": {
          "base_uri": "https://localhost:8080/"
        }
      },
      "execution_count": 37,
      "outputs": [
        {
          "output_type": "execute_result",
          "data": {
            "text/plain": [
              "tensor([[1., 1., 1., 1.],\n",
              "        [1., 1., 1., 1.],\n",
              "        [1., 1., 1., 1.]])"
            ]
          },
          "metadata": {},
          "execution_count": 37
        }
      ]
    },
    {
      "cell_type": "code",
      "source": [
        "ones.dtype"
      ],
      "metadata": {
        "id": "v-mhe8JpygUa",
        "outputId": "f6093120-b9a7-4728-d803-c971e5ad258f",
        "colab": {
          "base_uri": "https://localhost:8080/"
        }
      },
      "execution_count": 38,
      "outputs": [
        {
          "output_type": "execute_result",
          "data": {
            "text/plain": [
              "torch.float32"
            ]
          },
          "metadata": {},
          "execution_count": 38
        }
      ]
    },
    {
      "cell_type": "code",
      "source": [],
      "metadata": {
        "id": "WTvYZmpjyjwE"
      },
      "execution_count": null,
      "outputs": []
    },
    {
      "cell_type": "code",
      "source": [],
      "metadata": {
        "id": "bXq79qE0xAtb"
      },
      "execution_count": null,
      "outputs": []
    },
    {
      "cell_type": "code",
      "source": [
        "#"
      ],
      "metadata": {
        "id": "j8l_95rlveq3"
      },
      "execution_count": null,
      "outputs": []
    },
    {
      "cell_type": "code",
      "source": [],
      "metadata": {
        "id": "5AHLptrAqZBz"
      },
      "execution_count": null,
      "outputs": []
    }
  ]
}