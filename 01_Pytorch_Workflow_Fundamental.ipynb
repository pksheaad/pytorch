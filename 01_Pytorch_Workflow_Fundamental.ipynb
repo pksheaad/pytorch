{
  "nbformat": 4,
  "nbformat_minor": 0,
  "metadata": {
    "colab": {
      "provenance": []
    },
    "kernelspec": {
      "name": "python3",
      "display_name": "Python 3"
    },
    "language_info": {
      "name": "python"
    }
  },
  "cells": [
    {
      "cell_type": "markdown",
      "source": [
        "# 01. PyTorch Workflow Fundamentals"
      ],
      "metadata": {
        "id": "OO9sEznpIzae"
      }
    },
    {
      "cell_type": "code",
      "source": [
        "what_i_going_to_learn = {1: \"Getting data ready\",\n",
        "                         2: \"Building a model\",\n",
        "                         3: \"Fitting the model to data (training)\",\n",
        "                         4: \"Making predictions and evaluating a model (inference)\",\n",
        "                         5: \"Saving and loading a model\",\n",
        "                         6: \"Putting it all together\"\n",
        "\n",
        "}"
      ],
      "metadata": {
        "id": "ELlFMnx9I1rR"
      },
      "execution_count": 1,
      "outputs": []
    },
    {
      "cell_type": "code",
      "source": [
        "what_i_going_to_learn"
      ],
      "metadata": {
        "colab": {
          "base_uri": "https://localhost:8080/"
        },
        "id": "7lPkJKecJhc-",
        "outputId": "3331f5e9-3ed8-43ba-d7d0-7172233e67f5"
      },
      "execution_count": 2,
      "outputs": [
        {
          "output_type": "execute_result",
          "data": {
            "text/plain": [
              "{1: 'Getting data ready',\n",
              " 2: 'Building a model',\n",
              " 3: 'Fitting the model to data (training)',\n",
              " 4: 'Making predictions and evaluating a model (inference)',\n",
              " 5: 'Saving and loading a model',\n",
              " 6: 'Putting it all together'}"
            ]
          },
          "metadata": {},
          "execution_count": 2
        }
      ]
    },
    {
      "cell_type": "code",
      "source": [
        "import torch\n",
        "from torch import nn\n",
        "import matplotlib.pyplot as plt\n",
        "\n",
        "torch.__version__"
      ],
      "metadata": {
        "colab": {
          "base_uri": "https://localhost:8080/",
          "height": 35
        },
        "id": "70f6gsJwJnBP",
        "outputId": "a3a01029-8169-48fc-a30e-bace2c7d3e99"
      },
      "execution_count": 3,
      "outputs": [
        {
          "output_type": "execute_result",
          "data": {
            "text/plain": [
              "'2.8.0+cu126'"
            ],
            "application/vnd.google.colaboratory.intrinsic+json": {
              "type": "string"
            }
          },
          "metadata": {},
          "execution_count": 3
        }
      ]
    },
    {
      "cell_type": "markdown",
      "source": [
        "## 1. Data (preparing and loading)\n",
        "\n",
        "Machine learning is a game of two parts:\n",
        "\n",
        "1.   Turn your data, whatever it is, into numbers (a representation).\n",
        "2.   Pick or build a model to learn the representation as best as possible.\n",
        "\n",
        "We'll use linear regression to create the data with known **parameters** (things that can be learned by a model) and then we'll use PyTorch to see if we can build model to estimate these **parameters** using gradient descent.\n",
        "\n",
        "y = a + bX"
      ],
      "metadata": {
        "id": "YqIz0ZacKI0M"
      }
    },
    {
      "cell_type": "code",
      "source": [
        "# Create know parameter\n",
        "\n",
        "weight = 0.7 # This is a\n",
        "bias = 0.3 # This is b\n",
        "\n",
        "start = 0\n",
        "end = 1\n",
        "step = 0.02\n",
        "X = torch.arange(start = start, end = end, step = step).unsqueeze(dim=1)\n",
        "print(X[:10])\n",
        "y = weight*X + bias\n",
        "print(y[:10])\n",
        "print(\"lenght of X: {}\".format(len(X)))\n",
        "print(\"length of y : {}\".format(len(y)))"
      ],
      "metadata": {
        "colab": {
          "base_uri": "https://localhost:8080/"
        },
        "id": "ssPxRWXTKvBO",
        "outputId": "b5ef7b1c-3470-43f4-efef-39bdc52b0803"
      },
      "execution_count": 4,
      "outputs": [
        {
          "output_type": "stream",
          "name": "stdout",
          "text": [
            "tensor([[0.0000],\n",
            "        [0.0200],\n",
            "        [0.0400],\n",
            "        [0.0600],\n",
            "        [0.0800],\n",
            "        [0.1000],\n",
            "        [0.1200],\n",
            "        [0.1400],\n",
            "        [0.1600],\n",
            "        [0.1800]])\n",
            "tensor([[0.3000],\n",
            "        [0.3140],\n",
            "        [0.3280],\n",
            "        [0.3420],\n",
            "        [0.3560],\n",
            "        [0.3700],\n",
            "        [0.3840],\n",
            "        [0.3980],\n",
            "        [0.4120],\n",
            "        [0.4260]])\n",
            "lenght of X: 50\n",
            "length of y : 50\n"
          ]
        }
      ]
    },
    {
      "cell_type": "markdown",
      "source": [
        "# Split data into training and test sets\n",
        "We split the X_train and y_train with 80% of actual data also called feature\n",
        "We split X_test and y_test with rest 20% actual data also called label"
      ],
      "metadata": {
        "id": "uRpWwtcKaIDU"
      }
    },
    {
      "cell_type": "code",
      "source": [
        "# Splitting the data into train and test\n",
        "train_split = int(len(X)*0.8)\n",
        "print(train_split)\n",
        "X_train, y_train = X[:train_split],y[:train_split]\n",
        "X_test, y_test = X[train_split:],y[train_split:]\n",
        "len(X_train), len(y_train), len(X_test), len(y_test)"
      ],
      "metadata": {
        "id": "t_UkuN8_LV5g",
        "colab": {
          "base_uri": "https://localhost:8080/"
        },
        "outputId": "51da5171-6349-4fc7-9623-65b47ac28345"
      },
      "execution_count": 5,
      "outputs": [
        {
          "output_type": "stream",
          "name": "stdout",
          "text": [
            "40\n"
          ]
        },
        {
          "output_type": "execute_result",
          "data": {
            "text/plain": [
              "(40, 40, 10, 10)"
            ]
          },
          "metadata": {},
          "execution_count": 5
        }
      ]
    },
    {
      "cell_type": "markdown",
      "source": [
        "# Visualize the data"
      ],
      "metadata": {
        "id": "YMRF9VpPmzF1"
      }
    },
    {
      "cell_type": "code",
      "source": [
        "import matplotlib.pyplot as plt\n",
        "\n",
        "def plot_prediction(train_data = X_train,\n",
        "                    train_labels = y_train,\n",
        "                    test_data = X_test,\n",
        "                    test_label = y_test,\n",
        "                    predictions = None):\n",
        "  '''\n",
        "  Plot tarining, test and prediction data\n",
        "  '''\n",
        "  plt.figure(figsize=(10,7))\n",
        "\n",
        "  # Plot the test data in blue\n",
        "  plt.scatter(train_data, train_labels, c=\"b\", s=4, label = \"Training Data\")\n",
        "\n",
        "  # plot the train data in green\n",
        "  plt.scatter(test_data, test_label, c=\"g\", s=4, label = \"Test Data\")\n",
        "\n",
        "  #plot the prediction in red\n",
        "  if predictions is not None:\n",
        "    plt.scatter(test_label,predictions, c=\"r\", s=4, label =\"Prediction Data\")\n",
        "\n",
        "  # Show the legend\n",
        "\n",
        "  plt.legend()\n",
        "\n",
        "\n",
        "\n",
        "\n"
      ],
      "metadata": {
        "id": "6WKEylr8m1-g"
      },
      "execution_count": 6,
      "outputs": []
    },
    {
      "cell_type": "code",
      "source": [
        "plot_prediction()"
      ],
      "metadata": {
        "id": "cKBy4uoULT6o",
        "colab": {
          "base_uri": "https://localhost:8080/",
          "height": 599
        },
        "outputId": "7d184a44-c000-4622-8508-1abdb72e6497"
      },
      "execution_count": 7,
      "outputs": [
        {
          "output_type": "display_data",
          "data": {
            "text/plain": [
              "<Figure size 1000x700 with 1 Axes>"
            ],
            "image/png": "[encoded data removed]"
          },
          "metadata": {}
        }
      ]
    },
    {
      "cell_type": "markdown",
      "source": [
        "# 2. Build model"
      ],
      "metadata": {
        "id": "ZhzxXlpMzwkS"
      }
    },
    {
      "cell_type": "code",
      "source": [
        "# Create a Linear Regression model class\n",
        "class LinearRegressionModel(nn.Module): # <- almost everything in PyTorch is a nn.Module (think of this as neural network lego blocks)\n",
        "    def __init__(self):\n",
        "        super().__init__()\n",
        "        self.weights = nn.Parameter(torch.randn(1, # <- start with random weights (this will get adjusted as the model learns)\n",
        "                                                dtype=torch.float), # <- PyTorch loves float32 by default\n",
        "                                   requires_grad=True) # <- can we update this value with gradient descent?)\n",
        "\n",
        "        self.bias = nn.Parameter(torch.randn(1, # <- start with random bias (this will get adjusted as the model learns)\n",
        "                                            dtype=torch.float), # <- PyTorch loves float32 by default\n",
        "                                requires_grad=True) # <- can we update this value with gradient descent?))\n",
        "\n",
        "    # Forward defines the computation in the model\n",
        "    def forward(self, x: torch.Tensor) -> torch.Tensor: # <- \"x\" is the input data (e.g. training/testing features)\n",
        "        return self.weights * x + self.bias # <- this is the linear regression formula (y = m*x + b)\n",
        "\n"
      ],
      "metadata": {
        "id": "Civv5hbqzxxH"
      },
      "execution_count": 8,
      "outputs": []
    },
    {
      "cell_type": "markdown",
      "source": [
        "### PyTorch building Model Essentials\n",
        "\n",
        "*torch.nn --> Contains all the building blocks of computation graph(neural network) essencially a series of computations executed in a different way\n",
        "\n",
        "*torch.nn.Model-> A base class for all neural networ module, all the building block of neural network are sub class and must overwrite the forward() method.\n",
        "\n",
        "*torch.nn.parameter-> Stores Tensor that can be used in nn.Model. if required_grade=True (used for updating parameter by gradient descent) then gradients are calculate automatically usually called autograde.\n",
        "\n",
        "*torch.optim()--> Contains various optimazation algorithm (this tells Model parameter store in nn.parameter how to best improve gradient and minimize the loss finction)\n",
        "\n",
        "def forward()--> Method of nn.Model class.This define the data passed to the particulat nn.Model (Like Leanar regression)"
      ],
      "metadata": {
        "id": "5eo_F4Lx4spY"
      }
    },
    {
      "cell_type": "markdown",
      "source": [
        "### Checking the content of Pytorch Model\n",
        "\n",
        "*torch.nn.Model.parametr()--> return the list of parameter used in Model\n",
        "\n",
        "*torch.nn.Model.state_dict()--> get the state (what the model contains) of the model using"
      ],
      "metadata": {
        "id": "Z1ogRcpz_emk"
      }
    },
    {
      "cell_type": "code",
      "source": [
        "# Create a random seed\n",
        "torch.manual_seed(42)\n",
        "\n",
        "# Instantiate the class\n",
        "model_0 = LinearRegressionModel()\n",
        "\n",
        "# Call the parameter\n",
        "model_0.parameters()\n",
        "list(model_0.parameters())"
      ],
      "metadata": {
        "colab": {
          "base_uri": "https://localhost:8080/"
        },
        "id": "QcrobaCr_zx_",
        "outputId": "674fe85b-9b0f-4119-e3a4-b811c93565be"
      },
      "execution_count": 9,
      "outputs": [
        {
          "output_type": "execute_result",
          "data": {
            "text/plain": [
              "[Parameter containing:\n",
              " tensor([0.3367], requires_grad=True),\n",
              " Parameter containing:\n",
              " tensor([0.1288], requires_grad=True)]"
            ]
          },
          "metadata": {},
          "execution_count": 9
        }
      ]
    },
    {
      "cell_type": "code",
      "source": [
        "# Get the state of Model parameters\n",
        "model_0.state_dict()"
      ],
      "metadata": {
        "colab": {
          "base_uri": "https://localhost:8080/"
        },
        "id": "fxLzEyuM7h47",
        "outputId": "72a03c65-6f9a-4166-b3e0-a06c4b285229"
      },
      "execution_count": 10,
      "outputs": [
        {
          "output_type": "execute_result",
          "data": {
            "text/plain": [
              "OrderedDict([('weights', tensor([0.3367])), ('bias', tensor([0.1288]))])"
            ]
          },
          "metadata": {},
          "execution_count": 10
        }
      ]
    },
    {
      "cell_type": "markdown",
      "source": [
        "### Making prediction using torch.inference_mode()\n",
        "\n"
      ],
      "metadata": {
        "id": "o6SuV0frSfF1"
      }
    },
    {
      "cell_type": "code",
      "source": [
        "with torch.inference_mode():\n",
        "  y_preds = model_0(X_test)\n",
        "y_preds"
      ],
      "metadata": {
        "id": "2RACB2bGSodO",
        "outputId": "82d556a9-6a02-4b38-8a51-236da4351a80",
        "colab": {
          "base_uri": "https://localhost:8080/"
        }
      },
      "execution_count": 11,
      "outputs": [
        {
          "output_type": "execute_result",
          "data": {
            "text/plain": [
              "tensor([[0.3982],\n",
              "        [0.4049],\n",
              "        [0.4116],\n",
              "        [0.4184],\n",
              "        [0.4251],\n",
              "        [0.4318],\n",
              "        [0.4386],\n",
              "        [0.4453],\n",
              "        [0.4520],\n",
              "        [0.4588]])"
            ]
          },
          "metadata": {},
          "execution_count": 11
        }
      ]
    },
    {
      "cell_type": "code",
      "source": [
        "print(f\"length of test data {len(X_test)}\")\n",
        "print(f\"length of prediction data {len(y_preds)}\")\n",
        "print(\"Prediction data \\n {y_preds}\")"
      ],
      "metadata": {
        "id": "1gLR5j0dB7X1",
        "outputId": "f9e6edba-2179-4683-d714-a56f36e5ec0a",
        "colab": {
          "base_uri": "https://localhost:8080/"
        }
      },
      "execution_count": 12,
      "outputs": [
        {
          "output_type": "stream",
          "name": "stdout",
          "text": [
            "length of test data 10\n",
            "length of prediction data 10\n",
            "Prediction data \n",
            " {y_preds}\n"
          ]
        }
      ]
    },
    {
      "cell_type": "code",
      "source": [
        "plot_prediction(predictions=y_preds)"
      ],
      "metadata": {
        "id": "6Ldq2ifMTD1V",
        "outputId": "e9864a0c-bd2d-4462-81f8-2b59025fa8f5",
        "colab": {
          "base_uri": "https://localhost:8080/",
          "height": 599
        }
      },
      "execution_count": 13,
      "outputs": [
        {
          "output_type": "display_data",
          "data": {
            "text/plain": [
              "<Figure size 1000x700 with 1 Axes>"
            ],
            "image/png": "[encoded data removed]"
          },
          "metadata": {}
        }
      ]
    },
    {
      "cell_type": "markdown",
      "source": [
        "# Training a Model\n",
        "\n",
        "* **Loss Function:** - Measure how wrong our model prediction(y_preds) and compare the value with respect to test label(y_test). torch.nn has built in funtion loss method\n",
        "Mean absolute error (MAE) for regression problems (torch.nn.L1Loss()).\n",
        "Binary cross entropy for binary classification problems (torch.nn.BCELoss()).\n",
        "\n",
        "* **Optimizer** Tell our model how to update our intern\n",
        "al parameter to minimize the loss. Implement with torch.optim()\n",
        "Stochastic gradient descent (torch.optim.SGD()).\n",
        "Adam optimizer (torch.optim.Adam()\n",
        "\n",
        "\n"
      ],
      "metadata": {
        "id": "YtCx99unpvVv"
      }
    },
    {
      "cell_type": "code",
      "source": [
        "# Create a Loss function\n",
        "Loss_fn = nn.L1Loss()\n",
        "\n",
        "#Create an optimizer\n",
        "optimizer = torch.optim.SGD(params = model_0.parameters(),\n",
        "                         lr = 0.01)"
      ],
      "metadata": {
        "id": "Vxhv7imHsIyL"
      },
      "execution_count": 14,
      "outputs": []
    },
    {
      "cell_type": "markdown",
      "source": [
        "# Buiulding the Traning loop (and a testing loop) in pytorch\n",
        "\n",
        "0. **loop** through the data and do...\n",
        "\n",
        "1. **Forward Pass** : The model goes through all the traning data once to perform forward() **Forward Propagation** [**code==>** model(X_tarin)]\n",
        "\n",
        "2. **Calculate the Loss**: Model output prediction perform how much data is wrong with respect to actual truth. [**code==>** loss = loss_fn(y_preds,y_train)]\n",
        "\n",
        "3. **Zero Gradient** : The otimizer gradient are set to zero (They are accumulated by defualt), so they can be re calculated for specific training step\n",
        "[**code==>** optimizer.zero_gard()]\n",
        "\n",
        "4. **Backward Propagation** : Perform backpropagation on the loss. Compute the gradient of loss with respect every model parameters to be updated(with each parameter \"required_grad=True\")[**code==>** loss.backward()]\n",
        "\n",
        "5. **Gardient descent** : Update the optimizer,Update the parameter with requied_gard = True with respect to loss gradient in order to improve them.\n",
        "[**code==>** optimizer.step()]\n"
      ],
      "metadata": {
        "id": "UGxZ4X9Q745g"
      }
    },
    {
      "cell_type": "code",
      "source": [
        "# Setting Randdom see\n",
        "torch.manual_seed(42)\n",
        "\n",
        "# Set the number of epochs (how many times the model will pass over the training data)\n",
        "\n",
        "epochs = 200\n",
        "\n",
        "# Create an empty list to track the value\n",
        "epoch_count = []\n",
        "train_loss_values = []\n",
        "test_loss_values = []\n",
        "\n",
        "# loop throgh the data\n",
        "for epoch in range(epochs):\n",
        "\n",
        "  # Set the model to train mode\n",
        "  model_0.train()\n",
        "\n",
        "  # 1 Forward pass\n",
        "  y_preds = model_0(X_train)\n",
        "\n",
        "  # 2 Calculate the loss\n",
        "  loss = Loss_fn(y_preds,y_train)\n",
        "\n",
        "  # 3 Zero gradient\n",
        "  optimizer.zero_grad()\n",
        "\n",
        "  # 4 Backword Propagation\n",
        "  loss.backward()\n",
        "\n",
        "  # 5 Gradeint Descent\n",
        "  optimizer.step()\n",
        "\n",
        "\n",
        "### Testing\n",
        "  # put the model in evaluation mode\n",
        "  # turnoff the different setting in model which not required in testing\n",
        "  model_0.eval()\n",
        "  with torch.inference_mode():\n",
        "\n",
        "    # forward pass for test\n",
        "    test_pred = model_0(X_test)\n",
        "\n",
        "    # test loss for test\n",
        "    test_loss = Loss_fn(test_pred,y_test)\n",
        "\n",
        "    if epoch % 20 == 0:\n",
        "       epoch_count.append(epoch)\n",
        "       test_loss_values.append(test_loss)\n",
        "       train_loss_values.append(loss)\n",
        "\n",
        "       print(f\"Epoch: {epoch} | Loss: {loss} Test Loss {test_loss} \\n \")\n",
        "       print(f\"{model_0.state_dict()}\\n\")"
      ],
      "metadata": {
        "id": "6c6sXofoBRxV",
        "colab": {
          "base_uri": "https://localhost:8080/"
        },
        "outputId": "03e8a216-443f-4a37-cfa7-4aa338c2af3e"
      },
      "execution_count": 15,
      "outputs": [
        {
          "output_type": "stream",
          "name": "stdout",
          "text": [
            "Epoch: 0 | Loss: 0.31288138031959534 Test Loss 0.48106518387794495 \n",
            " \n",
            "OrderedDict({'weights': tensor([0.3406]), 'bias': tensor([0.1388])})\n",
            "\n",
            "Epoch: 20 | Loss: 0.08908725529909134 Test Loss 0.21729660034179688 \n",
            " \n",
            "OrderedDict({'weights': tensor([0.4184]), 'bias': tensor([0.3333])})\n",
            "\n",
            "Epoch: 40 | Loss: 0.04543796554207802 Test Loss 0.11360953003168106 \n",
            " \n",
            "OrderedDict({'weights': tensor([0.4748]), 'bias': tensor([0.3868])})\n",
            "\n",
            "Epoch: 60 | Loss: 0.03818932920694351 Test Loss 0.08886633068323135 \n",
            " \n",
            "OrderedDict({'weights': tensor([0.5116]), 'bias': tensor([0.3788])})\n",
            "\n",
            "Epoch: 80 | Loss: 0.03132382780313492 Test Loss 0.07232122868299484 \n",
            " \n",
            "OrderedDict({'weights': tensor([0.5459]), 'bias': tensor([0.3648])})\n",
            "\n",
            "Epoch: 100 | Loss: 0.024458957836031914 Test Loss 0.05646304413676262 \n",
            " \n",
            "OrderedDict({'weights': tensor([0.5800]), 'bias': tensor([0.3503])})\n",
            "\n",
            "Epoch: 120 | Loss: 0.01758546568453312 Test Loss 0.04060482233762741 \n",
            " \n",
            "OrderedDict({'weights': tensor([0.6141]), 'bias': tensor([0.3358])})\n",
            "\n",
            "Epoch: 140 | Loss: 0.010716589167714119 Test Loss 0.024059748277068138 \n",
            " \n",
            "OrderedDict({'weights': tensor([0.6485]), 'bias': tensor([0.3218])})\n",
            "\n",
            "Epoch: 160 | Loss: 0.0038517764769494534 Test Loss 0.008201557211577892 \n",
            " \n",
            "OrderedDict({'weights': tensor([0.6826]), 'bias': tensor([0.3073])})\n",
            "\n",
            "Epoch: 180 | Loss: 0.008932482451200485 Test Loss 0.005023092031478882 \n",
            " \n",
            "OrderedDict({'weights': tensor([0.6951]), 'bias': tensor([0.2993])})\n",
            "\n"
          ]
        }
      ]
    },
    {
      "cell_type": "code",
      "source": [
        "model_0.state_dict()"
      ],
      "metadata": {
        "id": "vyvBmsBJBJ9Y",
        "colab": {
          "base_uri": "https://localhost:8080/"
        },
        "outputId": "d1a2971f-43c4-441a-ab09-774259653dc2"
      },
      "execution_count": 16,
      "outputs": [
        {
          "output_type": "execute_result",
          "data": {
            "text/plain": [
              "OrderedDict([('weights', tensor([0.6990])), ('bias', tensor([0.3093]))])"
            ]
          },
          "metadata": {},
          "execution_count": 16
        }
      ]
    },
    {
      "cell_type": "code",
      "source": [
        "with torch.inference_mode():\n",
        "  y_preds_new = model_0(X_test)\n",
        "y_preds_new"
      ],
      "metadata": {
        "colab": {
          "base_uri": "https://localhost:8080/"
        },
        "id": "-d0mTc6208QH",
        "outputId": "9fffcac6-b29e-48b1-9540-7e276e4e03d9"
      },
      "execution_count": 17,
      "outputs": [
        {
          "output_type": "execute_result",
          "data": {
            "text/plain": [
              "tensor([[0.8685],\n",
              "        [0.8825],\n",
              "        [0.8965],\n",
              "        [0.9105],\n",
              "        [0.9245],\n",
              "        [0.9384],\n",
              "        [0.9524],\n",
              "        [0.9664],\n",
              "        [0.9804],\n",
              "        [0.9944]])"
            ]
          },
          "metadata": {},
          "execution_count": 17
        }
      ]
    },
    {
      "cell_type": "code",
      "source": [
        "plot_prediction(predictions=y_preds_new)"
      ],
      "metadata": {
        "id": "lnpAG7Z44INp",
        "outputId": "d75fd090-5f9a-42b4-9601-80d39d59f53f",
        "colab": {
          "base_uri": "https://localhost:8080/",
          "height": 599
        }
      },
      "execution_count": 18,
      "outputs": [
        {
          "output_type": "display_data",
          "data": {
            "text/plain": [
              "<Figure size 1000x700 with 1 Axes>"
            ],
            "image/png": "[encoded data removed]"
          },
          "metadata": {}
        }
      ]
    },
    {
      "cell_type": "code",
      "source": [
        "# plot the loss curve\n",
        "import numpy as np\n",
        "plt.plot(epoch_count,np.array(torch.tensor(train_loss_values).numpy()),label=\"Train Loss\")\n",
        "plt.plot(epoch_count,np.array(torch.tensor(test_loss_values).numpy()), label=\"Test Loss\")\n",
        "plt.xlabel(\"Epochs\")\n",
        "plt.ylabel(\"Loss\")\n",
        "plt.title(\"Training and Test loss curve\")\n",
        "plt.legend()"
      ],
      "metadata": {
        "id": "oTcFbbzt9RLJ",
        "colab": {
          "base_uri": "https://localhost:8080/",
          "height": 541
        },
        "outputId": "fd012c43-919f-4f5b-b57d-efae1d5995f6"
      },
      "execution_count": 19,
      "outputs": [
        {
          "output_type": "stream",
          "name": "stderr",
          "text": [
            "/tmp/ipython-input-1396564587.py:3: UserWarning: Converting a tensor with requires_grad=True to a scalar may lead to unexpected behavior.\n",
            "Consider using tensor.detach() first. (Triggered internally at /pytorch/torch/csrc/autograd/generated/python_variable_methods.cpp:835.)\n",
            "  plt.plot(epoch_count,np.array(torch.tensor(train_loss_values).numpy()),label=\"Train Loss\")\n"
          ]
        },
        {
          "output_type": "execute_result",
          "data": {
            "text/plain": [
              "<matplotlib.legend.Legend at 0x7f4b7d405370>"
            ]
          },
          "metadata": {},
          "execution_count": 19
        },
        {
          "output_type": "display_data",
          "data": {
            "text/plain": [
              "<Figure size 640x480 with 1 Axes>"
            ],
            "image/png": "[encoded data removed]"
          },
          "metadata": {}
        }
      ]
    },
    {
      "cell_type": "code",
      "source": [
        "# find our model learnd parameter\n",
        "print(\"The model learn the following values from Training \")\n",
        "print(model_0.state_dict())\n",
        "print(\"The original value \")\n",
        "print(f\"weight : {weight} bias : {bias}\")"
      ],
      "metadata": {
        "id": "Y_Slf1JjsnEZ",
        "colab": {
          "base_uri": "https://localhost:8080/"
        },
        "outputId": "fa8b5caf-a4ea-4ba7-e5bf-75dbcfaab592"
      },
      "execution_count": 20,
      "outputs": [
        {
          "output_type": "stream",
          "name": "stdout",
          "text": [
            "The model learn the following values from Training \n",
            "OrderedDict({'weights': tensor([0.6990]), 'bias': tensor([0.3093])})\n",
            "The original value \n",
            "weight : 0.7 bias : 0.3\n"
          ]
        }
      ]
    },
    {
      "cell_type": "markdown",
      "source": [
        "# Saving and loading a PyTorch model\n",
        " **torch.save** ===>Saves a serialized object to disk using Python's pickle utility. Models, tensors and various other Python objects like dictionaries can be saved using torch.save.\n",
        "\n",
        " **torch.load**===>Uses pickle's unpickling features to deserialize and load pickled Python object files (like models, tensors or dictionaries) into memory. You can also set which device to load the object to (CPU, GPU etc).\n",
        "\n",
        " **torch.nn.Module.load_state_dict**===>Loads a model's parameter dictionary (model.state_dict()) using a saved state_dict() object.\n",
        "\n",
        ""
      ],
      "metadata": {
        "id": "6ZvrwPMWIBaJ"
      }
    },
    {
      "cell_type": "code",
      "source": [
        "# saving the Pytorch model\n",
        "from pathlib import Path\n",
        "\n",
        "# Create a Model directory\n",
        "MODEL_PATH = Path(\"model\")\n",
        "MODEL_PATH.mkdir(parents=True, exist_ok=True)\n",
        "\n",
        "# Create a Model save path\n",
        "MODEL_NAME = \"01_pytorch_workflow_model_0.pth\"\n",
        "MODEL_SAVE_PATH = MODEL_PATH / MODEL_NAME\n",
        "\n",
        "print(f\"Model save Path : {MODEL_SAVE_PATH}\")"
      ],
      "metadata": {
        "id": "s2o-dkTpIsww",
        "outputId": "00ab7b75-cdc1-403c-a681-56fe9dc9bf3b",
        "colab": {
          "base_uri": "https://localhost:8080/"
        }
      },
      "execution_count": 21,
      "outputs": [
        {
          "output_type": "stream",
          "name": "stdout",
          "text": [
            "Model save Path : model/01_pytorch_workflow_model_0.pth\n"
          ]
        }
      ]
    },
    {
      "cell_type": "code",
      "source": [],
      "metadata": {
        "id": "PjOCQ3StC-LN"
      },
      "execution_count": 20,
      "outputs": []
    },
    {
      "cell_type": "code",
      "source": [],
      "metadata": {
        "id": "xG2yosbLsi9V"
      },
      "execution_count": 20,
      "outputs": []
    },
    {
      "cell_type": "code",
      "source": [],
      "metadata": {
        "id": "D2Ew3ysFsC3B"
      },
      "execution_count": 20,
      "outputs": []
    },
    {
      "cell_type": "code",
      "source": [],
      "metadata": {
        "id": "mbJ0pjy9r_KT"
      },
      "execution_count": 20,
      "outputs": []
    },
    {
      "cell_type": "code",
      "source": [],
      "metadata": {
        "id": "pfmOa3sVTQki"
      },
      "execution_count": 20,
      "outputs": []
    },
    {
      "cell_type": "code",
      "source": [],
      "metadata": {
        "id": "aCJmYQfJ7ZCC"
      },
      "execution_count": 20,
      "outputs": []
    },
    {
      "cell_type": "code",
      "source": [],
      "metadata": {
        "id": "_hRCf6OiqGar"
      },
      "execution_count": 20,
      "outputs": []
    },
    {
      "cell_type": "code",
      "source": [],
      "metadata": {
        "id": "hwL5azS6KKOM"
      },
      "execution_count": 20,
      "outputs": []
    },
    {
      "cell_type": "code",
      "source": [],
      "metadata": {
        "id": "Cv7Va0iqKE40"
      },
      "execution_count": 20,
      "outputs": []
    },
    {
      "cell_type": "code",
      "execution_count": 20,
      "metadata": {
        "id": "cQ-9jQbDIe7z"
      },
      "outputs": [],
      "source": []
    }
  ]
}