{
  "nbformat": 4,
  "nbformat_minor": 0,
  "metadata": {
    "colab": {
      "provenance": [],
      "authorship_tag": "ABX9TyOKTnRCb+JLudSVeMuz8zY5",
      "include_colab_link": true
    },
    "kernelspec": {
      "name": "python3",
      "display_name": "Python 3"
    },
    "language_info": {
      "name": "python"
    }
  },
  "cells": [
    {
      "cell_type": "markdown",
      "metadata": {
        "id": "view-in-github",
        "colab_type": "text"
      },
      "source": [
        "<a href=\"https://colab.research.google.com/github/pksheaad/pytorch/blob/main/01_Pytorch_Workflow_Fundamental.ipynb\" target=\"_parent\"><img src=\"https://colab.research.google.com/assets/colab-badge.svg\" alt=\"Open In Colab\"/></a>"
      ]
    },
    {
      "cell_type": "markdown",
      "source": [
        "# 01. PyTorch Workflow Fundamentals"
      ],
      "metadata": {
        "id": "OO9sEznpIzae"
      }
    },
    {
      "cell_type": "code",
      "source": [
        "what_i_going_to_learn = {1: \"Getting data ready\",\n",
        "                         2: \"Building a model\",\n",
        "                         3: \"Fitting the model to data (training)\",\n",
        "                         4: \"Making predictions and evaluating a model (inference)\",\n",
        "                         5: \"Saving and loading a model\",\n",
        "                         6: \"Putting it all together\"\n",
        "\n",
        "}"
      ],
      "metadata": {
        "id": "ELlFMnx9I1rR"
      },
      "execution_count": 2,
      "outputs": []
    },
    {
      "cell_type": "code",
      "source": [
        "what_i_going_to_learn"
      ],
      "metadata": {
        "colab": {
          "base_uri": "https://localhost:8080/"
        },
        "id": "7lPkJKecJhc-",
        "outputId": "4fbf2460-a88e-4847-bd23-113abe06fcac"
      },
      "execution_count": 3,
      "outputs": [
        {
          "output_type": "execute_result",
          "data": {
            "text/plain": [
              "{1: 'Getting data ready',\n",
              " 2: 'Building a model',\n",
              " 3: 'Fitting the model to data (training)',\n",
              " 4: 'Making predictions and evaluating a model (inference)',\n",
              " 5: 'Saving and loading a model',\n",
              " 6: 'Putting it all together'}"
            ]
          },
          "metadata": {},
          "execution_count": 3
        }
      ]
    },
    {
      "cell_type": "code",
      "source": [
        "import torch\n",
        "from torch import nn\n",
        "import matplotlib.pyplot as plt\n",
        "\n",
        "torch.__version__"
      ],
      "metadata": {
        "colab": {
          "base_uri": "https://localhost:8080/",
          "height": 35
        },
        "id": "70f6gsJwJnBP",
        "outputId": "55c0ff80-076c-4204-f5c9-491c46bc85f6"
      },
      "execution_count": 4,
      "outputs": [
        {
          "output_type": "execute_result",
          "data": {
            "text/plain": [
              "'2.8.0+cu126'"
            ],
            "application/vnd.google.colaboratory.intrinsic+json": {
              "type": "string"
            }
          },
          "metadata": {},
          "execution_count": 4
        }
      ]
    },
    {
      "cell_type": "markdown",
      "source": [
        "## 1. Data (preparing and loading)\n",
        "\n",
        "Machine learning is a game of two parts:\n",
        "\n",
        "1.   Turn your data, whatever it is, into numbers (a representation).\n",
        "2.   Pick or build a model to learn the representation as best as possible.\n",
        "\n",
        "We'll use linear regression to create the data with known **parameters** (things that can be learned by a model) and then we'll use PyTorch to see if we can build model to estimate these **parameters** using gradient descent.\n",
        "\n",
        "y = a + bX"
      ],
      "metadata": {
        "id": "YqIz0ZacKI0M"
      }
    },
    {
      "cell_type": "code",
      "source": [
        "# Create know parameter\n",
        "\n",
        "weight = 0.7 # This is a\n",
        "bias = 0.3 # This is b\n",
        "\n",
        "start = 0\n",
        "end = 1\n",
        "step = 0.02\n",
        "X = torch.arange(start = start, end = end, step = step).unsqueeze(dim=1)\n",
        "print(X[:10])\n",
        "y = weight + bias*X\n",
        "print(y[:10])\n",
        "print(\"lenght of X: {}\".format(len(X)))\n",
        "print(\"length of y : {}\".format(len(y)))"
      ],
      "metadata": {
        "colab": {
          "base_uri": "https://localhost:8080/"
        },
        "id": "ssPxRWXTKvBO",
        "outputId": "914f1da4-87e2-4d22-8608-aa6572dbee50"
      },
      "execution_count": 11,
      "outputs": [
        {
          "output_type": "stream",
          "name": "stdout",
          "text": [
            "tensor([[0.0000],\n",
            "        [0.0200],\n",
            "        [0.0400],\n",
            "        [0.0600],\n",
            "        [0.0800],\n",
            "        [0.1000],\n",
            "        [0.1200],\n",
            "        [0.1400],\n",
            "        [0.1600],\n",
            "        [0.1800]])\n",
            "tensor([[0.7000],\n",
            "        [0.7060],\n",
            "        [0.7120],\n",
            "        [0.7180],\n",
            "        [0.7240],\n",
            "        [0.7300],\n",
            "        [0.7360],\n",
            "        [0.7420],\n",
            "        [0.7480],\n",
            "        [0.7540]])\n",
            "lenght of X: 50\n",
            "length of y : 50\n"
          ]
        }
      ]
    },
    {
      "cell_type": "code",
      "source": [],
      "metadata": {
        "id": "t_UkuN8_LV5g"
      },
      "execution_count": null,
      "outputs": []
    },
    {
      "cell_type": "code",
      "source": [],
      "metadata": {
        "id": "cKBy4uoULT6o"
      },
      "execution_count": null,
      "outputs": []
    },
    {
      "cell_type": "code",
      "source": [],
      "metadata": {
        "id": "hwL5azS6KKOM"
      },
      "execution_count": null,
      "outputs": []
    },
    {
      "cell_type": "code",
      "source": [],
      "metadata": {
        "id": "Cv7Va0iqKE40"
      },
      "execution_count": null,
      "outputs": []
    },
    {
      "cell_type": "code",
      "execution_count": null,
      "metadata": {
        "id": "cQ-9jQbDIe7z"
      },
      "outputs": [],
      "source": []
    }
  ]
}