{
  "nbformat": 4,
  "nbformat_minor": 0,
  "metadata": {
    "colab": {
      "provenance": []
    },
    "kernelspec": {
      "name": "python3",
      "display_name": "Python 3"
    },
    "language_info": {
      "name": "python"
    }
  },
  "cells": [
    {
      "cell_type": "markdown",
      "source": [
        "# 01. PyTorch Workflow Fundamentals"
      ],
      "metadata": {
        "id": "OO9sEznpIzae"
      }
    },
    {
      "cell_type": "code",
      "source": [
        "what_i_going_to_learn = {1: \"Getting data ready\",\n",
        "                         2: \"Building a model\",\n",
        "                         3: \"Fitting the model to data (training)\",\n",
        "                         4: \"Making predictions and evaluating a model (inference)\",\n",
        "                         5: \"Saving and loading a model\",\n",
        "                         6: \"Putting it all together\"\n",
        "\n",
        "}"
      ],
      "metadata": {
        "id": "ELlFMnx9I1rR"
      },
      "execution_count": null,
      "outputs": []
    },
    {
      "cell_type": "code",
      "source": [
        "what_i_going_to_learn"
      ],
      "metadata": {
        "colab": {
          "base_uri": "https://localhost:8080/"
        },
        "id": "7lPkJKecJhc-",
        "outputId": "aaeea677-fecc-42e2-86d4-4243c312b746"
      },
      "execution_count": null,
      "outputs": [
        {
          "output_type": "execute_result",
          "data": {
            "text/plain": [
              "{1: 'Getting data ready',\n",
              " 2: 'Building a model',\n",
              " 3: 'Fitting the model to data (training)',\n",
              " 4: 'Making predictions and evaluating a model (inference)',\n",
              " 5: 'Saving and loading a model',\n",
              " 6: 'Putting it all together'}"
            ]
          },
          "metadata": {},
          "execution_count": 106
        }
      ]
    },
    {
      "cell_type": "code",
      "source": [
        "import torch\n",
        "from torch import nn\n",
        "import matplotlib.pyplot as plt\n",
        "\n",
        "torch.__version__"
      ],
      "metadata": {
        "colab": {
          "base_uri": "https://localhost:8080/",
          "height": 35
        },
        "id": "70f6gsJwJnBP",
        "outputId": "74ddab11-e122-442e-e61a-3379f07f9665"
      },
      "execution_count": null,
      "outputs": [
        {
          "output_type": "execute_result",
          "data": {
            "text/plain": [
              "'2.8.0+cu126'"
            ],
            "application/vnd.google.colaboratory.intrinsic+json": {
              "type": "string"
            }
          },
          "metadata": {},
          "execution_count": 107
        }
      ]
    },
    {
      "cell_type": "markdown",
      "source": [
        "## 1. Data (preparing and loading)\n",
        "\n",
        "Machine learning is a game of two parts:\n",
        "\n",
        "1.   Turn your data, whatever it is, into numbers (a representation).\n",
        "2.   Pick or build a model to learn the representation as best as possible.\n",
        "\n",
        "We'll use linear regression to create the data with known **parameters** (things that can be learned by a model) and then we'll use PyTorch to see if we can build model to estimate these **parameters** using gradient descent.\n",
        "\n",
        "y = a + bX"
      ],
      "metadata": {
        "id": "YqIz0ZacKI0M"
      }
    },
    {
      "cell_type": "code",
      "source": [
        "# Create know parameter\n",
        "\n",
        "weight = 0.7 # This is a\n",
        "bias = 0.3 # This is b\n",
        "\n",
        "start = 0\n",
        "end = 1\n",
        "step = 0.02\n",
        "X = torch.arange(start = start, end = end, step = step).unsqueeze(dim=1)\n",
        "print(X[:10])\n",
        "y = weight*X + bias\n",
        "print(y[:10])\n",
        "print(\"lenght of X: {}\".format(len(X)))\n",
        "print(\"length of y : {}\".format(len(y)))"
      ],
      "metadata": {
        "colab": {
          "base_uri": "https://localhost:8080/"
        },
        "id": "ssPxRWXTKvBO",
        "outputId": "5a75f7bc-7fa0-47e5-9fb8-9866c7f71fa5"
      },
      "execution_count": null,
      "outputs": [
        {
          "output_type": "stream",
          "name": "stdout",
          "text": [
            "tensor([[0.0000],\n",
            "        [0.0200],\n",
            "        [0.0400],\n",
            "        [0.0600],\n",
            "        [0.0800],\n",
            "        [0.1000],\n",
            "        [0.1200],\n",
            "        [0.1400],\n",
            "        [0.1600],\n",
            "        [0.1800]])\n",
            "tensor([[0.3000],\n",
            "        [0.3140],\n",
            "        [0.3280],\n",
            "        [0.3420],\n",
            "        [0.3560],\n",
            "        [0.3700],\n",
            "        [0.3840],\n",
            "        [0.3980],\n",
            "        [0.4120],\n",
            "        [0.4260]])\n",
            "lenght of X: 50\n",
            "length of y : 50\n"
          ]
        }
      ]
    },
    {
      "cell_type": "markdown",
      "source": [
        "# Split data into training and test sets\n",
        "We split the X_train and y_train with 80% of actual data also called feature\n",
        "We split X_test and y_test with rest 20% actual data also called label"
      ],
      "metadata": {
        "id": "uRpWwtcKaIDU"
      }
    },
    {
      "cell_type": "code",
      "source": [
        "# Splitting the data into train and test\n",
        "train_split = int(len(X)*0.8)\n",
        "print(train_split)\n",
        "X_train, y_train = X[:train_split],y[:train_split]\n",
        "X_test, y_test = X[train_split:],y[train_split:]\n",
        "len(X_train), len(y_train), len(X_test), len(y_test)"
      ],
      "metadata": {
        "id": "t_UkuN8_LV5g",
        "colab": {
          "base_uri": "https://localhost:8080/"
        },
        "outputId": "503e2306-2c3f-4634-ae80-487de0294ddb"
      },
      "execution_count": null,
      "outputs": [
        {
          "output_type": "stream",
          "name": "stdout",
          "text": [
            "40\n"
          ]
        },
        {
          "output_type": "execute_result",
          "data": {
            "text/plain": [
              "(40, 40, 10, 10)"
            ]
          },
          "metadata": {},
          "execution_count": 109
        }
      ]
    },
    {
      "cell_type": "markdown",
      "source": [
        "# Visualize the data"
      ],
      "metadata": {
        "id": "YMRF9VpPmzF1"
      }
    },
    {
      "cell_type": "code",
      "source": [
        "import matplotlib.pyplot as plt\n",
        "\n",
        "def plot_prediction(train_data = X_train,\n",
        "                    train_labels = y_train,\n",
        "                    test_data = X_test,\n",
        "                    test_label = y_test,\n",
        "                    predictions = None):\n",
        "  '''\n",
        "  Plot tarining, test and prediction data\n",
        "  '''\n",
        "  plt.figure(figsize=(10,7))\n",
        "\n",
        "  # Plot the test data in blue\n",
        "  plt.scatter(train_data, train_labels, c=\"b\", s=4, label = \"Training Data\")\n",
        "\n",
        "  # plot the train data in green\n",
        "  plt.scatter(test_data, test_label, c=\"g\", s=4, label = \"Test Data\")\n",
        "\n",
        "  #plot the prediction in red\n",
        "  if predictions is not None:\n",
        "    plt.scatter(test_label,predictions, c=\"r\", s=4, label =\"Prediction Data\")\n",
        "\n",
        "  # Show the legend\n",
        "\n",
        "  plt.legend()\n",
        "\n",
        "\n",
        "\n",
        "\n"
      ],
      "metadata": {
        "id": "6WKEylr8m1-g"
      },
      "execution_count": null,
      "outputs": []
    },
    {
      "cell_type": "code",
      "source": [
        "plot_prediction()"
      ],
      "metadata": {
        "id": "cKBy4uoULT6o",
        "colab": {
          "base_uri": "https://localhost:8080/",
          "height": 599
        },
        "outputId": "9fd8a15e-02e3-4efc-8c55-523721e83cb0"
      },
      "execution_count": null,
      "outputs": [
        {
          "output_type": "display_data",
          "data": {
            "text/plain": [
              "<Figure size 1000x700 with 1 Axes>"
            ],
            "image/png": "[encoded data removed]"
          },
          "metadata": {}
        }
      ]
    },
    {
      "cell_type": "markdown",
      "source": [
        "# 2. Build model"
      ],
      "metadata": {
        "id": "ZhzxXlpMzwkS"
      }
    },
    {
      "cell_type": "code",
      "source": [
        "# Create a Linear Regression model class\n",
        "class LinearRegressionModel(nn.Module): # <- almost everything in PyTorch is a nn.Module (think of this as neural network lego blocks)\n",
        "    def __init__(self):\n",
        "        super().__init__()\n",
        "        self.weights = nn.Parameter(torch.randn(1, # <- start with random weights (this will get adjusted as the model learns)\n",
        "                                                dtype=torch.float), # <- PyTorch loves float32 by default\n",
        "                                   requires_grad=True) # <- can we update this value with gradient descent?)\n",
        "\n",
        "        self.bias = nn.Parameter(torch.randn(1, # <- start with random bias (this will get adjusted as the model learns)\n",
        "                                            dtype=torch.float), # <- PyTorch loves float32 by default\n",
        "                                requires_grad=True) # <- can we update this value with gradient descent?))\n",
        "\n",
        "    # Forward defines the computation in the model\n",
        "    def forward(self, x: torch.Tensor) -> torch.Tensor: # <- \"x\" is the input data (e.g. training/testing features)\n",
        "        return self.weights * x + self.bias # <- this is the linear regression formula (y = m*x + b)\n",
        "\n"
      ],
      "metadata": {
        "id": "Civv5hbqzxxH"
      },
      "execution_count": null,
      "outputs": []
    },
    {
      "cell_type": "markdown",
      "source": [
        "### PyTorch building Model Essentials\n",
        "\n",
        "*torch.nn --> Contains all the building blocks of computation graph(neural network) essencially a series of computations executed in a different way\n",
        "\n",
        "*torch.nn.Model-> A base class for all neural networ module, all the building block of neural network are sub class and must overwrite the forward() method.\n",
        "\n",
        "*torch.nn.parameter-> Stores Tensor that can be used in nn.Model. if required_grade=True (used for updating parameter by gradient descent) then gradients are calculate automatically usually called autograde.\n",
        "\n",
        "*torch.optim()--> Contains various optimazation algorithm (this tells Model parameter store in nn.parameter how to best improve gradient and minimize the loss finction)\n",
        "\n",
        "def forward()--> Method of nn.Model class.This define the data passed to the particulat nn.Model (Like Leanar regression)"
      ],
      "metadata": {
        "id": "5eo_F4Lx4spY"
      }
    },
    {
      "cell_type": "markdown",
      "source": [
        "### Checking the content of Pytorch Model\n",
        "\n",
        "*torch.nn.Model.parametr()--> return the list of parameter used in Model\n",
        "\n",
        "*torch.nn.Model.state_dict()--> get the state (what the model contains) of the model using"
      ],
      "metadata": {
        "id": "Z1ogRcpz_emk"
      }
    },
    {
      "cell_type": "code",
      "source": [
        "# Create a random seed\n",
        "torch.manual_seed(42)\n",
        "\n",
        "# Instantiate the class\n",
        "model_0 = LinearRegressionModel()\n",
        "\n",
        "# Call the parameter\n",
        "model_0.parameters()\n",
        "list(model_0.parameters())"
      ],
      "metadata": {
        "colab": {
          "base_uri": "https://localhost:8080/"
        },
        "id": "QcrobaCr_zx_",
        "outputId": "c3fbae61-4d73-4189-ef3e-eac38d4e5c15"
      },
      "execution_count": null,
      "outputs": [
        {
          "output_type": "execute_result",
          "data": {
            "text/plain": [
              "[Parameter containing:\n",
              " tensor([0.3367], requires_grad=True),\n",
              " Parameter containing:\n",
              " tensor([0.1288], requires_grad=True)]"
            ]
          },
          "metadata": {},
          "execution_count": 113
        }
      ]
    },
    {
      "cell_type": "code",
      "source": [
        "# Get the state of Model parameters\n",
        "model_0.state_dict()"
      ],
      "metadata": {
        "colab": {
          "base_uri": "https://localhost:8080/"
        },
        "id": "fxLzEyuM7h47",
        "outputId": "eac1f4cd-4f66-49dc-d899-a6415a846210"
      },
      "execution_count": null,
      "outputs": [
        {
          "output_type": "execute_result",
          "data": {
            "text/plain": [
              "OrderedDict([('weights', tensor([0.3367])), ('bias', tensor([0.1288]))])"
            ]
          },
          "metadata": {},
          "execution_count": 114
        }
      ]
    },
    {
      "cell_type": "markdown",
      "source": [
        "### Making prediction using torch.inference_mode()\n",
        "\n"
      ],
      "metadata": {
        "id": "o6SuV0frSfF1"
      }
    },
    {
      "cell_type": "code",
      "source": [
        "with torch.inference_mode():\n",
        "  y_preds = model_0(X_test)\n",
        "y_preds"
      ],
      "metadata": {
        "id": "2RACB2bGSodO",
        "outputId": "42b5146f-9d90-49e2-95ed-49710d259111",
        "colab": {
          "base_uri": "https://localhost:8080/"
        }
      },
      "execution_count": null,
      "outputs": [
        {
          "output_type": "execute_result",
          "data": {
            "text/plain": [
              "tensor([[0.3982],\n",
              "        [0.4049],\n",
              "        [0.4116],\n",
              "        [0.4184],\n",
              "        [0.4251],\n",
              "        [0.4318],\n",
              "        [0.4386],\n",
              "        [0.4453],\n",
              "        [0.4520],\n",
              "        [0.4588]])"
            ]
          },
          "metadata": {},
          "execution_count": 115
        }
      ]
    },
    {
      "cell_type": "code",
      "source": [
        "print(f\"length of test data {len(X_test)}\")\n",
        "print(f\"length of prediction data {len(y_preds)}\")\n",
        "print(\"Prediction data \\n {y_preds}\")"
      ],
      "metadata": {
        "id": "1gLR5j0dB7X1",
        "outputId": "c1d0b5cc-9011-4f72-ca74-d5455208a9ed",
        "colab": {
          "base_uri": "https://localhost:8080/"
        }
      },
      "execution_count": null,
      "outputs": [
        {
          "output_type": "stream",
          "name": "stdout",
          "text": [
            "length of test data 10\n",
            "length of prediction data 10\n",
            "Prediction data \n",
            " {y_preds}\n"
          ]
        }
      ]
    },
    {
      "cell_type": "code",
      "source": [
        "plot_prediction(predictions=y_preds)"
      ],
      "metadata": {
        "id": "6Ldq2ifMTD1V",
        "outputId": "63d4993e-37dd-4306-cadd-0258483e1086",
        "colab": {
          "base_uri": "https://localhost:8080/",
          "height": 599
        }
      },
      "execution_count": null,
      "outputs": [
        {
          "output_type": "display_data",
          "data": {
            "text/plain": [
              "<Figure size 1000x700 with 1 Axes>"
            ],
            "image/png": "[encoded data removed]"
          },
          "metadata": {}
        }
      ]
    },
    {
      "cell_type": "markdown",
      "source": [
        "# Training a Model\n",
        "\n",
        "* **Loss Function:** - Measure how wrong our model prediction(y_preds) and compare the value with respect to test label(y_test). torch.nn has built in funtion loss method\n",
        "Mean absolute error (MAE) for regression problems (torch.nn.L1Loss()).\n",
        "Binary cross entropy for binary classification problems (torch.nn.BCELoss()).\n",
        "\n",
        "* **Optimizer** Tell our model how to update our intern\n",
        "al parameter to minimize the loss. Implement with torch.optim()\n",
        "Stochastic gradient descent (torch.optim.SGD()).\n",
        "Adam optimizer (torch.optim.Adam()\n",
        "\n",
        "\n"
      ],
      "metadata": {
        "id": "YtCx99unpvVv"
      }
    },
    {
      "cell_type": "code",
      "source": [
        "# Create a Loss function\n",
        "Loss_fn = nn.L1Loss()\n",
        "\n",
        "#Create an optimizer\n",
        "optimizer = torch.optim.SGD(params = model_0.parameters(),\n",
        "                         lr = 0.01)"
      ],
      "metadata": {
        "id": "Vxhv7imHsIyL"
      },
      "execution_count": null,
      "outputs": []
    },
    {
      "cell_type": "markdown",
      "source": [
        "# Buiulding the Traning loop (and a testing loop) in pytorch\n",
        "\n",
        "0. **loop** through the data and do...\n",
        "\n",
        "1. **Forward Pass** : The model goes through all the traning data once to perform forward() **Forward Propagation** [**code==>** model(X_tarin)]\n",
        "\n",
        "2. **Calculate the Loss**: Model output prediction perform how much data is wrong with respect to actual truth. [**code==>** loss = loss_fn(y_preds,y_train)]\n",
        "\n",
        "3. **Zero Gradient** : The otimizer gradient are set to zero (They are accumulated by defualt), so they can be re calculated for specific training step\n",
        "[**code==>** optimizer.zero_gard()]\n",
        "\n",
        "4. **Backward Propagation** : Perform backpropagation on the loss. Compute the gradient of loss with respect every model parameters to be updated(with each parameter \"required_grad=True\")[**code==>** loss.backward()]\n",
        "\n",
        "5. **Gardient descent** : Update the optimizer,Update the parameter with requied_gard = True with respect to loss gradient in order to improve them.\n",
        "[**code==>** optimizer.step()]\n"
      ],
      "metadata": {
        "id": "UGxZ4X9Q745g"
      }
    },
    {
      "cell_type": "code",
      "source": [
        "# Setting Randdom see\n",
        "torch.manual_seed(42)\n",
        "\n",
        "# Set the number of epochs (how many times the model will pass over the training data)\n",
        "\n",
        "epochs = 100\n",
        "\n",
        "# loop throgh the data\n",
        "for epoch in range(epochs):\n",
        "\n",
        "  # Set the model to train mode\n",
        "  model_0.train()\n",
        "\n",
        "  # 1 Forward pass\n",
        "  y_preds = model_0(X_train)\n",
        "\n",
        "  # 2 Calculate the loss\n",
        "  loss = Loss_fn(y_preds,y_train)\n",
        "\n",
        "  # 3 Zero gradient\n",
        "  optimizer.zero_grad()\n",
        "\n",
        "  # 4 Backword Propagation\n",
        "  loss.backward()\n",
        "\n",
        "  # 5 Gradeint Descent\n",
        "  optimizer.step()\n",
        "\n",
        "\n",
        "### Testing\n",
        "  # put the model in evaluation mode\n",
        "  # turnoff the different setting in model which not required in testing\n",
        "  model_0.eval()\n",
        "  with torch.inference_mode():\n",
        "\n",
        "    # forward pass for test\n",
        "    test_pred = model_0(X_test)\n",
        "\n",
        "    # test loss for test\n",
        "    test_loss = Loss_fn(test_pred,y_test)\n",
        "\n",
        "    if epoch % 20 == 0:\n",
        "       print(f\"Epoch: {epoch} | Loss: {loss} Test Loss {test_loss} \\n \")\n",
        "       print(f\"{model_0.state_dict()}\\n\")"
      ],
      "metadata": {
        "id": "6c6sXofoBRxV",
        "colab": {
          "base_uri": "https://localhost:8080/"
        },
        "outputId": "19e2a4bd-71cd-4fa8-f50c-14201dde4ae1"
      },
      "execution_count": null,
      "outputs": [
        {
          "output_type": "stream",
          "name": "stdout",
          "text": [
            "Epoch: 0 | Loss: 0.31288138031959534 Test Loss 0.48106518387794495 \n",
            " \n",
            "OrderedDict({'weights': tensor([0.3406]), 'bias': tensor([0.1388])})\n",
            "\n",
            "Epoch: 20 | Loss: 0.08908725529909134 Test Loss 0.21729660034179688 \n",
            " \n",
            "OrderedDict({'weights': tensor([0.4184]), 'bias': tensor([0.3333])})\n",
            "\n",
            "Epoch: 40 | Loss: 0.04543796554207802 Test Loss 0.11360953003168106 \n",
            " \n",
            "OrderedDict({'weights': tensor([0.4748]), 'bias': tensor([0.3868])})\n",
            "\n",
            "Epoch: 60 | Loss: 0.03818932920694351 Test Loss 0.08886633068323135 \n",
            " \n",
            "OrderedDict({'weights': tensor([0.5116]), 'bias': tensor([0.3788])})\n",
            "\n",
            "Epoch: 80 | Loss: 0.03132382780313492 Test Loss 0.07232122868299484 \n",
            " \n",
            "OrderedDict({'weights': tensor([0.5459]), 'bias': tensor([0.3648])})\n",
            "\n"
          ]
        }
      ]
    },
    {
      "cell_type": "code",
      "source": [
        "model_0.state_dict()"
      ],
      "metadata": {
        "id": "vyvBmsBJBJ9Y",
        "colab": {
          "base_uri": "https://localhost:8080/"
        },
        "outputId": "9c6311c6-47a0-442a-fc59-59a34621c215"
      },
      "execution_count": null,
      "outputs": [
        {
          "output_type": "execute_result",
          "data": {
            "text/plain": [
              "OrderedDict([('weights', tensor([0.5784])), ('bias', tensor([0.3513]))])"
            ]
          },
          "metadata": {},
          "execution_count": 120
        }
      ]
    },
    {
      "cell_type": "code",
      "source": [
        "with torch.inference_mode():\n",
        "  y_preds_new = model_0(X_test)\n",
        "y_preds_new"
      ],
      "metadata": {
        "colab": {
          "base_uri": "https://localhost:8080/"
        },
        "id": "-d0mTc6208QH",
        "outputId": "5240b9d8-a95b-4e00-aa27-412b1fda1dec"
      },
      "execution_count": null,
      "outputs": [
        {
          "output_type": "execute_result",
          "data": {
            "text/plain": [
              "tensor([[0.8141],\n",
              "        [0.8256],\n",
              "        [0.8372],\n",
              "        [0.8488],\n",
              "        [0.8603],\n",
              "        [0.8719],\n",
              "        [0.8835],\n",
              "        [0.8950],\n",
              "        [0.9066],\n",
              "        [0.9182]])"
            ]
          },
          "metadata": {},
          "execution_count": 121
        }
      ]
    },
    {
      "cell_type": "code",
      "source": [
        "plot_prediction(predictions=y_preds_new)"
      ],
      "metadata": {
        "id": "lnpAG7Z44INp",
        "outputId": "307392b8-75a5-497d-afc5-94f23e270a06",
        "colab": {
          "base_uri": "https://localhost:8080/",
          "height": 599
        }
      },
      "execution_count": null,
      "outputs": [
        {
          "output_type": "display_data",
          "data": {
            "text/plain": [
              "<Figure size 1000x700 with 1 Axes>"
            ],
            "image/png": "[encoded data removed]"
          },
          "metadata": {}
        }
      ]
    },
    {
      "cell_type": "code",
      "source": [],
      "metadata": {
        "id": "oTcFbbzt9RLJ"
      },
      "execution_count": null,
      "outputs": []
    },
    {
      "cell_type": "code",
      "source": [],
      "metadata": {
        "id": "Y_Slf1JjsnEZ"
      },
      "execution_count": null,
      "outputs": []
    },
    {
      "cell_type": "code",
      "source": [],
      "metadata": {
        "id": "xG2yosbLsi9V"
      },
      "execution_count": null,
      "outputs": []
    },
    {
      "cell_type": "code",
      "source": [],
      "metadata": {
        "id": "D2Ew3ysFsC3B"
      },
      "execution_count": null,
      "outputs": []
    },
    {
      "cell_type": "code",
      "source": [],
      "metadata": {
        "id": "mbJ0pjy9r_KT"
      },
      "execution_count": null,
      "outputs": []
    },
    {
      "cell_type": "code",
      "source": [],
      "metadata": {
        "id": "pfmOa3sVTQki"
      },
      "execution_count": null,
      "outputs": []
    },
    {
      "cell_type": "code",
      "source": [],
      "metadata": {
        "id": "aCJmYQfJ7ZCC"
      },
      "execution_count": null,
      "outputs": []
    },
    {
      "cell_type": "code",
      "source": [],
      "metadata": {
        "id": "_hRCf6OiqGar"
      },
      "execution_count": null,
      "outputs": []
    },
    {
      "cell_type": "code",
      "source": [],
      "metadata": {
        "id": "hwL5azS6KKOM"
      },
      "execution_count": null,
      "outputs": []
    },
    {
      "cell_type": "code",
      "source": [],
      "metadata": {
        "id": "Cv7Va0iqKE40"
      },
      "execution_count": null,
      "outputs": []
    },
    {
      "cell_type": "code",
      "execution_count": null,
      "metadata": {
        "id": "cQ-9jQbDIe7z"
      },
      "outputs": [],
      "source": []
    }
  ]
}