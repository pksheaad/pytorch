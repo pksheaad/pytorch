{
  "nbformat": 4,
  "nbformat_minor": 0,
  "metadata": {
    "colab": {
      "provenance": []
    },
    "kernelspec": {
      "name": "python3",
      "display_name": "Python 3"
    },
    "language_info": {
      "name": "python"
    }
  },
  "cells": [
    {
      "cell_type": "markdown",
      "source": [
        "# 01. PyTorch Workflow Fundamentals"
      ],
      "metadata": {
        "id": "OO9sEznpIzae"
      }
    },
    {
      "cell_type": "code",
      "source": [
        "what_i_going_to_learn = {1: \"Getting data ready\",\n",
        "                         2: \"Building a model\",\n",
        "                         3: \"Fitting the model to data (training)\",\n",
        "                         4: \"Making predictions and evaluating a model (inference)\",\n",
        "                         5: \"Saving and loading a model\",\n",
        "                         6: \"Putting it all together\"\n",
        "\n",
        "}"
      ],
      "metadata": {
        "id": "ELlFMnx9I1rR"
      },
      "execution_count": 1,
      "outputs": []
    },
    {
      "cell_type": "code",
      "source": [
        "what_i_going_to_learn"
      ],
      "metadata": {
        "colab": {
          "base_uri": "https://localhost:8080/"
        },
        "id": "7lPkJKecJhc-",
        "outputId": "c63c1114-e647-458c-f3e5-5d46d8e8ff6b"
      },
      "execution_count": 2,
      "outputs": [
        {
          "output_type": "execute_result",
          "data": {
            "text/plain": [
              "{1: 'Getting data ready',\n",
              " 2: 'Building a model',\n",
              " 3: 'Fitting the model to data (training)',\n",
              " 4: 'Making predictions and evaluating a model (inference)',\n",
              " 5: 'Saving and loading a model',\n",
              " 6: 'Putting it all together'}"
            ]
          },
          "metadata": {},
          "execution_count": 2
        }
      ]
    },
    {
      "cell_type": "code",
      "source": [
        "import torch\n",
        "from torch import nn\n",
        "import matplotlib.pyplot as plt\n",
        "\n",
        "torch.__version__"
      ],
      "metadata": {
        "colab": {
          "base_uri": "https://localhost:8080/",
          "height": 35
        },
        "id": "70f6gsJwJnBP",
        "outputId": "ebac064c-fbd2-4ae6-e1e8-6c51a18a1b00"
      },
      "execution_count": 3,
      "outputs": [
        {
          "output_type": "execute_result",
          "data": {
            "text/plain": [
              "'2.8.0+cu126'"
            ],
            "application/vnd.google.colaboratory.intrinsic+json": {
              "type": "string"
            }
          },
          "metadata": {},
          "execution_count": 3
        }
      ]
    },
    {
      "cell_type": "markdown",
      "source": [
        "## 1. Data (preparing and loading)\n",
        "\n",
        "Machine learning is a game of two parts:\n",
        "\n",
        "1.   Turn your data, whatever it is, into numbers (a representation).\n",
        "2.   Pick or build a model to learn the representation as best as possible.\n",
        "\n",
        "We'll use linear regression to create the data with known **parameters** (things that can be learned by a model) and then we'll use PyTorch to see if we can build model to estimate these **parameters** using gradient descent.\n",
        "\n",
        "y = a + bX"
      ],
      "metadata": {
        "id": "YqIz0ZacKI0M"
      }
    },
    {
      "cell_type": "code",
      "source": [
        "# Create know parameter\n",
        "\n",
        "weight = 0.7 # This is a\n",
        "bias = 0.3 # This is b\n",
        "\n",
        "start = 0\n",
        "end = 1\n",
        "step = 0.02\n",
        "X = torch.arange(start = start, end = end, step = step).unsqueeze(dim=1)\n",
        "print(X[:10])\n",
        "y = weight*X + bias\n",
        "print(y[:10])\n",
        "print(\"lenght of X: {}\".format(len(X)))\n",
        "print(\"length of y : {}\".format(len(y)))"
      ],
      "metadata": {
        "colab": {
          "base_uri": "https://localhost:8080/"
        },
        "id": "ssPxRWXTKvBO",
        "outputId": "1b831fd3-fe80-4735-b90a-1267c253822a"
      },
      "execution_count": 17,
      "outputs": [
        {
          "output_type": "stream",
          "name": "stdout",
          "text": [
            "tensor([[0.0000],\n",
            "        [0.0200],\n",
            "        [0.0400],\n",
            "        [0.0600],\n",
            "        [0.0800],\n",
            "        [0.1000],\n",
            "        [0.1200],\n",
            "        [0.1400],\n",
            "        [0.1600],\n",
            "        [0.1800]])\n",
            "tensor([[0.3000],\n",
            "        [0.3140],\n",
            "        [0.3280],\n",
            "        [0.3420],\n",
            "        [0.3560],\n",
            "        [0.3700],\n",
            "        [0.3840],\n",
            "        [0.3980],\n",
            "        [0.4120],\n",
            "        [0.4260]])\n",
            "lenght of X: 50\n",
            "length of y : 50\n"
          ]
        }
      ]
    },
    {
      "cell_type": "markdown",
      "source": [
        "# Split data into training and test sets\n",
        "We split the X_train and y_train with 80% of actual data also called feature\n",
        "We split X_test and y_test with rest 20% actual data also called label"
      ],
      "metadata": {
        "id": "uRpWwtcKaIDU"
      }
    },
    {
      "cell_type": "code",
      "source": [
        "# Splitting the data into train and test\n",
        "train_split = int(len(X)*0.8)\n",
        "print(train_split)\n",
        "X_train, y_train = X[:train_split],y[:train_split]\n",
        "X_test, y_test = X[train_split:],y[train_split:]\n",
        "len(X_train), len(y_train), len(X_test), len(y_test)"
      ],
      "metadata": {
        "id": "t_UkuN8_LV5g",
        "colab": {
          "base_uri": "https://localhost:8080/"
        },
        "outputId": "403f6b26-8f1c-4ab9-ce2f-2894a882faaf"
      },
      "execution_count": 5,
      "outputs": [
        {
          "output_type": "stream",
          "name": "stdout",
          "text": [
            "40\n"
          ]
        },
        {
          "output_type": "execute_result",
          "data": {
            "text/plain": [
              "(40, 40, 10, 10)"
            ]
          },
          "metadata": {},
          "execution_count": 5
        }
      ]
    },
    {
      "cell_type": "markdown",
      "source": [
        "# Visualize the data"
      ],
      "metadata": {
        "id": "YMRF9VpPmzF1"
      }
    },
    {
      "cell_type": "code",
      "source": [
        "import matplotlib.pyplot as plt\n",
        "\n",
        "def plot_prediction(train_data = X_train,\n",
        "                    train_labels = y_train,\n",
        "                    test_data = X_test,\n",
        "                    test_label = y_test,\n",
        "                    predictions = None):\n",
        "  '''\n",
        "  Plot tarining, test and prediction data\n",
        "  '''\n",
        "  plt.figure(figsize=(10,7))\n",
        "\n",
        "  # Plot the test data in blue\n",
        "  plt.scatter(train_data, train_labels, c=\"b\", s=4, label = \"Training Data\")\n",
        "\n",
        "  # plot the train data in green\n",
        "  plt.scatter(test_data, test_label, c=\"g\", s=4, label = \"Test Data\")\n",
        "\n",
        "  #plot the prediction in red\n",
        "  if predictions is not None:\n",
        "    plt.scatter(test_label,predictions, c=\"r\", s=4, label =\"Prediction Data\")\n",
        "\n",
        "  # Show the legend\n",
        "\n",
        "  plt.legend()\n",
        "\n",
        "\n",
        "\n",
        "\n",
        ""
      ],
      "metadata": {
        "id": "6WKEylr8m1-g"
      },
      "execution_count": 16,
      "outputs": []
    },
    {
      "cell_type": "code",
      "source": [
        "plot_prediction()"
      ],
      "metadata": {
        "id": "cKBy4uoULT6o",
        "colab": {
          "base_uri": "https://localhost:8080/",
          "height": 599
        },
        "outputId": "9928fca3-52f4-46ef-fe3e-ac94d04dee88"
      },
      "execution_count": 15,
      "outputs": [
        {
          "output_type": "display_data",
          "data": {
            "text/plain": [
              "<Figure size 1000x700 with 1 Axes>"
            ],
            "image/png": "[encoded data removed]"
          },
          "metadata": {}
        }
      ]
    },
    {
      "cell_type": "markdown",
      "source": [
        "# 2. Build model"
      ],
      "metadata": {
        "id": "ZhzxXlpMzwkS"
      }
    },
    {
      "cell_type": "code",
      "source": [
        "# Create a Line Regression class\n",
        "class LineRegression(nn.Module): # Amost everything in pytorch is nn module,neural networl lego bricks\n",
        "    # Calling __init_- constrcution\n",
        "    def __init__(self):\n",
        "        super().__init__()\n",
        "    self.weights = nn.parameter(torch.rand(1, # start with the randmon weight. It will adjust the value\n",
        "                                           requires_grad= True, #  <- can we update this value with gradient descent?\n",
        "                                           dtype=torch.float32))\n",
        "    self.bias = nn.parameter(torch.rand(1, #satrt with random bias, This will adjust the value\n",
        "                                         requires_grad=True,\n",
        "                                        dtype = torch.float))\n",
        "    # Forward defines the computation in the model\n",
        "    def forward(self, x: torch.tensor) -> torch.tensor:\n",
        "      return self.weights*x + self.bias*\n",
        "\n"
      ],
      "metadata": {
        "id": "Civv5hbqzxxH"
      },
      "execution_count": null,
      "outputs": []
    },
    {
      "cell_type": "code",
      "source": [],
      "metadata": {
        "id": "_hRCf6OiqGar"
      },
      "execution_count": null,
      "outputs": []
    },
    {
      "cell_type": "code",
      "source": [],
      "metadata": {
        "id": "hwL5azS6KKOM"
      },
      "execution_count": 5,
      "outputs": []
    },
    {
      "cell_type": "code",
      "source": [],
      "metadata": {
        "id": "Cv7Va0iqKE40"
      },
      "execution_count": 5,
      "outputs": []
    },
    {
      "cell_type": "code",
      "execution_count": 5,
      "metadata": {
        "id": "cQ-9jQbDIe7z"
      },
      "outputs": [],
      "source": []
    }
  ]
}